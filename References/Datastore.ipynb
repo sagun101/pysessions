{
 "cells": [
  {
   "cell_type": "markdown",
   "metadata": {},
   "source": [
    "# SQLite3\n",
    "---"
   ]
  },
  {
   "cell_type": "markdown",
   "metadata": {},
   "source": [
    "### connect"
   ]
  },
  {
   "cell_type": "code",
   "execution_count": 1,
   "metadata": {
    "collapsed": true
   },
   "outputs": [],
   "source": [
    "import sqlite3"
   ]
  },
  {
   "cell_type": "code",
   "execution_count": 2,
   "metadata": {
    "collapsed": true
   },
   "outputs": [],
   "source": [
    "conn = sqlite3.connect('db.sqlite3')"
   ]
  },
  {
   "cell_type": "code",
   "execution_count": 3,
   "metadata": {
    "collapsed": false
   },
   "outputs": [
    {
     "data": {
      "text/plain": [
       "<sqlite3.Connection at 0x7efd730ebe30>"
      ]
     },
     "execution_count": 3,
     "metadata": {},
     "output_type": "execute_result"
    }
   ],
   "source": [
    "conn"
   ]
  },
  {
   "cell_type": "code",
   "execution_count": 4,
   "metadata": {
    "collapsed": true
   },
   "outputs": [],
   "source": [
    "cur = conn.cursor()"
   ]
  },
  {
   "cell_type": "code",
   "execution_count": 5,
   "metadata": {
    "collapsed": false
   },
   "outputs": [
    {
     "data": {
      "text/plain": [
       "<sqlite3.Cursor at 0x7efd7031e110>"
      ]
     },
     "execution_count": 5,
     "metadata": {},
     "output_type": "execute_result"
    }
   ],
   "source": [
    "cur"
   ]
  },
  {
   "cell_type": "code",
   "execution_count": 6,
   "metadata": {
    "collapsed": false
   },
   "outputs": [
    {
     "data": {
      "text/plain": [
       "<sqlite3.Cursor at 0x7efd7031e110>"
      ]
     },
     "execution_count": 6,
     "metadata": {},
     "output_type": "execute_result"
    }
   ],
   "source": [
    "cur.execute(\"create table users (id integer, username text)\")"
   ]
  },
  {
   "cell_type": "code",
   "execution_count": 7,
   "metadata": {
    "collapsed": false
   },
   "outputs": [
    {
     "data": {
      "text/plain": [
       "<sqlite3.Cursor at 0x7efd7031e110>"
      ]
     },
     "execution_count": 7,
     "metadata": {},
     "output_type": "execute_result"
    }
   ],
   "source": [
    "cur.execute(\"select * from users\")"
   ]
  },
  {
   "cell_type": "code",
   "execution_count": 8,
   "metadata": {
    "collapsed": true
   },
   "outputs": [],
   "source": [
    "cur.fetchone()"
   ]
  },
  {
   "cell_type": "code",
   "execution_count": 9,
   "metadata": {
    "collapsed": false
   },
   "outputs": [
    {
     "data": {
      "text/plain": [
       "<sqlite3.Cursor at 0x7efd7031e110>"
      ]
     },
     "execution_count": 9,
     "metadata": {},
     "output_type": "execute_result"
    }
   ],
   "source": [
    "cur.execute(\"insert into users (id, username) values(1, 'harry')\")"
   ]
  },
  {
   "cell_type": "code",
   "execution_count": 10,
   "metadata": {
    "collapsed": false
   },
   "outputs": [
    {
     "data": {
      "text/plain": [
       "<sqlite3.Cursor at 0x7efd7031e110>"
      ]
     },
     "execution_count": 10,
     "metadata": {},
     "output_type": "execute_result"
    }
   ],
   "source": [
    "cur.execute(\"select * from users\")"
   ]
  },
  {
   "cell_type": "code",
   "execution_count": 11,
   "metadata": {
    "collapsed": false
   },
   "outputs": [
    {
     "data": {
      "text/plain": [
       "[(1, 'harry')]"
      ]
     },
     "execution_count": 11,
     "metadata": {},
     "output_type": "execute_result"
    }
   ],
   "source": [
    "cur.fetchall()"
   ]
  },
  {
   "cell_type": "code",
   "execution_count": 12,
   "metadata": {
    "collapsed": false
   },
   "outputs": [
    {
     "data": {
      "text/plain": [
       "<sqlite3.Cursor at 0x7efd7031e110>"
      ]
     },
     "execution_count": 12,
     "metadata": {},
     "output_type": "execute_result"
    }
   ],
   "source": [
    "sql = \"\"\"\n",
    "INSERT INTO users(id, username) values(2, 'bob'), (3, 'mary'), (4, 'pike')\n",
    "\"\"\"\n",
    "cur.execute(sql)"
   ]
  },
  {
   "cell_type": "code",
   "execution_count": 13,
   "metadata": {
    "collapsed": false
   },
   "outputs": [
    {
     "data": {
      "text/plain": [
       "[(1, 'harry'), (2, 'bob'), (3, 'mary'), (4, 'pike')]"
      ]
     },
     "execution_count": 13,
     "metadata": {},
     "output_type": "execute_result"
    }
   ],
   "source": [
    "cur.execute(\"select * from users\")\n",
    "cur.fetchall()"
   ]
  },
  {
   "cell_type": "code",
   "execution_count": 14,
   "metadata": {
    "collapsed": false
   },
   "outputs": [
    {
     "data": {
      "text/plain": [
       "<sqlite3.Cursor at 0x7efd7031e110>"
      ]
     },
     "execution_count": 14,
     "metadata": {},
     "output_type": "execute_result"
    }
   ],
   "source": [
    "cur.execute(\"select id, username from users where id>2\")"
   ]
  },
  {
   "cell_type": "code",
   "execution_count": 15,
   "metadata": {
    "collapsed": false
   },
   "outputs": [
    {
     "data": {
      "text/plain": [
       "[(3, 'mary'), (4, 'pike')]"
      ]
     },
     "execution_count": 15,
     "metadata": {},
     "output_type": "execute_result"
    }
   ],
   "source": [
    "cur.fetchall()"
   ]
  },
  {
   "cell_type": "code",
   "execution_count": 16,
   "metadata": {
    "collapsed": true
   },
   "outputs": [],
   "source": [
    "from random import randint"
   ]
  },
  {
   "cell_type": "code",
   "execution_count": 18,
   "metadata": {
    "collapsed": false
   },
   "outputs": [
    {
     "data": {
      "text/plain": [
       "9"
      ]
     },
     "execution_count": 18,
     "metadata": {},
     "output_type": "execute_result"
    }
   ],
   "source": [
    "randint(0, 10)"
   ]
  },
  {
   "cell_type": "code",
   "execution_count": 22,
   "metadata": {
    "collapsed": false
   },
   "outputs": [],
   "source": [
    "names = ['Ram', 'Shyam', 'Hari']\n",
    "for idx, name in enumerate([names[randint(0, 2)] for i in range(0, 20)]):\n",
    "    cur.execute(\"insert into users (id, username) values(?, ?)\", (idx + 5, name))"
   ]
  },
  {
   "cell_type": "code",
   "execution_count": 23,
   "metadata": {
    "collapsed": false
   },
   "outputs": [
    {
     "data": {
      "text/plain": [
       "<sqlite3.Cursor at 0x7efd7031e110>"
      ]
     },
     "execution_count": 23,
     "metadata": {},
     "output_type": "execute_result"
    }
   ],
   "source": [
    "cur.execute(\"select count(id) from users\")"
   ]
  },
  {
   "cell_type": "code",
   "execution_count": 24,
   "metadata": {
    "collapsed": false
   },
   "outputs": [
    {
     "data": {
      "text/plain": [
       "[(24,)]"
      ]
     },
     "execution_count": 24,
     "metadata": {},
     "output_type": "execute_result"
    }
   ],
   "source": [
    "cur.fetchall()"
   ]
  },
  {
   "cell_type": "code",
   "execution_count": 25,
   "metadata": {
    "collapsed": false
   },
   "outputs": [
    {
     "data": {
      "text/plain": [
       "(13, 'Ram')"
      ]
     },
     "execution_count": 25,
     "metadata": {},
     "output_type": "execute_result"
    }
   ],
   "source": [
    "cur.execute(\"select id, username from users where id=?\", (13,))\n",
    "cur.fetchone()"
   ]
  },
  {
   "cell_type": "code",
   "execution_count": 26,
   "metadata": {
    "collapsed": false
   },
   "outputs": [
    {
     "data": {
      "text/plain": [
       "<sqlite3.Cursor at 0x7efd7031e110>"
      ]
     },
     "execution_count": 26,
     "metadata": {},
     "output_type": "execute_result"
    }
   ],
   "source": [
    "cur.execute(\"update users set username='Ramesh' where id=?\", (13,))"
   ]
  },
  {
   "cell_type": "code",
   "execution_count": 27,
   "metadata": {
    "collapsed": false
   },
   "outputs": [
    {
     "data": {
      "text/plain": [
       "(13, 'Ramesh')"
      ]
     },
     "execution_count": 27,
     "metadata": {},
     "output_type": "execute_result"
    }
   ],
   "source": [
    "cur.execute(\"select id, username from users where id=?\", (13,))\n",
    "cur.fetchone()"
   ]
  },
  {
   "cell_type": "code",
   "execution_count": 28,
   "metadata": {
    "collapsed": false
   },
   "outputs": [
    {
     "data": {
      "text/plain": [
       "<sqlite3.Cursor at 0x7efd7031e110>"
      ]
     },
     "execution_count": 28,
     "metadata": {},
     "output_type": "execute_result"
    }
   ],
   "source": [
    "cur.execute(\"delete from users where id=?\", (14,))"
   ]
  },
  {
   "cell_type": "code",
   "execution_count": 30,
   "metadata": {
    "collapsed": false
   },
   "outputs": [
    {
     "data": {
      "text/plain": [
       "[(11, 'Hari'),\n",
       " (12, 'Shyam'),\n",
       " (13, 'Ramesh'),\n",
       " (15, 'Hari'),\n",
       " (16, 'Hari'),\n",
       " (17, 'Shyam'),\n",
       " (18, 'Shyam'),\n",
       " (19, 'Shyam'),\n",
       " (20, 'Shyam'),\n",
       " (21, 'Shyam'),\n",
       " (22, 'Ram'),\n",
       " (23, 'Hari'),\n",
       " (24, 'Shyam')]"
      ]
     },
     "execution_count": 30,
     "metadata": {},
     "output_type": "execute_result"
    }
   ],
   "source": [
    "cur.execute(\"select id, username from users where id>?\", (10,))\n",
    "cur.fetchall()"
   ]
  },
  {
   "cell_type": "code",
   "execution_count": 31,
   "metadata": {
    "collapsed": false
   },
   "outputs": [
    {
     "data": {
      "text/plain": [
       "[(24, 'Shyam'),\n",
       " (23, 'Hari'),\n",
       " (22, 'Ram'),\n",
       " (21, 'Shyam'),\n",
       " (20, 'Shyam'),\n",
       " (19, 'Shyam'),\n",
       " (18, 'Shyam'),\n",
       " (17, 'Shyam'),\n",
       " (16, 'Hari'),\n",
       " (15, 'Hari'),\n",
       " (13, 'Ramesh'),\n",
       " (12, 'Shyam'),\n",
       " (11, 'Hari')]"
      ]
     },
     "execution_count": 31,
     "metadata": {},
     "output_type": "execute_result"
    }
   ],
   "source": [
    "cur.execute(\"select id, username from users where id>? order by id desc\", (10,))\n",
    "cur.fetchall()"
   ]
  },
  {
   "cell_type": "code",
   "execution_count": 34,
   "metadata": {
    "collapsed": false
   },
   "outputs": [
    {
     "data": {
      "text/plain": [
       "[(7, 'Hari'),\n",
       " (1, 'Ram'),\n",
       " (1, 'Ramesh'),\n",
       " (10, 'Shyam'),\n",
       " (1, 'bob'),\n",
       " (1, 'harry'),\n",
       " (1, 'mary'),\n",
       " (1, 'pike')]"
      ]
     },
     "execution_count": 34,
     "metadata": {},
     "output_type": "execute_result"
    }
   ],
   "source": [
    "cur.execute(\"select count(id), username from users group by username\")\n",
    "cur.fetchall()"
   ]
  },
  {
   "cell_type": "code",
   "execution_count": 35,
   "metadata": {
    "collapsed": true
   },
   "outputs": [],
   "source": [
    "conn.commit()"
   ]
  },
  {
   "cell_type": "code",
   "execution_count": null,
   "metadata": {
    "collapsed": true
   },
   "outputs": [],
   "source": []
  },
  {
   "cell_type": "markdown",
   "metadata": {},
   "source": [
    "# HDF5\n",
    "---"
   ]
  },
  {
   "cell_type": "code",
   "execution_count": 37,
   "metadata": {
    "collapsed": false
   },
   "outputs": [],
   "source": [
    "import h5py"
   ]
  },
  {
   "cell_type": "code",
   "execution_count": 38,
   "metadata": {
    "collapsed": true
   },
   "outputs": [],
   "source": [
    "import numpy as np"
   ]
  },
  {
   "cell_type": "code",
   "execution_count": 40,
   "metadata": {
    "collapsed": false
   },
   "outputs": [
    {
     "name": "stdout",
     "output_type": "stream",
     "text": [
      "Help on method create_dataset in module h5py._hl.group:\n",
      "\n",
      "create_dataset(name, shape=None, dtype=None, data=None, **kwds) method of h5py._hl.files.File instance\n",
      "    Create a new HDF5 dataset\n",
      "    \n",
      "    name\n",
      "        Name of the dataset (absolute or relative).  Provide None to make\n",
      "        an anonymous dataset.\n",
      "    shape\n",
      "        Dataset shape.  Use \"()\" for scalar datasets.  Required if \"data\"\n",
      "        isn't provided.\n",
      "    dtype\n",
      "        Numpy dtype or string.  If omitted, dtype('f') will be used.\n",
      "        Required if \"data\" isn't provided; otherwise, overrides data\n",
      "        array's dtype.\n",
      "    data\n",
      "        Provide data to initialize the dataset.  If used, you can omit\n",
      "        shape and dtype arguments.\n",
      "    \n",
      "    Keyword-only arguments:\n",
      "    \n",
      "    chunks\n",
      "        (Tuple) Chunk shape, or True to enable auto-chunking.\n",
      "    maxshape\n",
      "        (Tuple) Make the dataset resizable up to this shape.  Use None for\n",
      "        axes you want to be unlimited.\n",
      "    compression\n",
      "        (String or int) Compression strategy.  Legal values are 'gzip',\n",
      "        'szip', 'lzf'.  If an integer in range(10), this indicates gzip\n",
      "        compression level. Otherwise, an integer indicates the number of a\n",
      "        dynamically loaded compression filter.\n",
      "    compression_opts\n",
      "        Compression settings.  This is an integer for gzip, 2-tuple for\n",
      "        szip, etc. If specifying a dynamically loaded compression filter\n",
      "        number, this must be a tuple of values.\n",
      "    scaleoffset\n",
      "        (Integer) Enable scale/offset filter for (usually) lossy\n",
      "        compression of integer or floating-point data. For integer\n",
      "        data, the value of scaleoffset is the number of bits to\n",
      "        retain (pass 0 to let HDF5 determine the minimum number of\n",
      "        bits necessary for lossless compression). For floating point\n",
      "        data, scaleoffset is the number of digits after the decimal\n",
      "        place to retain; stored values thus have absolute error\n",
      "        less than 0.5*10**(-scaleoffset).\n",
      "    shuffle\n",
      "        (T/F) Enable shuffle filter.\n",
      "    fletcher32\n",
      "        (T/F) Enable fletcher32 error detection. Not permitted in\n",
      "        conjunction with the scale/offset filter.\n",
      "    fillvalue\n",
      "        (Scalar) Use this value for uninitialized parts of the dataset.\n",
      "    track_times\n",
      "        (T/F) Enable dataset creation timestamps.\n",
      "\n"
     ]
    }
   ],
   "source": [
    "with h5py.File('data.h5', 'w') as h5:\n",
    "    help(h5.create_dataset)\n",
    "    h5.create_dataset('nparray', data=np.arange(0, 10000000))"
   ]
  },
  {
   "cell_type": "code",
   "execution_count": 42,
   "metadata": {
    "collapsed": false
   },
   "outputs": [
    {
     "name": "stdout",
     "output_type": "stream",
     "text": [
      "<HDF5 dataset \"nparray\": shape (10000000,), type \"<i8\">\n",
      "[      0       1       2 ..., 9999997 9999998 9999999]\n"
     ]
    }
   ],
   "source": [
    "with h5py.File('data.h5', 'r') as h5:\n",
    "    _data = h5.get('nparray')\n",
    "    print(_data)\n",
    "    arr = np.array(_data)\n",
    "    print(arr)"
   ]
  },
  {
   "cell_type": "code",
   "execution_count": null,
   "metadata": {
    "collapsed": true
   },
   "outputs": [],
   "source": []
  },
  {
   "cell_type": "code",
   "execution_count": 43,
   "metadata": {
    "collapsed": false
   },
   "outputs": [
    {
     "name": "stdout",
     "output_type": "stream",
     "text": [
      "ItemsViewHDF5(<HDF5 file \"data.h5\" (mode r)>)\n"
     ]
    }
   ],
   "source": [
    "with h5py.File('data.h5', 'r') as h5:\n",
    "    print(h5.items())"
   ]
  },
  {
   "cell_type": "code",
   "execution_count": 46,
   "metadata": {
    "collapsed": false
   },
   "outputs": [],
   "source": [
    "with h5py.File('data.h5', 'w') as h5:\n",
    "    grp = h5.create_group('dataitems')\n",
    "    grp.create_dataset('item1', data=np.arange(0, 1999999))\n",
    "    \n",
    "    sgrp = h5.create_group('dataitems/images')\n",
    "    sgrp.create_dataset('image1', data=np.arange(0, 886888))"
   ]
  },
  {
   "cell_type": "code",
   "execution_count": 48,
   "metadata": {
    "collapsed": false
   },
   "outputs": [
    {
     "name": "stdout",
     "output_type": "stream",
     "text": [
      "ItemsViewHDF5(<HDF5 file \"data.h5\" (mode r)>)\n",
      "<HDF5 group \"/dataitems\" (2 members)>\n",
      "<HDF5 dataset \"item1\": shape (1999999,), type \"<i8\">\n",
      "<HDF5 dataset \"item1\": shape (1999999,), type \"<i8\">\n"
     ]
    }
   ],
   "source": [
    "with h5py.File('data.h5', 'r') as h5:\n",
    "    print(h5.items())\n",
    "    print(h5.get('dataitems'))\n",
    "    print(h5.get('dataitems').get('item1'))\n",
    "    print(h5.get('dataitems/item1'))"
   ]
  },
  {
   "cell_type": "code",
   "execution_count": null,
   "metadata": {
    "collapsed": true
   },
   "outputs": [],
   "source": []
  }
 ],
 "metadata": {
  "kernelspec": {
   "display_name": "Python 3",
   "language": "python",
   "name": "python3"
  },
  "language_info": {
   "codemirror_mode": {
    "name": "ipython",
    "version": 3
   },
   "file_extension": ".py",
   "mimetype": "text/x-python",
   "name": "python",
   "nbconvert_exporter": "python",
   "pygments_lexer": "ipython3",
   "version": "3.5.2"
  }
 },
 "nbformat": 4,
 "nbformat_minor": 2
}
