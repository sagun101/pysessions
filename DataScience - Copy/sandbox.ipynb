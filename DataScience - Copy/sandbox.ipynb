{
 "cells": [
  {
   "cell_type": "code",
   "execution_count": 22,
   "metadata": {
    "collapsed": false
   },
   "outputs": [],
   "source": [
    "import requests as req\n",
    "from bs4 import BeautifulSoup\n",
    "a=\"https://www.google.com.np/?gws_rd=cr,ssl&ei=it0vWPOpO8yFvQTWu5XYAg\""
   ]
  },
  {
   "cell_type": "code",
   "execution_count": 23,
   "metadata": {
    "collapsed": false
   },
   "outputs": [
    {
     "name": "stdout",
     "output_type": "stream",
     "text": [
      "Help on Response in module requests.models object:\n",
      "\n",
      "class Response(builtins.object)\n",
      " |  The :class:`Response <Response>` object, which contains a\n",
      " |  server's response to an HTTP request.\n",
      " |  \n",
      " |  Methods defined here:\n",
      " |  \n",
      " |  __bool__(self)\n",
      " |      Returns true if :attr:`status_code` is 'OK'.\n",
      " |  \n",
      " |  __getstate__(self)\n",
      " |  \n",
      " |  __init__(self)\n",
      " |      Initialize self.  See help(type(self)) for accurate signature.\n",
      " |  \n",
      " |  __iter__(self)\n",
      " |      Allows you to use a response as an iterator.\n",
      " |  \n",
      " |  __nonzero__(self)\n",
      " |      Returns true if :attr:`status_code` is 'OK'.\n",
      " |  \n",
      " |  __repr__(self)\n",
      " |      Return repr(self).\n",
      " |  \n",
      " |  __setstate__(self, state)\n",
      " |  \n",
      " |  close(self)\n",
      " |      Releases the connection back to the pool. Once this method has been\n",
      " |      called the underlying ``raw`` object must not be accessed again.\n",
      " |      \n",
      " |      *Note: Should not normally need to be called explicitly.*\n",
      " |  \n",
      " |  iter_content(self, chunk_size=1, decode_unicode=False)\n",
      " |      Iterates over the response data.  When stream=True is set on the\n",
      " |      request, this avoids reading the content at once into memory for\n",
      " |      large responses.  The chunk size is the number of bytes it should\n",
      " |      read into memory.  This is not necessarily the length of each item\n",
      " |      returned as decoding can take place.\n",
      " |      \n",
      " |      If decode_unicode is True, content will be decoded using the best\n",
      " |      available encoding based on the response.\n",
      " |  \n",
      " |  iter_lines(self, chunk_size=512, decode_unicode=None, delimiter=None)\n",
      " |      Iterates over the response data, one line at a time.  When\n",
      " |      stream=True is set on the request, this avoids reading the\n",
      " |      content at once into memory for large responses.\n",
      " |      \n",
      " |      .. note:: This method is not reentrant safe.\n",
      " |  \n",
      " |  json(self, **kwargs)\n",
      " |      Returns the json-encoded content of a response, if any.\n",
      " |      \n",
      " |      :param \\*\\*kwargs: Optional arguments that ``json.loads`` takes.\n",
      " |  \n",
      " |  raise_for_status(self)\n",
      " |      Raises stored :class:`HTTPError`, if one occurred.\n",
      " |  \n",
      " |  ----------------------------------------------------------------------\n",
      " |  Data descriptors defined here:\n",
      " |  \n",
      " |  __dict__\n",
      " |      dictionary for instance variables (if defined)\n",
      " |  \n",
      " |  __weakref__\n",
      " |      list of weak references to the object (if defined)\n",
      " |  \n",
      " |  apparent_encoding\n",
      " |      The apparent encoding, provided by the chardet library\n",
      " |  \n",
      " |  content\n",
      " |      Content of the response, in bytes.\n",
      " |  \n",
      " |  is_permanent_redirect\n",
      " |      True if this Response one of the permanent versions of redirect\n",
      " |  \n",
      " |  is_redirect\n",
      " |      True if this Response is a well-formed HTTP redirect that could have\n",
      " |      been processed automatically (by :meth:`Session.resolve_redirects`).\n",
      " |  \n",
      " |  links\n",
      " |      Returns the parsed header links of the response, if any.\n",
      " |  \n",
      " |  ok\n",
      " |  \n",
      " |  text\n",
      " |      Content of the response, in unicode.\n",
      " |      \n",
      " |      If Response.encoding is None, encoding will be guessed using\n",
      " |      ``chardet``.\n",
      " |      \n",
      " |      The encoding of the response content is determined based solely on HTTP\n",
      " |      headers, following RFC 2616 to the letter. If you can take advantage of\n",
      " |      non-HTTP knowledge to make a better guess at the encoding, you should\n",
      " |      set ``r.encoding`` appropriately before accessing this property.\n",
      " |  \n",
      " |  ----------------------------------------------------------------------\n",
      " |  Data and other attributes defined here:\n",
      " |  \n",
      " |  __attrs__ = ['_content', 'status_code', 'headers', 'url', 'history', '...\n",
      "\n"
     ]
    }
   ],
   "source": [
    "help(req.get(a))"
   ]
  },
  {
   "cell_type": "code",
   "execution_count": 24,
   "metadata": {
    "collapsed": true
   },
   "outputs": [],
   "source": [
    "content= req.get(a)"
   ]
  },
  {
   "cell_type": "code",
   "execution_count": 25,
   "metadata": {
    "collapsed": false
   },
   "outputs": [
    {
     "data": {
      "text/plain": [
       "<Response [200]>"
      ]
     },
     "execution_count": 25,
     "metadata": {},
     "output_type": "execute_result"
    }
   ],
   "source": [
    "content"
   ]
  },
  {
   "cell_type": "code",
   "execution_count": 26,
   "metadata": {
    "collapsed": true
   },
   "outputs": [],
   "source": [
    "text=content.text"
   ]
  },
  {
   "cell_type": "code",
   "execution_count": 27,
   "metadata": {
    "collapsed": false
   },
   "outputs": [
    {
     "data": {
      "text/plain": [
       "'<!doctype html><html itemscope=\"\" itemtype=\"http://schema.org/WebPage\" lang=\"ne\"><head><meta content=\"text/html; charset=UTF-8\" http-equiv=\"Content-Type\"><meta content=\"/images/branding/googleg/1x/googleg_standard_color_128dp.png\" itemprop=\"image\"><title>Google</title><script>(function(){window.google={kEI:\\'Ft8vWIjMM8nMvgTV4a_QCQ\\',kEXPI:\\'750721,1351903,1352083,3700312,4029815,4031109,4032678,4036527,4038012,4039268,4043492,4045841,4048347,4063220,4065786,4068550,4069838,4069840,4070144,4071842,4072364,4072602,4072773,4073405,4073959,4076095,4076316,4076931,4076999,4078010,4078430,4078438,4078457,4078605,4078762,4079105,4079626,4079894,4080167,4080629,4081037,4081039,4081265,4081279,4081487,4082217,4082219,4082309,4082403,4082618,4082939,4083030,4083282,4083353,4083476,4084255,4084276,4084343,4084366,4084956,4085009,4085477,4085628,4085769,4086171,4086696,4086789,4086819,4086832,4086863,4086985,4087054,4087057,4087112,4087179,4087709,4087715,4088345,8300273,8300471,8502184,8503585,8504846,8504934,8505150,8505152,8505259,8506340,8506398,8506477,8506615,8507380,8507643,8507689,8507846,8507897,8507911,8508060,8508177,8508229,8508313,8508351,8508395,8508421,8508564,8508935,10200083\\',authuser:0,kscs:\\'c9c918f0_24\\'};google.kHL=\\'ne\\';})();(function(){google.lc=[];google.li=0;google.getEI=function(a){for(var b;a&&(!a.getAttribute||!(b=a.getAttribute(\"eid\")));)a=a.parentNode;return b||google.kEI};google.getLEI=function(a){for(var b=null;a&&(!a.getAttribute||!(b=a.getAttribute(\"leid\")));)a=a.parentNode;return b};google.https=function(){return\"https:\"==window.location.protocol};google.ml=function(){return null};google.wl=function(a,b){try{google.ml(Error(a),!1,b)}catch(c){}};google.time=function(){return(new Date).getTime()};google.log=function(a,b,c,e,g){a=google.logUrl(a,b,c,e,g);if(\"\"!=a){b=new Image;var d=google.lc,f=google.li;d[f]=b;b.onerror=b.onload=b.onabort=function(){delete d[f]};window.google&&window.google.vel&&window.google.vel.lu&&window.google.vel.lu(a);b.src=a;google.li=f+1}};google.logUrl=function(a,b,c,e,g){var d=\"\",f=google.ls||\"\";if(!c&&-1==b.search(\"&ei=\")){var h=google.getEI(e),d=\"&ei=\"+h;-1==b.search(\"&lei=\")&&((e=google.getLEI(e))?d+=\"&lei=\"+e:h!=google.kEI&&(d+=\"&lei=\"+google.kEI))}a=c||\"/\"+(g||\"gen_204\")+\"?atyp=i&ct=\"+a+\"&cad=\"+b+d+f+\"&zx=\"+google.time();/^http:/i.test(a)&&google.https()&&(google.ml(Error(\"a\"),!1,{src:a,glmm:1}),a=\"\");return a};google.y={};google.x=function(a,b){google.y[a.id]=[a,b];return!1};google.lq=[];google.load=function(a,b,c){google.lq.push([[a],b,c])};google.loadAll=function(a,b){google.lq.push([a,b])};})();var a=window.location,b=a.href.indexOf(\"#\");if(0<=b){var c=a.href.substring(b+1);/(^|&)q=/.test(c)&&-1==c.indexOf(\"#\")&&a.replace(\"/search?\"+c.replace(/(^|&)fp=[^&]*/g,\"\")+\"&cad=h\")};</script><style>#gbar,#guser{font-size:13px;padding-top:1px !important;}#gbar{height:22px}#guser{padding-bottom:7px !important;text-align:right}.gbh,.gbd{border-top:1px solid #c9d7f1;font-size:1px}.gbh{height:0;position:absolute;top:24px;width:100%}@media all{.gb1{height:22px;margin-right:.5em;vertical-align:top}#gbar{float:left}}a.gb1,a.gb4{text-decoration:underline !important}a.gb1,a.gb4{color:#00c !important}.gbi .gb4{color:#dd8e27 !important}.gbf .gb4{color:#900 !important}\\n</style><style>body,td,a,p,.h{font-family:arial,sans-serif}body{margin:0;overflow-y:scroll}#gog{padding:3px 8px 0}td{line-height:.8em}.gac_m td{line-height:17px}form{margin-bottom:20px}.h{color:#36c}.q{color:#00c}.ts td{padding:0}.ts{border-collapse:collapse}em{font-weight:bold;font-style:normal}.lst{height:25px;width:496px}.gsfi,.lst{font:18px arial,sans-serif}.gsfs{font:17px arial,sans-serif}.ds{display:inline-box;display:inline-block;margin:3px 0 4px;margin-left:4px}input{font-family:inherit}a.gb1,a.gb2,a.gb3,a.gb4{color:#11c !important}body{background:#fff;color:black}a{color:#11c;text-decoration:none}a:hover,a:active{text-decoration:underline}.fl a{color:#36c}a:visited{color:#551a8b}a.gb1,a.gb4{text-decoration:underline}a.gb3:hover{text-decoration:none}#ghead a.gb2:hover{color:#fff !important}.sblc{padding-top:5px}.sblc a{display:block;margin:2px 0;margin-left:13px;font-size:11px}.lsbb{background:#eee;border:solid 1px;border-color:#ccc #999 #999 #ccc;height:30px}.lsbb{display:block}.ftl,#fll a{display:inline-block;margin:0 12px}.lsb{background:url(/images/nav_logo229.png) 0 -261px repeat-x;border:none;color:#000;cursor:pointer;height:30px;margin:0;outline:0;font:15px arial,sans-serif;vertical-align:top}.lsb:active{background:#ccc}.lst:focus{outline:none}.tiah{width:458px}</style><script></script><link href=\"/images/branding/product/ico/googleg_lodp.ico\" rel=\"shortcut icon\"></head><body bgcolor=\"#fff\"><script>(function(){var src=\\'/images/nav_logo229.png\\';var iesg=false;document.body.onload = function(){window.n && window.n();if (document.images){new Image().src=src;}\\nif (!iesg){document.f&&document.f.q.focus();document.gbqf&&document.gbqf.q.focus();}\\n}\\n})();</script><div id=\"mngb\"> <div id=gbar><nobr><b class=gb1>खोज</b> <a class=gb1 href=\"https://www.google.com.np/imghp?hl=ne&tab=wi\">तस्बिर</a> <a class=gb1 href=\"https://maps.google.com.np/maps?hl=ne&tab=wl\">नक्सा</a> <a class=gb1 href=\"https://mail.google.com/mail/?tab=wm\">जीमेल</a> <a class=gb1 href=\"https://drive.google.com/?tab=wo\">ड्राइभ</a> <a class=gb1 href=\"https://www.google.com/calendar?tab=wc\">पात्रो</a> <a class=gb1 href=\"https://translate.google.com.np/?hl=ne&tab=wT\">अनुबाद गर्नुहोस्</a> <a class=gb1 href=\"https://www.blogger.com/?tab=wj\">ब्लगर</a> <a class=gb1 style=\"text-decoration:none\" href=\"https://www.google.com.np/intl/en/options/\"><u>थप</u> &raquo;</a></nobr></div><div id=guser width=100%><nobr><span id=gbn class=gbi></span><span id=gbf class=gbf></span><span id=gbe></span><a href=\"http://www.google.com.np/history/optout?hl=ne\" class=gb4>वेब इतिहास</a> | <a  href=\"/preferences?hl=ne\" class=gb4>प्राथमिकताहरू</a> | <a target=_top id=gb_70 href=\"https://accounts.google.com/ServiceLogin?hl=ne&passive=true&continue=https://www.google.com.np/%3Fgws_rd%3Dcr,ssl%26ei%3Dit0vWPOpO8yFvQTWu5XYAg\" class=gb4>साइन इन</a></nobr></div><div class=gbh style=left:0></div><div class=gbh style=right:0></div> </div><center><br clear=\"all\" id=\"lgpd\"><div id=\"lga\"><div style=\"padding:28px 0 3px\"><div style=\"height:110px;width:276px;background:url(/images/branding/googlelogo/1x/googlelogo_white_background_color_272x92dp.png) no-repeat\" title=\"Google\" align=\"left\" id=\"hplogo\" onload=\"window.lol&&lol()\"><div style=\"color:#777;font-size:16px;font-weight:bold;position:relative;top:70px;left:218px\" nowrap=\"\">\\ufeffनेपाल</div></div></div><br></div><form action=\"/search\" name=\"f\"><table cellpadding=\"0\" cellspacing=\"0\"><tr valign=\"top\"><td width=\"25%\">&nbsp;</td><td align=\"center\" nowrap=\"\"><input value=\"ne\" name=\"hl\" type=\"hidden\"><input name=\"source\" type=\"hidden\" value=\"hp\"><input name=\"biw\" type=\"hidden\"><input name=\"bih\" type=\"hidden\"><div class=\"ds\" style=\"height:32px;margin:4px 0\"><div style=\"position:relative;zoom:1\"><input style=\"color:#000;margin:0;padding:5px 8px 0 6px;vertical-align:top;padding-right:38px\" autocomplete=\"off\" class=\"lst tiah\" value=\"\" title=\"Google खोजी\" maxlength=\"2048\" name=\"q\" size=\"57\"><img src=\"/textinputassistant/tia.png\" style=\"position:absolute;cursor:pointer;right:5px;top:4px;z-index:300\" onclick=\"(function(){var src=\\'/textinputassistant/11/ne_tia.js\\';var s=document.createElement(\\'script\\');s.src=src;google.dom.append(s);})();\" alt=\"\" height=\"23\" width=\"27\"></div></div><br style=\"line-height:0\"><span class=\"ds\"><span class=\"lsbb\"><input class=\"lsb\" value=\"Google खोजी\" name=\"btnG\" type=\"submit\"></span></span><span class=\"ds\"><span class=\"lsbb\"><input class=\"lsb\" value=\"म भाग्यमानी अनुभूति गरिरहेछु\" name=\"btnI\" onclick=\"if(this.form.q.value)this.checked=1; else top.location=\\'/doodles/\\'\" type=\"submit\"></span></span></td><td class=\"fl sblc\" align=\"left\" nowrap=\"\" width=\"25%\"><a href=\"/advanced_search?hl=ne&amp;authuser=0\">उन्नत खोज </a><a href=\"/language_tools?hl=ne&amp;authuser=0\">भाषा उपकरणहरु</a></td></tr></table><input id=\"gbv\" name=\"gbv\" type=\"hidden\" value=\"1\"></form><div id=\"gac_scont\"></div><div style=\"font-size:83%;min-height:3.5em\"><br><div id=\"als\"><style>#als{font-size:small;margin-bottom:24px}#_eEe{display:inline-block;line-height:28px;}#_eEe a{padding:0 3px;}._lEe{display:inline-block;margin:0 2px;white-space:nowrap}._PEe{display:inline-block;margin:0 2px}</style><div id=\"_eEe\">Google.com.np निम्न भाषामा छान्नुहोस्: <a href=\"https://www.google.com.np/setprefs?sig=0_uAQB76UqN6UMlZE0nf9rykDaUC8%3D&amp;hl=en&amp;source=homepage\" data-ved=\"0ahUKEwiIr8muh7TQAhVJpo8KHdXwC5oQ2ZgBCAU\">English</a> </div></div></div><span id=\"footer\"><div style=\"font-size:10pt\"><div style=\"margin:19px auto;text-align:center\" id=\"fll\"><a href=\"/intl/ne/about.html\">Googleको बारेमा सम्पूर्ण</a><a href=\"https://www.google.com.np/setprefdomain?prefdom=US&amp;sig=__tNyRbP37lj_9eM6J1p4AjBeUe4A%3D\" id=\"fehl\">Google.com</a></div></div><p style=\"color:#767676;font-size:8pt\">&copy; 2016</p></span></center><script>(function(){window.google.cdo={height:0,width:0};(function(){var a=window.innerWidth,b=window.innerHeight;if(!a||!b)var c=window.document,d=\"CSS1Compat\"==c.compatMode?c.documentElement:c.body,a=d.clientWidth,b=d.clientHeight;a&&b&&(a!=google.cdo.width||b!=google.cdo.height)&&google.log(\"\",\"\",\"/client_204?&atyp=i&biw=\"+a+\"&bih=\"+b+\"&ei=\"+google.kEI);})();})();</script><div id=\"xjsd\"></div><div id=\"xjsi\"><script>(function(){function c(b){window.setTimeout(function(){var a=document.createElement(\"script\");a.src=b;document.getElementById(\"xjsd\").appendChild(a)},0)}google.dljp=function(b,a){google.xjsu=b;c(a)};google.dlj=c;})();(function(){window.google.xjsrm=[];})();if(google.y)google.y.first=[];if(!google.xjs){window._=window._||{};window._._DumpException=function(e){throw e};if(google.timers&&google.timers.load.t){google.timers.load.t.xjsls=new Date().getTime();}google.dljp(\\'/xjs/_/js/k\\\\x3dxjs.hp.en_US.vhxInNTXsZU.O/m\\\\x3dsb_he,d/rt\\\\x3dj/d\\\\x3d1/t\\\\x3dzcms/rs\\\\x3dACT90oGxfNgT_QiGfqpPWMF-Iv3IPO374Q\\',\\'/xjs/_/js/k\\\\x3dxjs.hp.en_US.vhxInNTXsZU.O/m\\\\x3dsb_he,d/rt\\\\x3dj/d\\\\x3d1/t\\\\x3dzcms/rs\\\\x3dACT90oGxfNgT_QiGfqpPWMF-Iv3IPO374Q\\');google.xjs=1;}google.pmc={\"sb_he\":{\"agen\":true,\"cgen\":true,\"client\":\"heirloom-hp\",\"dh\":true,\"dhqt\":true,\"ds\":\"\",\"fl\":true,\"host\":\"google.com.np\",\"isbh\":28,\"jam\":0,\"jsonp\":true,\"msgs\":{\"cibl\":\"स्पष्ट खोजी\",\"dym\":\"के तपाईँ ले यो भन्न खोज्नु भएको हो ?\",\"lcky\":\"म भाग्यमानी अनुभूति गरिरहेछु\",\"lml\":\"अधिक जानकारी\",\"oskt\":\"आगत उपकरणहरू\",\"psrc\":\"यो खोजी \\\\u003Ca href=\\\\\"/history\\\\\"\\\\u003E तपाईको वेब इतिहास\\\\u003C/a\\\\u003Eबाट हटाइयो\",\"psrl\":\"हटाउनुहोस\",\"sbit\":\"चित्रद्वारा खोज्नुहोस्\",\"srch\":\"Google खोजी\"},\"nds\":true,\"ovr\":{},\"pq\":\"\",\"refpd\":true,\"rfs\":[],\"scd\":10,\"sce\":5,\"stok\":\"cDLXNMuC87CPMd4jOwOPzzohcAQ\"},\"d\":{}};google.y.first.push(function(){if(google.med){google.med(\\'init\\');google.initHistory();google.med(\\'history\\');}});if(google.j&&google.j.en&&google.j.xi){window.setTimeout(google.j.xi,0);}\\n</script></div></body></html>'"
      ]
     },
     "execution_count": 27,
     "metadata": {},
     "output_type": "execute_result"
    }
   ],
   "source": [
    "text\n"
   ]
  },
  {
   "cell_type": "code",
   "execution_count": 30,
   "metadata": {
    "collapsed": false
   },
   "outputs": [],
   "source": [
    "soup=BeautifulSoup(text, 'html.parser')"
   ]
  },
  {
   "cell_type": "code",
   "execution_count": 31,
   "metadata": {
    "collapsed": false
   },
   "outputs": [
    {
     "data": {
      "text/plain": [
       "<!DOCTYPE doctype html>\n",
       "<html itemscope=\"\" itemtype=\"http://schema.org/WebPage\" lang=\"ne\"><head><meta content=\"text/html; charset=utf-8\" http-equiv=\"Content-Type\"><meta content=\"/images/branding/googleg/1x/googleg_standard_color_128dp.png\" itemprop=\"image\"><title>Google</title><script>(function(){window.google={kEI:'Ft8vWIjMM8nMvgTV4a_QCQ',kEXPI:'750721,1351903,1352083,3700312,4029815,4031109,4032678,4036527,4038012,4039268,4043492,4045841,4048347,4063220,4065786,4068550,4069838,4069840,4070144,4071842,4072364,4072602,4072773,4073405,4073959,4076095,4076316,4076931,4076999,4078010,4078430,4078438,4078457,4078605,4078762,4079105,4079626,4079894,4080167,4080629,4081037,4081039,4081265,4081279,4081487,4082217,4082219,4082309,4082403,4082618,4082939,4083030,4083282,4083353,4083476,4084255,4084276,4084343,4084366,4084956,4085009,4085477,4085628,4085769,4086171,4086696,4086789,4086819,4086832,4086863,4086985,4087054,4087057,4087112,4087179,4087709,4087715,4088345,8300273,8300471,8502184,8503585,8504846,8504934,8505150,8505152,8505259,8506340,8506398,8506477,8506615,8507380,8507643,8507689,8507846,8507897,8507911,8508060,8508177,8508229,8508313,8508351,8508395,8508421,8508564,8508935,10200083',authuser:0,kscs:'c9c918f0_24'};google.kHL='ne';})();(function(){google.lc=[];google.li=0;google.getEI=function(a){for(var b;a&&(!a.getAttribute||!(b=a.getAttribute(\"eid\")));)a=a.parentNode;return b||google.kEI};google.getLEI=function(a){for(var b=null;a&&(!a.getAttribute||!(b=a.getAttribute(\"leid\")));)a=a.parentNode;return b};google.https=function(){return\"https:\"==window.location.protocol};google.ml=function(){return null};google.wl=function(a,b){try{google.ml(Error(a),!1,b)}catch(c){}};google.time=function(){return(new Date).getTime()};google.log=function(a,b,c,e,g){a=google.logUrl(a,b,c,e,g);if(\"\"!=a){b=new Image;var d=google.lc,f=google.li;d[f]=b;b.onerror=b.onload=b.onabort=function(){delete d[f]};window.google&&window.google.vel&&window.google.vel.lu&&window.google.vel.lu(a);b.src=a;google.li=f+1}};google.logUrl=function(a,b,c,e,g){var d=\"\",f=google.ls||\"\";if(!c&&-1==b.search(\"&ei=\")){var h=google.getEI(e),d=\"&ei=\"+h;-1==b.search(\"&lei=\")&&((e=google.getLEI(e))?d+=\"&lei=\"+e:h!=google.kEI&&(d+=\"&lei=\"+google.kEI))}a=c||\"/\"+(g||\"gen_204\")+\"?atyp=i&ct=\"+a+\"&cad=\"+b+d+f+\"&zx=\"+google.time();/^http:/i.test(a)&&google.https()&&(google.ml(Error(\"a\"),!1,{src:a,glmm:1}),a=\"\");return a};google.y={};google.x=function(a,b){google.y[a.id]=[a,b];return!1};google.lq=[];google.load=function(a,b,c){google.lq.push([[a],b,c])};google.loadAll=function(a,b){google.lq.push([a,b])};})();var a=window.location,b=a.href.indexOf(\"#\");if(0<=b){var c=a.href.substring(b+1);/(^|&)q=/.test(c)&&-1==c.indexOf(\"#\")&&a.replace(\"/search?\"+c.replace(/(^|&)fp=[^&]*/g,\"\")+\"&cad=h\")};</script><style>#gbar,#guser{font-size:13px;padding-top:1px !important;}#gbar{height:22px}#guser{padding-bottom:7px !important;text-align:right}.gbh,.gbd{border-top:1px solid #c9d7f1;font-size:1px}.gbh{height:0;position:absolute;top:24px;width:100%}@media all{.gb1{height:22px;margin-right:.5em;vertical-align:top}#gbar{float:left}}a.gb1,a.gb4{text-decoration:underline !important}a.gb1,a.gb4{color:#00c !important}.gbi .gb4{color:#dd8e27 !important}.gbf .gb4{color:#900 !important}\n",
       "</style><style>body,td,a,p,.h{font-family:arial,sans-serif}body{margin:0;overflow-y:scroll}#gog{padding:3px 8px 0}td{line-height:.8em}.gac_m td{line-height:17px}form{margin-bottom:20px}.h{color:#36c}.q{color:#00c}.ts td{padding:0}.ts{border-collapse:collapse}em{font-weight:bold;font-style:normal}.lst{height:25px;width:496px}.gsfi,.lst{font:18px arial,sans-serif}.gsfs{font:17px arial,sans-serif}.ds{display:inline-box;display:inline-block;margin:3px 0 4px;margin-left:4px}input{font-family:inherit}a.gb1,a.gb2,a.gb3,a.gb4{color:#11c !important}body{background:#fff;color:black}a{color:#11c;text-decoration:none}a:hover,a:active{text-decoration:underline}.fl a{color:#36c}a:visited{color:#551a8b}a.gb1,a.gb4{text-decoration:underline}a.gb3:hover{text-decoration:none}#ghead a.gb2:hover{color:#fff !important}.sblc{padding-top:5px}.sblc a{display:block;margin:2px 0;margin-left:13px;font-size:11px}.lsbb{background:#eee;border:solid 1px;border-color:#ccc #999 #999 #ccc;height:30px}.lsbb{display:block}.ftl,#fll a{display:inline-block;margin:0 12px}.lsb{background:url(/images/nav_logo229.png) 0 -261px repeat-x;border:none;color:#000;cursor:pointer;height:30px;margin:0;outline:0;font:15px arial,sans-serif;vertical-align:top}.lsb:active{background:#ccc}.lst:focus{outline:none}.tiah{width:458px}</style><script></script><link href=\"/images/branding/product/ico/googleg_lodp.ico\" rel=\"shortcut icon\"/></meta></meta></head><body bgcolor=\"#fff\"><script>(function(){var src='/images/nav_logo229.png';var iesg=false;document.body.onload = function(){window.n && window.n();if (document.images){new Image().src=src;}\n",
       "if (!iesg){document.f&&document.f.q.focus();document.gbqf&&document.gbqf.q.focus();}\n",
       "}\n",
       "})();</script><div id=\"mngb\"> <div id=\"gbar\"><nobr><b class=\"gb1\">खोज</b> <a class=\"gb1\" href=\"https://www.google.com.np/imghp?hl=ne&amp;tab=wi\">तस्बिर</a> <a class=\"gb1\" href=\"https://maps.google.com.np/maps?hl=ne&amp;tab=wl\">नक्सा</a> <a class=\"gb1\" href=\"https://mail.google.com/mail/?tab=wm\">जीमेल</a> <a class=\"gb1\" href=\"https://drive.google.com/?tab=wo\">ड्राइभ</a> <a class=\"gb1\" href=\"https://www.google.com/calendar?tab=wc\">पात्रो</a> <a class=\"gb1\" href=\"https://translate.google.com.np/?hl=ne&amp;tab=wT\">अनुबाद गर्नुहोस्</a> <a class=\"gb1\" href=\"https://www.blogger.com/?tab=wj\">ब्लगर</a> <a class=\"gb1\" href=\"https://www.google.com.np/intl/en/options/\" style=\"text-decoration:none\"><u>थप</u> »</a></nobr></div><div id=\"guser\" width=\"100%\"><nobr><span class=\"gbi\" id=\"gbn\"></span><span class=\"gbf\" id=\"gbf\"></span><span id=\"gbe\"></span><a class=\"gb4\" href=\"http://www.google.com.np/history/optout?hl=ne\">वेब इतिहास</a> | <a class=\"gb4\" href=\"/preferences?hl=ne\">प्राथमिकताहरू</a> | <a class=\"gb4\" href=\"https://accounts.google.com/ServiceLogin?hl=ne&amp;passive=true&amp;continue=https://www.google.com.np/%3Fgws_rd%3Dcr,ssl%26ei%3Dit0vWPOpO8yFvQTWu5XYAg\" id=\"gb_70\" target=\"_top\">साइन इन</a></nobr></div><div class=\"gbh\" style=\"left:0\"></div><div class=\"gbh\" style=\"right:0\"></div> </div><center><br clear=\"all\" id=\"lgpd\"><div id=\"lga\"><div style=\"padding:28px 0 3px\"><div align=\"left\" id=\"hplogo\" onload=\"window.lol&amp;&amp;lol()\" style=\"height:110px;width:276px;background:url(/images/branding/googlelogo/1x/googlelogo_white_background_color_272x92dp.png) no-repeat\" title=\"Google\"><div nowrap=\"\" style=\"color:#777;font-size:16px;font-weight:bold;position:relative;top:70px;left:218px\">﻿नेपाल</div></div></div><br/></div><form action=\"/search\" name=\"f\"><table cellpadding=\"0\" cellspacing=\"0\"><tr valign=\"top\"><td width=\"25%\"> </td><td align=\"center\" nowrap=\"\"><input name=\"hl\" type=\"hidden\" value=\"ne\"><input name=\"source\" type=\"hidden\" value=\"hp\"><input name=\"biw\" type=\"hidden\"><input name=\"bih\" type=\"hidden\"><div class=\"ds\" style=\"height:32px;margin:4px 0\"><div style=\"position:relative;zoom:1\"><input autocomplete=\"off\" class=\"lst tiah\" maxlength=\"2048\" name=\"q\" size=\"57\" style=\"color:#000;margin:0;padding:5px 8px 0 6px;vertical-align:top;padding-right:38px\" title=\"Google खोजी\" value=\"\"><img alt=\"\" height=\"23\" onclick=\"(function(){var src='/textinputassistant/11/ne_tia.js';var s=document.createElement('script');s.src=src;google.dom.append(s);})();\" src=\"/textinputassistant/tia.png\" style=\"position:absolute;cursor:pointer;right:5px;top:4px;z-index:300\" width=\"27\"/></input></div></div><br style=\"line-height:0\"><span class=\"ds\"><span class=\"lsbb\"><input class=\"lsb\" name=\"btnG\" type=\"submit\" value=\"Google खोजी\"/></span></span><span class=\"ds\"><span class=\"lsbb\"><input class=\"lsb\" name=\"btnI\" onclick=\"if(this.form.q.value)this.checked=1; else top.location='/doodles/'\" type=\"submit\" value=\"म भाग्यमानी अनुभूति गरिरहेछु\"/></span></span></br></input></input></input></input></td><td align=\"left\" class=\"fl sblc\" nowrap=\"\" width=\"25%\"><a href=\"/advanced_search?hl=ne&amp;authuser=0\">उन्नत खोज </a><a href=\"/language_tools?hl=ne&amp;authuser=0\">भाषा उपकरणहरु</a></td></tr></table><input id=\"gbv\" name=\"gbv\" type=\"hidden\" value=\"1\"/></form><div id=\"gac_scont\"></div><div style=\"font-size:83%;min-height:3.5em\"><br><div id=\"als\"><style>#als{font-size:small;margin-bottom:24px}#_eEe{display:inline-block;line-height:28px;}#_eEe a{padding:0 3px;}._lEe{display:inline-block;margin:0 2px;white-space:nowrap}._PEe{display:inline-block;margin:0 2px}</style><div id=\"_eEe\">Google.com.np निम्न भाषामा छान्नुहोस्: <a data-ved=\"0ahUKEwiIr8muh7TQAhVJpo8KHdXwC5oQ2ZgBCAU\" href=\"https://www.google.com.np/setprefs?sig=0_uAQB76UqN6UMlZE0nf9rykDaUC8%3D&amp;hl=en&amp;source=homepage\">English</a> </div></div></br></div><span id=\"footer\"><div style=\"font-size:10pt\"><div id=\"fll\" style=\"margin:19px auto;text-align:center\"><a href=\"/intl/ne/about.html\">Googleको बारेमा सम्पूर्ण</a><a href=\"https://www.google.com.np/setprefdomain?prefdom=US&amp;sig=__tNyRbP37lj_9eM6J1p4AjBeUe4A%3D\" id=\"fehl\">Google.com</a></div></div><p style=\"color:#767676;font-size:8pt\">© 2016</p></span></br></center><script>(function(){window.google.cdo={height:0,width:0};(function(){var a=window.innerWidth,b=window.innerHeight;if(!a||!b)var c=window.document,d=\"CSS1Compat\"==c.compatMode?c.documentElement:c.body,a=d.clientWidth,b=d.clientHeight;a&&b&&(a!=google.cdo.width||b!=google.cdo.height)&&google.log(\"\",\"\",\"/client_204?&atyp=i&biw=\"+a+\"&bih=\"+b+\"&ei=\"+google.kEI);})();})();</script><div id=\"xjsd\"></div><div id=\"xjsi\"><script>(function(){function c(b){window.setTimeout(function(){var a=document.createElement(\"script\");a.src=b;document.getElementById(\"xjsd\").appendChild(a)},0)}google.dljp=function(b,a){google.xjsu=b;c(a)};google.dlj=c;})();(function(){window.google.xjsrm=[];})();if(google.y)google.y.first=[];if(!google.xjs){window._=window._||{};window._._DumpException=function(e){throw e};if(google.timers&&google.timers.load.t){google.timers.load.t.xjsls=new Date().getTime();}google.dljp('/xjs/_/js/k\\x3dxjs.hp.en_US.vhxInNTXsZU.O/m\\x3dsb_he,d/rt\\x3dj/d\\x3d1/t\\x3dzcms/rs\\x3dACT90oGxfNgT_QiGfqpPWMF-Iv3IPO374Q','/xjs/_/js/k\\x3dxjs.hp.en_US.vhxInNTXsZU.O/m\\x3dsb_he,d/rt\\x3dj/d\\x3d1/t\\x3dzcms/rs\\x3dACT90oGxfNgT_QiGfqpPWMF-Iv3IPO374Q');google.xjs=1;}google.pmc={\"sb_he\":{\"agen\":true,\"cgen\":true,\"client\":\"heirloom-hp\",\"dh\":true,\"dhqt\":true,\"ds\":\"\",\"fl\":true,\"host\":\"google.com.np\",\"isbh\":28,\"jam\":0,\"jsonp\":true,\"msgs\":{\"cibl\":\"स्पष्ट खोजी\",\"dym\":\"के तपाईँ ले यो भन्न खोज्नु भएको हो ?\",\"lcky\":\"म भाग्यमानी अनुभूति गरिरहेछु\",\"lml\":\"अधिक जानकारी\",\"oskt\":\"आगत उपकरणहरू\",\"psrc\":\"यो खोजी \\u003Ca href=\\\"/history\\\"\\u003E तपाईको वेब इतिहास\\u003C/a\\u003Eबाट हटाइयो\",\"psrl\":\"हटाउनुहोस\",\"sbit\":\"चित्रद्वारा खोज्नुहोस्\",\"srch\":\"Google खोजी\"},\"nds\":true,\"ovr\":{},\"pq\":\"\",\"refpd\":true,\"rfs\":[],\"scd\":10,\"sce\":5,\"stok\":\"cDLXNMuC87CPMd4jOwOPzzohcAQ\"},\"d\":{}};google.y.first.push(function(){if(google.med){google.med('init');google.initHistory();google.med('history');}});if(google.j&&google.j.en&&google.j.xi){window.setTimeout(google.j.xi,0);}\n",
       "</script></div></body></html>"
      ]
     },
     "execution_count": 31,
     "metadata": {},
     "output_type": "execute_result"
    }
   ],
   "source": [
    "soup"
   ]
  },
  {
   "cell_type": "code",
   "execution_count": 32,
   "metadata": {
    "collapsed": false
   },
   "outputs": [
    {
     "data": {
      "text/plain": [
       "['ASCII_SPACES',\n",
       " 'DEFAULT_BUILDER_FEATURES',\n",
       " 'HTML_FORMATTERS',\n",
       " 'NO_PARSER_SPECIFIED_WARNING',\n",
       " 'ROOT_TAG_NAME',\n",
       " 'XML_FORMATTERS',\n",
       " '__bool__',\n",
       " '__call__',\n",
       " '__class__',\n",
       " '__contains__',\n",
       " '__copy__',\n",
       " '__delattr__',\n",
       " '__delitem__',\n",
       " '__dict__',\n",
       " '__dir__',\n",
       " '__doc__',\n",
       " '__eq__',\n",
       " '__format__',\n",
       " '__ge__',\n",
       " '__getattr__',\n",
       " '__getattribute__',\n",
       " '__getitem__',\n",
       " '__getstate__',\n",
       " '__gt__',\n",
       " '__hash__',\n",
       " '__init__',\n",
       " '__iter__',\n",
       " '__le__',\n",
       " '__len__',\n",
       " '__lt__',\n",
       " '__module__',\n",
       " '__ne__',\n",
       " '__new__',\n",
       " '__reduce__',\n",
       " '__reduce_ex__',\n",
       " '__repr__',\n",
       " '__setattr__',\n",
       " '__setitem__',\n",
       " '__sizeof__',\n",
       " '__str__',\n",
       " '__subclasshook__',\n",
       " '__unicode__',\n",
       " '__weakref__',\n",
       " '_all_strings',\n",
       " '_attr_value_as_string',\n",
       " '_attribute_checker',\n",
       " '_feed',\n",
       " '_find_all',\n",
       " '_find_one',\n",
       " '_formatter_for_name',\n",
       " '_is_xml',\n",
       " '_lastRecursiveChild',\n",
       " '_last_descendant',\n",
       " '_most_recent_element',\n",
       " '_popToTag',\n",
       " '_select_debug',\n",
       " '_selector_combinators',\n",
       " '_should_pretty_print',\n",
       " '_tag_name_matches_and',\n",
       " 'append',\n",
       " 'attribselect_re',\n",
       " 'attrs',\n",
       " 'builder',\n",
       " 'can_be_empty_element',\n",
       " 'childGenerator',\n",
       " 'children',\n",
       " 'clear',\n",
       " 'contains_replacement_characters',\n",
       " 'contents',\n",
       " 'currentTag',\n",
       " 'current_data',\n",
       " 'declared_html_encoding',\n",
       " 'decode',\n",
       " 'decode_contents',\n",
       " 'decompose',\n",
       " 'descendants',\n",
       " 'encode',\n",
       " 'encode_contents',\n",
       " 'endData',\n",
       " 'extract',\n",
       " 'fetchNextSiblings',\n",
       " 'fetchParents',\n",
       " 'fetchPrevious',\n",
       " 'fetchPreviousSiblings',\n",
       " 'find',\n",
       " 'findAll',\n",
       " 'findAllNext',\n",
       " 'findAllPrevious',\n",
       " 'findChild',\n",
       " 'findChildren',\n",
       " 'findNext',\n",
       " 'findNextSibling',\n",
       " 'findNextSiblings',\n",
       " 'findParent',\n",
       " 'findParents',\n",
       " 'findPrevious',\n",
       " 'findPreviousSibling',\n",
       " 'findPreviousSiblings',\n",
       " 'find_all',\n",
       " 'find_all_next',\n",
       " 'find_all_previous',\n",
       " 'find_next',\n",
       " 'find_next_sibling',\n",
       " 'find_next_siblings',\n",
       " 'find_parent',\n",
       " 'find_parents',\n",
       " 'find_previous',\n",
       " 'find_previous_sibling',\n",
       " 'find_previous_siblings',\n",
       " 'format_string',\n",
       " 'get',\n",
       " 'getText',\n",
       " 'get_text',\n",
       " 'handle_data',\n",
       " 'handle_endtag',\n",
       " 'handle_starttag',\n",
       " 'has_attr',\n",
       " 'has_key',\n",
       " 'hidden',\n",
       " 'index',\n",
       " 'insert',\n",
       " 'insert_after',\n",
       " 'insert_before',\n",
       " 'isSelfClosing',\n",
       " 'is_empty_element',\n",
       " 'is_xml',\n",
       " 'markup',\n",
       " 'name',\n",
       " 'namespace',\n",
       " 'new_string',\n",
       " 'new_tag',\n",
       " 'next',\n",
       " 'nextGenerator',\n",
       " 'nextSibling',\n",
       " 'nextSiblingGenerator',\n",
       " 'next_element',\n",
       " 'next_elements',\n",
       " 'next_sibling',\n",
       " 'next_siblings',\n",
       " 'object_was_parsed',\n",
       " 'original_encoding',\n",
       " 'parent',\n",
       " 'parentGenerator',\n",
       " 'parents',\n",
       " 'parse_only',\n",
       " 'parserClass',\n",
       " 'parser_class',\n",
       " 'popTag',\n",
       " 'prefix',\n",
       " 'preserve_whitespace_tag_stack',\n",
       " 'prettify',\n",
       " 'previous',\n",
       " 'previousGenerator',\n",
       " 'previousSibling',\n",
       " 'previousSiblingGenerator',\n",
       " 'previous_element',\n",
       " 'previous_elements',\n",
       " 'previous_sibling',\n",
       " 'previous_siblings',\n",
       " 'pushTag',\n",
       " 'recursiveChildGenerator',\n",
       " 'renderContents',\n",
       " 'replaceWith',\n",
       " 'replaceWithChildren',\n",
       " 'replace_with',\n",
       " 'replace_with_children',\n",
       " 'reset',\n",
       " 'select',\n",
       " 'select_one',\n",
       " 'setup',\n",
       " 'string',\n",
       " 'strings',\n",
       " 'stripped_strings',\n",
       " 'tagStack',\n",
       " 'tag_name_re',\n",
       " 'text',\n",
       " 'unwrap',\n",
       " 'wrap']"
      ]
     },
     "execution_count": 32,
     "metadata": {},
     "output_type": "execute_result"
    }
   ],
   "source": [
    "dir(soup\n",
    "   )"
   ]
  },
  {
   "cell_type": "code",
   "execution_count": 34,
   "metadata": {
    "collapsed": false
   },
   "outputs": [
    {
     "data": {
      "text/plain": [
       "[<div id=\"mngb\"> <div id=\"gbar\"><nobr><b class=\"gb1\">खोज</b> <a class=\"gb1\" href=\"https://www.google.com.np/imghp?hl=ne&amp;tab=wi\">तस्बिर</a> <a class=\"gb1\" href=\"https://maps.google.com.np/maps?hl=ne&amp;tab=wl\">नक्सा</a> <a class=\"gb1\" href=\"https://mail.google.com/mail/?tab=wm\">जीमेल</a> <a class=\"gb1\" href=\"https://drive.google.com/?tab=wo\">ड्राइभ</a> <a class=\"gb1\" href=\"https://www.google.com/calendar?tab=wc\">पात्रो</a> <a class=\"gb1\" href=\"https://translate.google.com.np/?hl=ne&amp;tab=wT\">अनुबाद गर्नुहोस्</a> <a class=\"gb1\" href=\"https://www.blogger.com/?tab=wj\">ब्लगर</a> <a class=\"gb1\" href=\"https://www.google.com.np/intl/en/options/\" style=\"text-decoration:none\"><u>थप</u> »</a></nobr></div><div id=\"guser\" width=\"100%\"><nobr><span class=\"gbi\" id=\"gbn\"></span><span class=\"gbf\" id=\"gbf\"></span><span id=\"gbe\"></span><a class=\"gb4\" href=\"http://www.google.com.np/history/optout?hl=ne\">वेब इतिहास</a> | <a class=\"gb4\" href=\"/preferences?hl=ne\">प्राथमिकताहरू</a> | <a class=\"gb4\" href=\"https://accounts.google.com/ServiceLogin?hl=ne&amp;passive=true&amp;continue=https://www.google.com.np/%3Fgws_rd%3Dcr,ssl%26ei%3Dit0vWPOpO8yFvQTWu5XYAg\" id=\"gb_70\" target=\"_top\">साइन इन</a></nobr></div><div class=\"gbh\" style=\"left:0\"></div><div class=\"gbh\" style=\"right:0\"></div> </div>,\n",
       " <div id=\"gbar\"><nobr><b class=\"gb1\">खोज</b> <a class=\"gb1\" href=\"https://www.google.com.np/imghp?hl=ne&amp;tab=wi\">तस्बिर</a> <a class=\"gb1\" href=\"https://maps.google.com.np/maps?hl=ne&amp;tab=wl\">नक्सा</a> <a class=\"gb1\" href=\"https://mail.google.com/mail/?tab=wm\">जीमेल</a> <a class=\"gb1\" href=\"https://drive.google.com/?tab=wo\">ड्राइभ</a> <a class=\"gb1\" href=\"https://www.google.com/calendar?tab=wc\">पात्रो</a> <a class=\"gb1\" href=\"https://translate.google.com.np/?hl=ne&amp;tab=wT\">अनुबाद गर्नुहोस्</a> <a class=\"gb1\" href=\"https://www.blogger.com/?tab=wj\">ब्लगर</a> <a class=\"gb1\" href=\"https://www.google.com.np/intl/en/options/\" style=\"text-decoration:none\"><u>थप</u> »</a></nobr></div>,\n",
       " <div id=\"guser\" width=\"100%\"><nobr><span class=\"gbi\" id=\"gbn\"></span><span class=\"gbf\" id=\"gbf\"></span><span id=\"gbe\"></span><a class=\"gb4\" href=\"http://www.google.com.np/history/optout?hl=ne\">वेब इतिहास</a> | <a class=\"gb4\" href=\"/preferences?hl=ne\">प्राथमिकताहरू</a> | <a class=\"gb4\" href=\"https://accounts.google.com/ServiceLogin?hl=ne&amp;passive=true&amp;continue=https://www.google.com.np/%3Fgws_rd%3Dcr,ssl%26ei%3Dit0vWPOpO8yFvQTWu5XYAg\" id=\"gb_70\" target=\"_top\">साइन इन</a></nobr></div>,\n",
       " <div class=\"gbh\" style=\"left:0\"></div>,\n",
       " <div class=\"gbh\" style=\"right:0\"></div>,\n",
       " <div id=\"lga\"><div style=\"padding:28px 0 3px\"><div align=\"left\" id=\"hplogo\" onload=\"window.lol&amp;&amp;lol()\" style=\"height:110px;width:276px;background:url(/images/branding/googlelogo/1x/googlelogo_white_background_color_272x92dp.png) no-repeat\" title=\"Google\"><div nowrap=\"\" style=\"color:#777;font-size:16px;font-weight:bold;position:relative;top:70px;left:218px\">﻿नेपाल</div></div></div><br/></div>,\n",
       " <div style=\"padding:28px 0 3px\"><div align=\"left\" id=\"hplogo\" onload=\"window.lol&amp;&amp;lol()\" style=\"height:110px;width:276px;background:url(/images/branding/googlelogo/1x/googlelogo_white_background_color_272x92dp.png) no-repeat\" title=\"Google\"><div nowrap=\"\" style=\"color:#777;font-size:16px;font-weight:bold;position:relative;top:70px;left:218px\">﻿नेपाल</div></div></div>,\n",
       " <div align=\"left\" id=\"hplogo\" onload=\"window.lol&amp;&amp;lol()\" style=\"height:110px;width:276px;background:url(/images/branding/googlelogo/1x/googlelogo_white_background_color_272x92dp.png) no-repeat\" title=\"Google\"><div nowrap=\"\" style=\"color:#777;font-size:16px;font-weight:bold;position:relative;top:70px;left:218px\">﻿नेपाल</div></div>,\n",
       " <div nowrap=\"\" style=\"color:#777;font-size:16px;font-weight:bold;position:relative;top:70px;left:218px\">﻿नेपाल</div>,\n",
       " <div class=\"ds\" style=\"height:32px;margin:4px 0\"><div style=\"position:relative;zoom:1\"><input autocomplete=\"off\" class=\"lst tiah\" maxlength=\"2048\" name=\"q\" size=\"57\" style=\"color:#000;margin:0;padding:5px 8px 0 6px;vertical-align:top;padding-right:38px\" title=\"Google खोजी\" value=\"\"><img alt=\"\" height=\"23\" onclick=\"(function(){var src='/textinputassistant/11/ne_tia.js';var s=document.createElement('script');s.src=src;google.dom.append(s);})();\" src=\"/textinputassistant/tia.png\" style=\"position:absolute;cursor:pointer;right:5px;top:4px;z-index:300\" width=\"27\"/></input></div></div>,\n",
       " <div style=\"position:relative;zoom:1\"><input autocomplete=\"off\" class=\"lst tiah\" maxlength=\"2048\" name=\"q\" size=\"57\" style=\"color:#000;margin:0;padding:5px 8px 0 6px;vertical-align:top;padding-right:38px\" title=\"Google खोजी\" value=\"\"><img alt=\"\" height=\"23\" onclick=\"(function(){var src='/textinputassistant/11/ne_tia.js';var s=document.createElement('script');s.src=src;google.dom.append(s);})();\" src=\"/textinputassistant/tia.png\" style=\"position:absolute;cursor:pointer;right:5px;top:4px;z-index:300\" width=\"27\"/></input></div>,\n",
       " <div id=\"gac_scont\"></div>,\n",
       " <div style=\"font-size:83%;min-height:3.5em\"><br><div id=\"als\"><style>#als{font-size:small;margin-bottom:24px}#_eEe{display:inline-block;line-height:28px;}#_eEe a{padding:0 3px;}._lEe{display:inline-block;margin:0 2px;white-space:nowrap}._PEe{display:inline-block;margin:0 2px}</style><div id=\"_eEe\">Google.com.np निम्न भाषामा छान्नुहोस्: <a data-ved=\"0ahUKEwiIr8muh7TQAhVJpo8KHdXwC5oQ2ZgBCAU\" href=\"https://www.google.com.np/setprefs?sig=0_uAQB76UqN6UMlZE0nf9rykDaUC8%3D&amp;hl=en&amp;source=homepage\">English</a> </div></div></br></div>,\n",
       " <div id=\"als\"><style>#als{font-size:small;margin-bottom:24px}#_eEe{display:inline-block;line-height:28px;}#_eEe a{padding:0 3px;}._lEe{display:inline-block;margin:0 2px;white-space:nowrap}._PEe{display:inline-block;margin:0 2px}</style><div id=\"_eEe\">Google.com.np निम्न भाषामा छान्नुहोस्: <a data-ved=\"0ahUKEwiIr8muh7TQAhVJpo8KHdXwC5oQ2ZgBCAU\" href=\"https://www.google.com.np/setprefs?sig=0_uAQB76UqN6UMlZE0nf9rykDaUC8%3D&amp;hl=en&amp;source=homepage\">English</a> </div></div>,\n",
       " <div id=\"_eEe\">Google.com.np निम्न भाषामा छान्नुहोस्: <a data-ved=\"0ahUKEwiIr8muh7TQAhVJpo8KHdXwC5oQ2ZgBCAU\" href=\"https://www.google.com.np/setprefs?sig=0_uAQB76UqN6UMlZE0nf9rykDaUC8%3D&amp;hl=en&amp;source=homepage\">English</a> </div>,\n",
       " <div style=\"font-size:10pt\"><div id=\"fll\" style=\"margin:19px auto;text-align:center\"><a href=\"/intl/ne/about.html\">Googleको बारेमा सम्पूर्ण</a><a href=\"https://www.google.com.np/setprefdomain?prefdom=US&amp;sig=__tNyRbP37lj_9eM6J1p4AjBeUe4A%3D\" id=\"fehl\">Google.com</a></div></div>,\n",
       " <div id=\"fll\" style=\"margin:19px auto;text-align:center\"><a href=\"/intl/ne/about.html\">Googleको बारेमा सम्पूर्ण</a><a href=\"https://www.google.com.np/setprefdomain?prefdom=US&amp;sig=__tNyRbP37lj_9eM6J1p4AjBeUe4A%3D\" id=\"fehl\">Google.com</a></div>,\n",
       " <div id=\"xjsd\"></div>,\n",
       " <div id=\"xjsi\"><script>(function(){function c(b){window.setTimeout(function(){var a=document.createElement(\"script\");a.src=b;document.getElementById(\"xjsd\").appendChild(a)},0)}google.dljp=function(b,a){google.xjsu=b;c(a)};google.dlj=c;})();(function(){window.google.xjsrm=[];})();if(google.y)google.y.first=[];if(!google.xjs){window._=window._||{};window._._DumpException=function(e){throw e};if(google.timers&&google.timers.load.t){google.timers.load.t.xjsls=new Date().getTime();}google.dljp('/xjs/_/js/k\\x3dxjs.hp.en_US.vhxInNTXsZU.O/m\\x3dsb_he,d/rt\\x3dj/d\\x3d1/t\\x3dzcms/rs\\x3dACT90oGxfNgT_QiGfqpPWMF-Iv3IPO374Q','/xjs/_/js/k\\x3dxjs.hp.en_US.vhxInNTXsZU.O/m\\x3dsb_he,d/rt\\x3dj/d\\x3d1/t\\x3dzcms/rs\\x3dACT90oGxfNgT_QiGfqpPWMF-Iv3IPO374Q');google.xjs=1;}google.pmc={\"sb_he\":{\"agen\":true,\"cgen\":true,\"client\":\"heirloom-hp\",\"dh\":true,\"dhqt\":true,\"ds\":\"\",\"fl\":true,\"host\":\"google.com.np\",\"isbh\":28,\"jam\":0,\"jsonp\":true,\"msgs\":{\"cibl\":\"स्पष्ट खोजी\",\"dym\":\"के तपाईँ ले यो भन्न खोज्नु भएको हो ?\",\"lcky\":\"म भाग्यमानी अनुभूति गरिरहेछु\",\"lml\":\"अधिक जानकारी\",\"oskt\":\"आगत उपकरणहरू\",\"psrc\":\"यो खोजी \\u003Ca href=\\\"/history\\\"\\u003E तपाईको वेब इतिहास\\u003C/a\\u003Eबाट हटाइयो\",\"psrl\":\"हटाउनुहोस\",\"sbit\":\"चित्रद्वारा खोज्नुहोस्\",\"srch\":\"Google खोजी\"},\"nds\":true,\"ovr\":{},\"pq\":\"\",\"refpd\":true,\"rfs\":[],\"scd\":10,\"sce\":5,\"stok\":\"cDLXNMuC87CPMd4jOwOPzzohcAQ\"},\"d\":{}};google.y.first.push(function(){if(google.med){google.med('init');google.initHistory();google.med('history');}});if(google.j&&google.j.en&&google.j.xi){window.setTimeout(google.j.xi,0);}\n",
       " </script></div>]"
      ]
     },
     "execution_count": 34,
     "metadata": {},
     "output_type": "execute_result"
    }
   ],
   "source": [
    "soup.find_all(\"div\",\n",
    "              attrs={}\n",
    "             )"
   ]
  },
  {
   "cell_type": "code",
   "execution_count": null,
   "metadata": {
    "collapsed": true
   },
   "outputs": [],
   "source": []
  }
 ],
 "metadata": {
  "kernelspec": {
   "display_name": "Python [Root]",
   "language": "python",
   "name": "Python [Root]"
  },
  "language_info": {
   "codemirror_mode": {
    "name": "ipython",
    "version": 3
   },
   "file_extension": ".py",
   "mimetype": "text/x-python",
   "name": "python",
   "nbconvert_exporter": "python",
   "pygments_lexer": "ipython3",
   "version": "3.5.2"
  }
 },
 "nbformat": 4,
 "nbformat_minor": 0
}
