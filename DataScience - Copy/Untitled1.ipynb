{
 "cells": [
  {
   "cell_type": "code",
   "execution_count": 2,
   "metadata": {
    "collapsed": false
   },
   "outputs": [],
   "source": [
    "import numpy as np\n",
    "import pandas as pd\n",
    "import matplotlib.pyplot as mt"
   ]
  },
  {
   "cell_type": "markdown",
   "metadata": {},
   "source": [
    "agri:-\"C:\\Users\\ITSME\\Downloads\\Compressed\\API_1_DS2_en_csv_v2\\API_1_DS2_en_csv_v2.csv\""
   ]
  },
  {
   "cell_type": "code",
   "execution_count": 70,
   "metadata": {
    "collapsed": false
   },
   "outputs": [],
   "source": [
    "co2=pd.read_csv('..\\API_EN.ATM.CO2E.KT_DS2_en_csv_v2.csv',skiprows=3)\n"
   ]
  },
  {
   "cell_type": "code",
   "execution_count": null,
   "metadata": {
    "collapsed": false
   },
   "outputs": [],
   "source": []
  },
  {
   "cell_type": "raw",
   "metadata": {},
   "source": []
  },
  {
   "cell_type": "code",
   "execution_count": 71,
   "metadata": {
    "collapsed": false
   },
   "outputs": [],
   "source": [
    "co2.drop(['Country Code','Indicator Name','Indicator Code','Unnamed: 61'], axis =1, inplace=True)"
   ]
  },
  {
   "cell_type": "code",
   "execution_count": null,
   "metadata": {
    "collapsed": true
   },
   "outputs": [],
   "source": []
  },
  {
   "cell_type": "code",
   "execution_count": 72,
   "metadata": {
    "collapsed": false
   },
   "outputs": [],
   "source": [
    "co2.set_index(\"Country Name\", inplace=True)\n"
   ]
  },
  {
   "cell_type": "raw",
   "metadata": {},
   "source": []
  },
  {
   "cell_type": "code",
   "execution_count": 73,
   "metadata": {
    "collapsed": false
   },
   "outputs": [],
   "source": [
    "co2=co2.transpose()"
   ]
  },
  {
   "cell_type": "code",
   "execution_count": 74,
   "metadata": {
    "collapsed": false
   },
   "outputs": [],
   "source": [
    "%matplotlib inline\n",
    "\n"
   ]
  },
  {
   "cell_type": "code",
   "execution_count": 75,
   "metadata": {
    "collapsed": false
   },
   "outputs": [
    {
     "data": {
      "text/plain": [
       "<matplotlib.axes._subplots.AxesSubplot at 0xd27c9b0>"
      ]
     },
     "execution_count": 75,
     "metadata": {},
     "output_type": "execute_result"
    },
    {
     "data": {
      "image/png": "[encoded data removed]",
      "text/plain": [
       "<matplotlib.figure.Figure at 0xd228358>"
      ]
     },
     "metadata": {},
     "output_type": "display_data"
    }
   ],
   "source": [
    "co2[\"Nepal\"].plot()"
   ]
  },
  {
   "cell_type": "code",
   "execution_count": 79,
   "metadata": {
    "collapsed": false
   },
   "outputs": [],
   "source": [
    "urb=pd.read_csv('..\\API_SP.URB.TOTL.IN.ZS_DS2_en_csv_v2.csv', skiprows=3)\n",
    "urb.drop(['Country Code','Indicator Name','Indicator Code','Unnamed: 61'], axis =1, inplace=True)\n"
   ]
  },
  {
   "cell_type": "code",
   "execution_count": 80,
   "metadata": {
    "collapsed": true
   },
   "outputs": [],
   "source": [
    "urb.set_index(\"Country Name\", inplace=True)"
   ]
  },
  {
   "cell_type": "code",
   "execution_count": 81,
   "metadata": {
    "collapsed": true
   },
   "outputs": [],
   "source": [
    "urb=urb.transpose()"
   ]
  },
  {
   "cell_type": "code",
   "execution_count": 84,
   "metadata": {
    "collapsed": false
   },
   "outputs": [
    {
     "data": {
      "text/plain": [
       "1960     34.80\n",
       "1961     35.71\n",
       "1962     36.12\n",
       "1963     36.53\n",
       "1964     36.95\n",
       "1965     37.37\n",
       "1966     37.80\n",
       "1967     38.23\n",
       "1968     38.67\n",
       "1969     39.11\n",
       "1970     39.56\n",
       "1971     40.05\n",
       "1972     41.98\n",
       "1973     43.99\n",
       "1974     46.10\n",
       "1975     48.30\n",
       "1976     50.61\n",
       "1977     53.02\n",
       "1978     55.53\n",
       "1979     58.16\n",
       "1980     60.91\n",
       "1981     63.76\n",
       "1982     66.16\n",
       "1983     68.64\n",
       "1984     71.21\n",
       "1985     73.86\n",
       "1986     76.60\n",
       "1987     79.44\n",
       "1988     82.38\n",
       "1989     85.41\n",
       "1990     88.54\n",
       "1991     91.80\n",
       "1992     95.85\n",
       "1993    100.05\n",
       "1994    104.42\n",
       "1995    108.95\n",
       "1996    113.67\n",
       "1997    118.55\n",
       "1998    123.61\n",
       "1999    128.86\n",
       "2000    134.31\n",
       "2001    139.67\n",
       "2002    142.63\n",
       "2003    145.64\n",
       "2004    148.71\n",
       "2005    151.83\n",
       "2006    155.00\n",
       "2007    158.22\n",
       "2008    161.50\n",
       "2009    164.83\n",
       "2010    168.22\n",
       "2011    171.66\n",
       "2012    175.18\n",
       "2013    178.77\n",
       "2014    182.43\n",
       "2015    186.15\n",
       "2016       NaN\n",
       "Name: Nepal, dtype: float64"
      ]
     },
     "execution_count": 84,
     "metadata": {},
     "output_type": "execute_result"
    }
   ],
   "source": [
    "urb[\"Nepal\"]*10"
   ]
  },
  {
   "cell_type": "code",
   "execution_count": null,
   "metadata": {
    "collapsed": true
   },
   "outputs": [],
   "source": []
  }
 ],
 "metadata": {
  "anaconda-cloud": {},
  "kernelspec": {
   "display_name": "Python [Root]",
   "language": "python",
   "name": "Python [Root]"
  },
  "language_info": {
   "codemirror_mode": {
    "name": "ipython",
    "version": 3
   },
   "file_extension": ".py",
   "mimetype": "text/x-python",
   "name": "python",
   "nbconvert_exporter": "python",
   "pygments_lexer": "ipython3",
   "version": "3.5.2"
  }
 },
 "nbformat": 4,
 "nbformat_minor": 0
}
