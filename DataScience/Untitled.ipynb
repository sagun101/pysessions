{
 "cells": [
  {
   "cell_type": "code",
   "execution_count": 2,
   "metadata": {
    "collapsed": false
   },
   "outputs": [],
   "source": [
    "import requests\n",
    "from bs4 import BeautifulSoup\n",
    "url=\"http://m.songslover.club/tracks/sia-never-give-up.html\""
   ]
  },
  {
   "cell_type": "code",
   "execution_count": 11,
   "metadata": {
    "collapsed": true
   },
   "outputs": [],
   "source": [
    "context=requests.get(url)"
   ]
  },
  {
   "cell_type": "code",
   "execution_count": 12,
   "metadata": {
    "collapsed": false
   },
   "outputs": [
    {
     "data": {
      "text/plain": [
       "str"
      ]
     },
     "execution_count": 12,
     "metadata": {},
     "output_type": "execute_result"
    }
   ],
   "source": [
    "context=context.text\n",
    "type(context)"
   ]
  },
  {
   "cell_type": "code",
   "execution_count": 29,
   "metadata": {
    "collapsed": false
   },
   "outputs": [],
   "source": [
    "soup=BeautifulSoup(context,\"html.parser\")"
   ]
  },
  {
   "cell_type": "code",
   "execution_count": 14,
   "metadata": {
    "collapsed": false
   },
   "outputs": [
    {
     "data": {
      "text/plain": [
       "bs4.BeautifulSoup"
      ]
     },
     "execution_count": 14,
     "metadata": {},
     "output_type": "execute_result"
    }
   ],
   "source": [
    "type(soup)"
   ]
  },
  {
   "cell_type": "code",
   "execution_count": 36,
   "metadata": {
    "collapsed": false
   },
   "outputs": [
    {
     "data": {
      "text/plain": [
       "[<a class=\"ttip-none\" href=\"https://feeds.feedburner.com/songsloverpk\" target=\"_blank\" title=\"Rss\"><i class=\"fa fa-rss\"></i></a>,\n",
       " <a class=\"ttip-none\" href=\"https://plus.google.com/+SongsloverPk-official\" target=\"_blank\" title=\"Google+\"><i class=\"fa fa-google-plus\"></i></a>,\n",
       " <a class=\"ttip-none\" href=\"https://www.facebook.com/songslover.web\" target=\"_blank\" title=\"Facebook\"><i class=\"fa fa-facebook\"></i></a>,\n",
       " <a class=\"ttip-none\" href=\"https://twitter.com/songslover\" target=\"_blank\" title=\"Twitter\"><i class=\"fa fa-twitter\"></i></a>,\n",
       " <a href=\"https://songslover.mobi/radio/index.html\">Online Radio</a>,\n",
       " <a href=\"https://m.songslover.club/category/english\">English Songs</a>,\n",
       " <a href=\"https://m.songslover.club/category/music\">Old Music Albums</a>,\n",
       " <a href=\"https://m.songslover.club/category/albums/rap\">Rap</a>,\n",
       " <a href=\"https://m.songslover.club/category/albums/hip-hop\">Hip-Hop</a>,\n",
       " <a href=\"https://m.songslover.club/category/albums/rb\">R&amp;B</a>,\n",
       " <a href=\"https://m.songslover.club/category/albums/electro\">Electro</a>,\n",
       " <a href=\"https://m.songslover.club/dmca\">DMCA</a>,\n",
       " <a href=\"https://m.songslover.club/terms\">Terms Of Service</a>,\n",
       " <a href=\"https://songslover.mobi/contact\">Contact</a>,\n",
       " <a class=\"ttip-none\" href=\"https://feeds.feedburner.com/songsloverpk\" target=\"_blank\" title=\"Rss\"><i class=\"fa fa-rss\"></i></a>,\n",
       " <a class=\"ttip-none\" href=\"https://plus.google.com/+SongsloverPk-official\" target=\"_blank\" title=\"Google+\"><i class=\"fa fa-google-plus\"></i></a>,\n",
       " <a class=\"ttip-none\" href=\"https://www.facebook.com/songslover.web\" target=\"_blank\" title=\"Facebook\"><i class=\"fa fa-facebook\"></i></a>,\n",
       " <a class=\"ttip-none\" href=\"https://twitter.com/songslover\" target=\"_blank\" title=\"Twitter\"><i class=\"fa fa-twitter\"></i></a>,\n",
       " <a href=\"https://m.songslover.club/\" title=\"English Songs, Video Songs, Hindi songs, Free Mp3 Songs, Download English Songs, Free Mp3 Downloads\">\n",
       " <img alt=\"English Songs, Video Songs, Hindi songs, Free Mp3 Songs, Download English Songs, Free Mp3 Downloads\" src=\"https://m.songslover.club/wp-content/uploads/2016/10/logo.png\"/><strong>English Songs, Video Songs, Hindi songs, Free Mp3 Songs, Download English Songs, Free Mp3 Downloads English Songs, Video Songs, Hindi songs, Free Mp3 Songs, Download English Songs, Free Mp3 Downloads</strong>\n",
       " </a>,\n",
       " <a href=\"https://songslover.mobi/\">Home</a>,\n",
       " <a href=\"https://m.songslover.club/category/life-style\">Life Style</a>,\n",
       " <a href=\"https://m.songslover.club/category/albums\">Latest Albums</a>,\n",
       " <a href=\"https://m.songslover.club/category/tracks\">Latest Tracks</a>,\n",
       " <a class=\"mega-menu-link\" href=\"https://m.songslover.club/tracks/justin-bieber-supermodel.html\" title=\"Justin Bieber – Supermodel\"><img alt=\"Justin Bieber – Supermodel\" height=\"330\" src=\"https://m.songslover.club/wp-content/uploads/2016/04/justin-bieber-2015-660x330.jpg\" width=\"660\"/><span class=\"fa overlay-icon\"></span></a>,\n",
       " <a class=\"mega-menu-link\" href=\"https://m.songslover.club/tracks/justin-bieber-supermodel.html\" title=\"Justin Bieber – Supermodel\">Justin Bieber – Supermodel</a>,\n",
       " <a class=\"mega-menu-link\" href=\"https://m.songslover.club/tracks/the-weeknd-party-monster.html\" title=\"The Weeknd – Party Monster\"><img alt=\"The Weeknd – Party Monster\" height=\"75\" src=\"https://m.songslover.club/wp-content/uploads/2016/11/The-Weeknd-Party-Monster-110x75.jpg\" width=\"110\"/><span class=\"fa overlay-icon\"></span></a>,\n",
       " <a class=\"mega-menu-link\" href=\"https://m.songslover.club/tracks/the-weeknd-party-monster.html\" title=\"The Weeknd – Party Monster\">The Weeknd – Party Monster</a>,\n",
       " <a class=\"mega-menu-link\" href=\"https://m.songslover.club/tracks/sia-never-give-up.html\" title=\"Sia – Never Give Up\"><img alt=\"Sia – Never Give Up\" height=\"75\" src=\"https://m.songslover.club/wp-content/uploads/2016/11/Never-Give-Up-110x75.jpg\" width=\"110\"/><span class=\"fa overlay-icon\"></span></a>,\n",
       " <a class=\"mega-menu-link\" href=\"https://m.songslover.club/tracks/sia-never-give-up.html\" title=\"Sia – Never Give Up\">Sia – Never Give Up</a>,\n",
       " <a class=\"mega-menu-link\" href=\"https://m.songslover.club/tracks/the-weeknd-i-feel-it-coming.html\" title=\"The Weeknd – I Feel It Coming Feat. Daft Punk\"><img alt=\"The Weeknd – I Feel It Coming Feat. Daft Punk\" height=\"75\" src=\"https://m.songslover.club/wp-content/uploads/2016/11/I-Feel-It-Coming-110x75.jpg\" width=\"110\"/><span class=\"fa overlay-icon\"></span></a>,\n",
       " <a class=\"mega-menu-link\" href=\"https://m.songslover.club/tracks/the-weeknd-i-feel-it-coming.html\" title=\"The Weeknd – I Feel It Coming Feat. Daft Punk\">The Weeknd – I Feel It Coming Feat. Daft Punk</a>,\n",
       " <a class=\"mega-menu-link\" href=\"https://m.songslover.club/tracks/jennifer-lopez-marc-anthony-olvidame-y-pega-la-vuelta.html\" title=\"Jennifer Lopez &amp; Marc Anthony – Olvidame Y Pega La Vuelta\"><img alt=\"Jennifer Lopez &amp; Marc Anthony – Olvidame Y Pega La Vuelta\" height=\"75\" src=\"https://m.songslover.club/wp-content/uploads/2016/11/Jennifer-Lopez-Olvidame-Y-Pega-La-Vuelta-110x75.jpg\" width=\"110\"/><span class=\"fa overlay-icon\"></span></a>,\n",
       " <a class=\"mega-menu-link\" href=\"https://m.songslover.club/tracks/jennifer-lopez-marc-anthony-olvidame-y-pega-la-vuelta.html\" title=\"Jennifer Lopez &amp; Marc Anthony – Olvidame Y Pega La Vuelta\">Jennifer Lopez &amp; Marc Anthony – Olvidame Y Pega La Vuelta</a>,\n",
       " <a class=\"mega-menu-link\" href=\"https://m.songslover.club/tracks/sean-paul-no-lie.html\" title=\"Sean paul – No Lie\"><img alt=\"Sean paul – No Lie\" height=\"75\" src=\"https://m.songslover.club/wp-content/uploads/2016/11/1479485128_008113818bf9af61ac96069887d91525-110x75.jpg\" width=\"110\"/><span class=\"fa overlay-icon\"></span></a>,\n",
       " <a class=\"mega-menu-link\" href=\"https://m.songslover.club/tracks/sean-paul-no-lie.html\" title=\"Sean paul – No Lie\">Sean paul – No Lie</a>,\n",
       " <a class=\"mega-menu-link\" href=\"https://m.songslover.club/tracks/rick-ross-buy-back-the-block.html\" title=\"Rick Ross – Buy Back The Block\"><img alt=\"Rick Ross – Buy Back The Block\" height=\"75\" src=\"https://m.songslover.club/wp-content/uploads/2016/11/1479406109_66bda3901ec2c14d853f7ca470e22fb5-110x75.jpg\" width=\"110\"/><span class=\"fa overlay-icon\"></span></a>,\n",
       " <a class=\"mega-menu-link\" href=\"https://m.songslover.club/tracks/rick-ross-buy-back-the-block.html\" title=\"Rick Ross – Buy Back The Block\">Rick Ross – Buy Back The Block</a>,\n",
       " <a href=\"https://m.songslover.club/category/best-of-the-month\">Best of Month</a>,\n",
       " <a href=\"https://m.songslover.club/category/best-of-year\">Top 100 Chart</a>,\n",
       " <a class=\"mega-menu-link\" href=\"https://m.songslover.club/best-of-year/top-100-trance-songs.html\" title=\"Top 100 Trance &amp; Dance Songs\"><img alt=\"Top 100 Trance &amp; Dance Songs\" height=\"330\" src=\"https://m.songslover.club/wp-content/uploads/2016/03/top-trance-478x330.jpg\" width=\"660\"/><span class=\"fa overlay-icon\"></span></a>,\n",
       " <a class=\"mega-menu-link\" href=\"https://m.songslover.club/best-of-year/top-100-trance-songs.html\" title=\"Top 100 Trance &amp; Dance Songs\">Top 100 Trance &amp; Dance Songs</a>,\n",
       " <a class=\"mega-menu-link\" href=\"https://m.songslover.club/best-of-the-month/top-100-2015.html\" title=\"Best of 2015 – Top Downloads – SongsLover\"><img alt=\"Best of 2015 – Top Downloads – SongsLover\" height=\"75\" src=\"https://m.songslover.club/wp-content/uploads/2015/12/best-of-2015-110x75.gif\" width=\"110\"/><span class=\"fa overlay-icon\"></span></a>,\n",
       " <a class=\"mega-menu-link\" href=\"https://m.songslover.club/best-of-the-month/top-100-2015.html\" title=\"Best of 2015 – Top Downloads – SongsLover\">Best of 2015 – Top Downloads – SongsLover</a>,\n",
       " <a class=\"mega-menu-link\" href=\"https://m.songslover.club/best-of-the-month/70s-hits.html\" title=\"70s Hits – SongsLover\"><img alt=\"70s Hits – SongsLover\" height=\"75\" src=\"https://m.songslover.club/wp-content/uploads/2015/12/70s-Hits-110x75.jpg\" width=\"110\"/><span class=\"fa overlay-icon\"></span></a>,\n",
       " <a class=\"mega-menu-link\" href=\"https://m.songslover.club/best-of-the-month/70s-hits.html\" title=\"70s Hits – SongsLover\">70s Hits – SongsLover</a>,\n",
       " <a class=\"mega-menu-link\" href=\"https://m.songslover.club/music/best-of-80s.html\" title=\"Best Of 80s – SongsLover.pk\"><img alt=\"Best Of 80s – SongsLover.pk\" height=\"75\" src=\"https://m.songslover.club/wp-content/uploads/2015/12/best-of-80s-110x75.jpg\" width=\"110\"/><span class=\"fa overlay-icon\"></span></a>,\n",
       " <a class=\"mega-menu-link\" href=\"https://m.songslover.club/music/best-of-80s.html\" title=\"Best Of 80s – SongsLover.pk\">Best Of 80s – SongsLover.pk</a>,\n",
       " <a class=\"mega-menu-link\" href=\"https://m.songslover.club/best-of-year/top-100-songslover-2012.html\" title=\"Top 100 SongsLover.pk 2012\"><img alt=\"Top 100 SongsLover.pk 2012\" height=\"75\" src=\"https://m.songslover.club/wp-content/uploads/2015/05/Top-100-SongsLover.pk-2012-110x75.jpg\" width=\"110\"/><span class=\"fa overlay-icon\"></span></a>,\n",
       " <a class=\"mega-menu-link\" href=\"https://m.songslover.club/best-of-year/top-100-songslover-2012.html\" title=\"Top 100 SongsLover.pk 2012\">Top 100 SongsLover.pk 2012</a>,\n",
       " <a class=\"mega-menu-link\" href=\"https://m.songslover.club/best-of-year/best-of-2014.html\" title=\"Best Of 2014 SongsLover\"><img alt=\"Best Of 2014 SongsLover\" height=\"75\" src=\"https://m.songslover.club/wp-content/uploads/2015/05/Best-Of-2014-110x75.jpg\" width=\"110\"/><span class=\"fa overlay-icon\"></span></a>,\n",
       " <a class=\"mega-menu-link\" href=\"https://m.songslover.club/best-of-year/best-of-2014.html\" title=\"Best Of 2014 SongsLover\">Best Of 2014 SongsLover</a>,\n",
       " <a class=\"mega-menu-link\" href=\"https://m.songslover.club/best-of-year/top-2013.html\" title=\"Top 100 SongsLover 2013\"><img alt=\"Top 100 SongsLover 2013\" height=\"75\" src=\"https://m.songslover.club/wp-content/uploads/2015/05/TOP-100-2013-110x75.jpg\" width=\"110\"/><span class=\"fa overlay-icon\"></span></a>,\n",
       " <a class=\"mega-menu-link\" href=\"https://m.songslover.club/best-of-year/top-2013.html\" title=\"Top 100 SongsLover 2013\">Top 100 SongsLover 2013</a>,\n",
       " <a href=\"https://m.songslover.club/category/video\">Video Songs</a>,\n",
       " <a class=\"mega-menu-link\" href=\"https://m.songslover.club/video/dj-khaled-do-you-mind.html\" title=\"DJ Khaled – Do You Mind\"><img alt=\"DJ Khaled – Do You Mind\" height=\"330\" src=\"https://m.songslover.club/wp-content/uploads/2015/11/playvideo-660x330.png\" width=\"660\"/><span class=\"fa overlay-icon\"></span></a>,\n",
       " <a class=\"mega-menu-link\" href=\"https://m.songslover.club/video/dj-khaled-do-you-mind.html\" title=\"DJ Khaled – Do You Mind\">DJ Khaled – Do You Mind</a>,\n",
       " <a class=\"mega-menu-link\" href=\"https://m.songslover.club/video/britney-spears-slumber-party-ft-tinashe.html\" title=\"Britney Spears – Slumber Party ft. Tinashe\"><img alt=\"Britney Spears – Slumber Party ft. Tinashe\" height=\"75\" src=\"https://m.songslover.club/wp-content/uploads/2015/11/playvideo-110x75.png\" width=\"110\"/><span class=\"fa overlay-icon\"></span></a>,\n",
       " <a class=\"mega-menu-link\" href=\"https://m.songslover.club/video/britney-spears-slumber-party-ft-tinashe.html\" title=\"Britney Spears – Slumber Party ft. Tinashe\">Britney Spears – Slumber Party ft. Tinashe</a>,\n",
       " <a class=\"mega-menu-link\" href=\"https://m.songslover.club/video/jeezy-goldmine.html\" title=\"Jeezy – Goldmine\"><img alt=\"Jeezy – Goldmine\" height=\"75\" src=\"https://m.songslover.club/wp-content/uploads/2015/07/video-110x75.jpg\" width=\"110\"/><span class=\"fa overlay-icon\"></span></a>,\n",
       " <a class=\"mega-menu-link\" href=\"https://m.songslover.club/video/jeezy-goldmine.html\" title=\"Jeezy – Goldmine\">Jeezy – Goldmine</a>,\n",
       " <a class=\"mega-menu-link\" href=\"https://m.songslover.club/video/soulja-boy-x-mozzy-murder.html\" title=\"Soulja Boy x Mozzy – Murder\"><img alt=\"Soulja Boy x Mozzy – Murder\" height=\"75\" src=\"https://m.songslover.club/wp-content/uploads/2015/11/playvideo-110x75.png\" width=\"110\"/><span class=\"fa overlay-icon\"></span></a>,\n",
       " <a class=\"mega-menu-link\" href=\"https://m.songslover.club/video/soulja-boy-x-mozzy-murder.html\" title=\"Soulja Boy x Mozzy – Murder\">Soulja Boy x Mozzy – Murder</a>,\n",
       " <a class=\"mega-menu-link\" href=\"https://m.songslover.club/video/yg-one-time-comin.html\" title=\"YG – One Time Comin\"><img alt=\"YG – One Time Comin\" height=\"75\" src=\"https://m.songslover.club/wp-content/uploads/2015/11/playvideo-110x75.png\" width=\"110\"/><span class=\"fa overlay-icon\"></span></a>,\n",
       " <a class=\"mega-menu-link\" href=\"https://m.songslover.club/video/yg-one-time-comin.html\" title=\"YG – One Time Comin\">YG – One Time Comin</a>,\n",
       " <a class=\"mega-menu-link\" href=\"https://m.songslover.club/video/saucelord-rich-pace-video.html\" title=\"SauceLord Rich Pace video\"><img alt=\"SauceLord Rich Pace video\" height=\"75\" src=\"https://m.songslover.club/wp-content/uploads/2015/07/video-110x75.jpg\" width=\"110\"/><span class=\"fa overlay-icon\"></span></a>,\n",
       " <a class=\"mega-menu-link\" href=\"https://m.songslover.club/video/saucelord-rich-pace-video.html\" title=\"SauceLord Rich Pace video\">SauceLord Rich Pace video</a>,\n",
       " <a class=\"mega-menu-link\" href=\"https://m.songslover.club/video/i-gotta-ask-joe-budden.html\" title=\"I Gotta Ask – Joe Budden\"><img alt=\"I Gotta Ask – Joe Budden\" height=\"75\" src=\"https://m.songslover.club/wp-content/uploads/2015/11/playvideo-110x75.png\" width=\"110\"/><span class=\"fa overlay-icon\"></span></a>,\n",
       " <a class=\"mega-menu-link\" href=\"https://m.songslover.club/video/i-gotta-ask-joe-budden.html\" title=\"I Gotta Ask – Joe Budden\">I Gotta Ask – Joe Budden</a>,\n",
       " <a href=\"https://m.songslover.club/category/lyrics\">Lyrics</a>,\n",
       " <a class=\"mega-menu-link\" href=\"https://m.songslover.club/tracks/justin-bieber-supermodel.html\" title=\"Justin Bieber – Supermodel\"><img alt=\"Justin Bieber – Supermodel\" height=\"330\" src=\"https://m.songslover.club/wp-content/uploads/2016/04/justin-bieber-2015-660x330.jpg\" width=\"660\"/><span class=\"fa overlay-icon\"></span></a>,\n",
       " <a class=\"mega-menu-link\" href=\"https://m.songslover.club/tracks/justin-bieber-supermodel.html\" title=\"Justin Bieber – Supermodel\">Justin Bieber – Supermodel</a>,\n",
       " <a class=\"mega-menu-link\" href=\"https://m.songslover.club/tracks/the-weeknd-party-monster.html\" title=\"The Weeknd – Party Monster\"><img alt=\"The Weeknd – Party Monster\" height=\"75\" src=\"https://m.songslover.club/wp-content/uploads/2016/11/The-Weeknd-Party-Monster-110x75.jpg\" width=\"110\"/><span class=\"fa overlay-icon\"></span></a>,\n",
       " <a class=\"mega-menu-link\" href=\"https://m.songslover.club/tracks/the-weeknd-party-monster.html\" title=\"The Weeknd – Party Monster\">The Weeknd – Party Monster</a>,\n",
       " <a class=\"mega-menu-link\" href=\"https://m.songslover.club/tracks/sia-never-give-up.html\" title=\"Sia – Never Give Up\"><img alt=\"Sia – Never Give Up\" height=\"75\" src=\"https://m.songslover.club/wp-content/uploads/2016/11/Never-Give-Up-110x75.jpg\" width=\"110\"/><span class=\"fa overlay-icon\"></span></a>,\n",
       " <a class=\"mega-menu-link\" href=\"https://m.songslover.club/tracks/sia-never-give-up.html\" title=\"Sia – Never Give Up\">Sia – Never Give Up</a>,\n",
       " <a class=\"mega-menu-link\" href=\"https://m.songslover.club/tracks/jennifer-lopez-marc-anthony-olvidame-y-pega-la-vuelta.html\" title=\"Jennifer Lopez &amp; Marc Anthony – Olvidame Y Pega La Vuelta\"><img alt=\"Jennifer Lopez &amp; Marc Anthony – Olvidame Y Pega La Vuelta\" height=\"75\" src=\"https://m.songslover.club/wp-content/uploads/2016/11/Jennifer-Lopez-Olvidame-Y-Pega-La-Vuelta-110x75.jpg\" width=\"110\"/><span class=\"fa overlay-icon\"></span></a>,\n",
       " <a class=\"mega-menu-link\" href=\"https://m.songslover.club/tracks/jennifer-lopez-marc-anthony-olvidame-y-pega-la-vuelta.html\" title=\"Jennifer Lopez &amp; Marc Anthony – Olvidame Y Pega La Vuelta\">Jennifer Lopez &amp; Marc Anthony – Olvidame Y Pega La Vuelta</a>,\n",
       " <a class=\"mega-menu-link\" href=\"https://m.songslover.club/tracks/sean-paul-no-lie.html\" title=\"Sean paul – No Lie\"><img alt=\"Sean paul – No Lie\" height=\"75\" src=\"https://m.songslover.club/wp-content/uploads/2016/11/1479485128_008113818bf9af61ac96069887d91525-110x75.jpg\" width=\"110\"/><span class=\"fa overlay-icon\"></span></a>,\n",
       " <a class=\"mega-menu-link\" href=\"https://m.songslover.club/tracks/sean-paul-no-lie.html\" title=\"Sean paul – No Lie\">Sean paul – No Lie</a>,\n",
       " <a class=\"mega-menu-link\" href=\"https://m.songslover.club/tracks/rick-ross-buy-back-the-block.html\" title=\"Rick Ross – Buy Back The Block\"><img alt=\"Rick Ross – Buy Back The Block\" height=\"75\" src=\"https://m.songslover.club/wp-content/uploads/2016/11/1479406109_66bda3901ec2c14d853f7ca470e22fb5-110x75.jpg\" width=\"110\"/><span class=\"fa overlay-icon\"></span></a>,\n",
       " <a class=\"mega-menu-link\" href=\"https://m.songslover.club/tracks/rick-ross-buy-back-the-block.html\" title=\"Rick Ross – Buy Back The Block\">Rick Ross – Buy Back The Block</a>,\n",
       " <a class=\"mega-menu-link\" href=\"https://m.songslover.club/tracks/eminem-infinite-f-b-t-remix.html\" title=\"Eminem – Infinite (F.B.T. Remix)\"><img alt=\"Eminem – Infinite (F.B.T. Remix)\" height=\"75\" src=\"https://m.songslover.club/wp-content/uploads/2016/11/eminem-infinite-110x75.jpg\" width=\"110\"/><span class=\"fa overlay-icon\"></span></a>,\n",
       " <a class=\"mega-menu-link\" href=\"https://m.songslover.club/tracks/eminem-infinite-f-b-t-remix.html\" title=\"Eminem – Infinite (F.B.T. Remix)\">Eminem – Infinite (F.B.T. Remix)</a>,\n",
       " <a href=\"https://m.songslover.club/category/mixtapes\">Mixtapes</a>,\n",
       " <a class=\"mega-menu-link\" href=\"https://m.songslover.club/mixtapes/juicy-j-lit-in-ceylon.html\" title=\"Juicy J – Lit In Ceylon\"><img alt=\"Juicy J – Lit In Ceylon\" height=\"330\" src=\"https://m.songslover.club/wp-content/uploads/2016/07/Juicy-J-Lit-In-Ceylon.jpg\" width=\"660\"/><span class=\"fa overlay-icon\"></span></a>,\n",
       " <a class=\"mega-menu-link\" href=\"https://m.songslover.club/mixtapes/juicy-j-lit-in-ceylon.html\" title=\"Juicy J – Lit In Ceylon\">Juicy J – Lit In Ceylon</a>,\n",
       " <a class=\"mega-menu-link\" href=\"https://m.songslover.club/mixtapes/the-game-nwa2016.html\" title=\"The Game – NWA2016\"><img alt=\"The Game – NWA2016\" height=\"75\" src=\"https://m.songslover.club/wp-content/uploads/2016/06/The-Game-NWA2016-110x75.jpg\" width=\"110\"/><span class=\"fa overlay-icon\"></span></a>,\n",
       " <a class=\"mega-menu-link\" href=\"https://m.songslover.club/mixtapes/the-game-nwa2016.html\" title=\"The Game – NWA2016\">The Game – NWA2016</a>,\n",
       " <a class=\"mega-menu-link\" href=\"https://m.songslover.club/mixtapes/chief-keef-camp-glotiggy.html\" title=\"Chief Keef – Camp GloTiggy\"><img alt=\"Chief Keef – Camp GloTiggy\" height=\"75\" src=\"https://m.songslover.club/wp-content/uploads/2016/05/Download-Chief-Keef-Camp-GloTiggy-album-110x75.jpg\" width=\"110\"/><span class=\"fa overlay-icon\"></span></a>,\n",
       " <a class=\"mega-menu-link\" href=\"https://m.songslover.club/mixtapes/chief-keef-camp-glotiggy.html\" title=\"Chief Keef – Camp GloTiggy\">Chief Keef – Camp GloTiggy</a>,\n",
       " <a class=\"mega-menu-link\" href=\"https://m.songslover.club/mixtapes/tyga-rawwest-nigga-alive.html\" title=\"Tyga – Rawwest Nigga Alive\"><img alt=\"Tyga – Rawwest Nigga Alive\" height=\"75\" src=\"https://m.songslover.club/wp-content/uploads/2016/01/Tyga-Rawwest-Nigga-Alive-110x75.jpg\" width=\"110\"/><span class=\"fa overlay-icon\"></span></a>,\n",
       " <a class=\"mega-menu-link\" href=\"https://m.songslover.club/mixtapes/tyga-rawwest-nigga-alive.html\" title=\"Tyga – Rawwest Nigga Alive\">Tyga – Rawwest Nigga Alive</a>,\n",
       " <a class=\"mega-menu-link\" href=\"https://m.songslover.club/mixtapes/timbaland-king-stays-king.html\" title=\"Timbaland – King Stays King\"><img alt=\"Timbaland – King Stays King\" height=\"75\" src=\"https://m.songslover.club/wp-content/uploads/2015/12/Timbaland-King-Stays-King-110x75.jpg\" width=\"110\"/><span class=\"fa overlay-icon\"></span></a>,\n",
       " <a class=\"mega-menu-link\" href=\"https://m.songslover.club/mixtapes/timbaland-king-stays-king.html\" title=\"Timbaland – King Stays King\">Timbaland – King Stays King</a>,\n",
       " <a class=\"mega-menu-link\" href=\"https://m.songslover.club/music/b-o-b-water.html\" title=\"B.o.B – WATER (We Are The Enemy Really)\"><img alt=\"B.o.B – WATER (We Are The Enemy Really)\" height=\"75\" src=\"https://m.songslover.club/wp-content/uploads/2015/12/B.o.B-WATER-110x75.jpg\" width=\"110\"/><span class=\"fa overlay-icon\"></span></a>,\n",
       " <a class=\"mega-menu-link\" href=\"https://m.songslover.club/music/b-o-b-water.html\" title=\"B.o.B – WATER (We Are The Enemy Really)\">B.o.B – WATER (We Are The Enemy Really)</a>,\n",
       " <a class=\"mega-menu-link\" href=\"https://m.songslover.club/mixtapes/lil-bibby-free-crack-3.html\" title=\"Lil Bibby – Free Crack 3\"><img alt=\"Lil Bibby – Free Crack 3\" height=\"75\" src=\"https://m.songslover.club/wp-content/uploads/2015/11/Lil-Bibby-Free-Crack-3-110x75.jpg\" width=\"110\"/><span class=\"fa overlay-icon\"></span></a>,\n",
       " <a class=\"mega-menu-link\" href=\"https://m.songslover.club/mixtapes/lil-bibby-free-crack-3.html\" title=\"Lil Bibby – Free Crack 3\">Lil Bibby – Free Crack 3</a>,\n",
       " <a href=\"https://songslover.mobi/upcoming-stuff/upcoming-album-release-calendar.html\">Upcoming Albums</a>,\n",
       " <a href=\"https://m.songslover.club/tracks/justin-bieber-supermodel.html\" title=\"Justin Bieber – Supermodel\">Justin Bieber – Supermodel</a>,\n",
       " <a href=\"https://m.songslover.club/tracks/the-weeknd-party-monster.html\" title=\"The Weeknd – Party Monster\">The Weeknd – Party Monster</a>,\n",
       " <a href=\"https://m.songslover.club/albums/ariana-grande-christmas-chill-japan-version.html\" title=\"Ariana Grande – Christmas &amp; Chill (Japan Version)\">Ariana Grande – Christmas &amp; Chill (Japan Version)</a>,\n",
       " <a href=\"https://m.songslover.club/tracks/sia-never-give-up.html\" title=\"Sia – Never Give Up\">Sia – Never Give Up</a>,\n",
       " <a href=\"https://m.songslover.club/tracks/the-weeknd-i-feel-it-coming.html\" title=\"The Weeknd – I Feel It Coming Feat. Daft Punk\">The Weeknd – I Feel It Coming Feat. Daft Punk</a>,\n",
       " <a class=\"crumbs-home\" href=\"https://m.songslover.club\" property=\"v:title\" rel=\"v:url\">Home</a>,\n",
       " <a href=\"https://m.songslover.club/category/tracks\" property=\"v:title\" rel=\"v:url\">Latest Tracks</a>,\n",
       " <a href=\"https://m.songslover.club/category/tracks\" rel=\"category tag\">Latest Tracks</a>,\n",
       " <a href=\"https://m.songslover.club/category/lyrics\" rel=\"category tag\">Lyrics</a>,\n",
       " <a href=\"https://www.stuffdown.com/track/Sia%20-%20Never%20Give%20Up%20(CDQ)%20-%20(www.SongsLover.com).mp3\">https://www.stuffdown.com/track/Sia%20-%20Never%20Give%20Up%20(CDQ)%20-%20(www.SongsLover.com).mp3</a>,\n",
       " <a href=\"https://www.stuffdown.com/track/Sia%20-%20Never%20Give%20Up%20(CDQ)%20-%20(www.SongsLover.com).mp3\" style=\"color: #99cc00;\">Download This Track</a>,\n",
       " <a href=\"https://m.songslover.club/tag/download-never-give-up\" rel=\"tag\">Download Never Give Up</a>,\n",
       " <a href=\"https://m.songslover.club/tag/never-give-up\" rel=\"tag\">Never Give Up</a>,\n",
       " <a href=\"https://m.songslover.club/tag/sia\" rel=\"tag\">Sia</a>,\n",
       " <a href=\"https://m.songslover.club/tag/sia-lyrics\" rel=\"tag\">Sia Lyrics</a>,\n",
       " <a href=\"https://m.songslover.club/author/admin\" rel=\"author\" title=\"Posts by Aliya\">Aliya</a>,\n",
       " <a class=\"social-facebook\" href=\"http://www.facebook.com/sharer.php?u=https://m.songslover.club/tracks/sia-never-give-up.html\" rel=\"external\" target=\"_blank\"><i class=\"fa fa-facebook\"></i> <span>Facebook</span></a>,\n",
       " <a class=\"social-twitter\" href=\"https://twitter.com/intent/tweet?text=Sia+%E2%80%93+Never+Give+Up via %40songslover&amp;url=https://m.songslover.club/tracks/sia-never-give-up.html\" rel=\"external\" target=\"_blank\"><i class=\"fa fa-twitter\"></i> <span>Twitter</span></a>,\n",
       " <a class=\"social-google-plus\" href=\"https://plusone.google.com/_/+1/confirm?hl=en&amp;url=https://m.songslover.club/tracks/sia-never-give-up.html&amp;name=Sia+%E2%80%93+Never+Give+Up\" rel=\"external\" target=\"_blank\"><i class=\"fa fa-google-plus\"></i> <span>Google +</span></a>,\n",
       " <a class=\"social-stumble\" href=\"http://www.stumbleupon.com/submit?url=https://m.songslover.club/tracks/sia-never-give-up.html&amp;title=Sia+%E2%80%93+Never+Give+Up\" rel=\"external\" target=\"_blank\"><i class=\"fa fa-stumbleupon\"></i> <span>Stumbleupon</span></a>,\n",
       " <a class=\"social-linkedin\" href=\"http://www.linkedin.com/shareArticle?mini=true&amp;url=https://m.songslover.club/tracks/sia-never-give-up.html&amp;title=Sia+%E2%80%93+Never+Give+Up\" rel=\"external\" target=\"_blank\"><i class=\"fa fa-linkedin\"></i> <span>LinkedIn</span></a>,\n",
       " <a class=\"social-pinterest\" href=\"http://pinterest.com/pin/create/button/?url=https://m.songslover.club/tracks/sia-never-give-up.html&amp;description=Sia+%E2%80%93+Never+Give+Up&amp;media=https://m.songslover.club/wp-content/uploads/2016/11/Never-Give-Up-480x330.jpg\" rel=\"external\" target=\"_blank\"><i class=\"fa fa-pinterest\"></i> <span>Pinterest</span></a>,\n",
       " <a href=\"https://m.songslover.club/tag/download-never-give-up\" rel=\"tag\">Download Never Give Up</a>,\n",
       " <a href=\"https://m.songslover.club/tag/never-give-up\" rel=\"tag\">Never Give Up</a>,\n",
       " <a href=\"https://m.songslover.club/tag/sia\" rel=\"tag\">Sia</a>,\n",
       " <a href=\"https://m.songslover.club/tag/sia-lyrics\" rel=\"tag\">Sia Lyrics</a>,\n",
       " <a href=\"https://m.songslover.club/tracks/the-weeknd-i-feel-it-coming.html\" rel=\"prev\"><span>Previous</span> The Weeknd – I Feel It Coming Feat. Daft Punk</a>,\n",
       " <a href=\"https://m.songslover.club/albums/ariana-grande-christmas-chill-japan-version.html\" rel=\"next\"><span>Next</span> Ariana Grande – Christmas &amp; Chill (Japan Version)</a>,\n",
       " <a href=\"https://m.songslover.club/tracks/justin-bieber-supermodel.html\">\n",
       " <img alt=\"justin-bieber-2015\" class=\"attachment-tie-medium size-tie-medium wp-post-image\" height=\"165\" src=\"https://m.songslover.club/wp-content/uploads/2016/04/justin-bieber-2015-310x165.jpg\" width=\"310\"/> <span class=\"fa overlay-icon\"></span>\n",
       " </a>,\n",
       " <a href=\"https://m.songslover.club/tracks/justin-bieber-supermodel.html\" rel=\"bookmark\">Justin Bieber – Supermodel</a>,\n",
       " <a href=\"https://m.songslover.club/tracks/the-weeknd-party-monster.html\">\n",
       " <img alt=\"the-weeknd-party-monster\" class=\"attachment-tie-medium size-tie-medium wp-post-image\" height=\"165\" src=\"https://m.songslover.club/wp-content/uploads/2016/11/The-Weeknd-Party-Monster-310x165.jpg\" width=\"310\"/> <span class=\"fa overlay-icon\"></span>\n",
       " </a>,\n",
       " <a href=\"https://m.songslover.club/tracks/the-weeknd-party-monster.html\" rel=\"bookmark\">The Weeknd – Party Monster</a>,\n",
       " <a href=\"https://m.songslover.club/tracks/the-weeknd-i-feel-it-coming.html\">\n",
       " <img alt=\"i-feel-it-coming\" class=\"attachment-tie-medium size-tie-medium wp-post-image\" height=\"165\" src=\"https://m.songslover.club/wp-content/uploads/2016/11/I-Feel-It-Coming-310x165.jpg\" width=\"310\"/> <span class=\"fa overlay-icon\"></span>\n",
       " </a>,\n",
       " <a href=\"https://m.songslover.club/tracks/the-weeknd-i-feel-it-coming.html\" rel=\"bookmark\">The Weeknd – I Feel It Coming Feat. Daft Punk</a>,\n",
       " <a href=\"https://m.songslover.club/tracks/jennifer-lopez-marc-anthony-olvidame-y-pega-la-vuelta.html\">\n",
       " <img alt=\"jennifer-lopez-olvidame-y-pega-la-vuelta\" class=\"attachment-tie-medium size-tie-medium wp-post-image\" height=\"165\" src=\"https://m.songslover.club/wp-content/uploads/2016/11/Jennifer-Lopez-Olvidame-Y-Pega-La-Vuelta-310x165.jpg\" width=\"310\"/> <span class=\"fa overlay-icon\"></span>\n",
       " </a>,\n",
       " <a href=\"https://m.songslover.club/tracks/jennifer-lopez-marc-anthony-olvidame-y-pega-la-vuelta.html\" rel=\"bookmark\">Jennifer Lopez &amp; Marc Anthony – Olvidame Y Pega La Vuelta</a>,\n",
       " <a href=\"https://m.songslover.club/tracks/sean-paul-no-lie.html\">\n",
       " <img alt=\"1479485128_008113818bf9af61ac96069887d91525\" class=\"attachment-tie-medium size-tie-medium wp-post-image\" height=\"165\" src=\"https://m.songslover.club/wp-content/uploads/2016/11/1479485128_008113818bf9af61ac96069887d91525-310x165.jpg\" width=\"310\"/> <span class=\"fa overlay-icon\"></span>\n",
       " </a>,\n",
       " <a href=\"https://m.songslover.club/tracks/sean-paul-no-lie.html\" rel=\"bookmark\">Sean paul – No Lie</a>,\n",
       " <a href=\"https://m.songslover.club/tracks/rick-ross-buy-back-the-block.html\">\n",
       " <img alt=\"1479406109_66bda3901ec2c14d853f7ca470e22fb5\" class=\"attachment-tie-medium size-tie-medium wp-post-image\" height=\"165\" src=\"https://m.songslover.club/wp-content/uploads/2016/11/1479406109_66bda3901ec2c14d853f7ca470e22fb5-310x165.jpg\" width=\"310\"/> <span class=\"fa overlay-icon\"></span>\n",
       " </a>,\n",
       " <a href=\"https://m.songslover.club/tracks/rick-ross-buy-back-the-block.html\" rel=\"bookmark\">Rick Ross – Buy Back The Block</a>,\n",
       " <a href=\"https://m.songslover.club/tracks/eminem-infinite-f-b-t-remix.html\">\n",
       " <img alt=\"eminem-infinite\" class=\"attachment-tie-medium size-tie-medium wp-post-image\" height=\"165\" src=\"https://m.songslover.club/wp-content/uploads/2016/11/eminem-infinite-310x165.jpg\" width=\"310\"/> <span class=\"fa overlay-icon\"></span>\n",
       " </a>,\n",
       " <a href=\"https://m.songslover.club/tracks/eminem-infinite-f-b-t-remix.html\" rel=\"bookmark\">Eminem – Infinite (F.B.T. Remix)</a>,\n",
       " <a href=\"https://m.songslover.club/tracks/justin-bieber-supermodel.html\" rel=\"bookmark\"><img alt=\"justin-bieber-2015\" class=\"attachment-tie-small size-tie-small wp-post-image\" height=\"75\" src=\"https://m.songslover.club/wp-content/uploads/2016/04/justin-bieber-2015-110x75.jpg\" width=\"110\"/><span class=\"fa overlay-icon\"></span></a>,\n",
       " <a href=\"https://m.songslover.club/tracks/justin-bieber-supermodel.html\">Justin Bieber – Supermodel</a>,\n",
       " <a href=\"https://m.songslover.club/tracks/the-weeknd-party-monster.html\" rel=\"bookmark\"><img alt=\"the-weeknd-party-monster\" class=\"attachment-tie-small size-tie-small wp-post-image\" height=\"75\" sizes=\"(max-width: 110px) 100vw, 110px\" src=\"https://m.songslover.club/wp-content/uploads/2016/11/The-Weeknd-Party-Monster-110x75.jpg\" srcset=\"https://m.songslover.club/wp-content/uploads/2016/11/The-Weeknd-Party-Monster-110x75.jpg 110w, https://m.songslover.club/wp-content/uploads/2016/11/The-Weeknd-Party-Monster-780x525.jpg 780w\" width=\"110\"/><span class=\"fa overlay-icon\"></span></a>,\n",
       " <a href=\"https://m.songslover.club/tracks/the-weeknd-party-monster.html\">The Weeknd – Party Monster</a>,\n",
       " <a href=\"https://m.songslover.club/albums/ariana-grande-christmas-chill-japan-version.html\" rel=\"bookmark\"><img alt=\"ariana-grande-christmas-chill\" class=\"attachment-tie-small size-tie-small wp-post-image\" height=\"75\" src=\"https://m.songslover.club/wp-content/uploads/2016/11/Ariana-Grande-Christmas-Chill-110x75.jpg\" width=\"110\"/><span class=\"fa overlay-icon\"></span></a>,\n",
       " <a href=\"https://m.songslover.club/albums/ariana-grande-christmas-chill-japan-version.html\">Ariana Grande – Christmas &amp; Chill (Japan Version)</a>,\n",
       " <a href=\"https://m.songslover.club/tracks/sia-never-give-up.html\" rel=\"bookmark\"><img alt=\"never-give-up\" class=\"attachment-tie-small size-tie-small wp-post-image\" height=\"75\" sizes=\"(max-width: 110px) 100vw, 110px\" src=\"https://m.songslover.club/wp-content/uploads/2016/11/Never-Give-Up-110x75.jpg\" srcset=\"https://m.songslover.club/wp-content/uploads/2016/11/Never-Give-Up-110x75.jpg 110w, https://m.songslover.club/wp-content/uploads/2016/11/Never-Give-Up-480x330.jpg 480w\" width=\"110\"/><span class=\"fa overlay-icon\"></span></a>,\n",
       " <a href=\"https://m.songslover.club/tracks/sia-never-give-up.html\">Sia – Never Give Up</a>,\n",
       " <a href=\"https://m.songslover.club/tracks/the-weeknd-i-feel-it-coming.html\" rel=\"bookmark\"><img alt=\"i-feel-it-coming\" class=\"attachment-tie-small size-tie-small wp-post-image\" height=\"75\" src=\"https://m.songslover.club/wp-content/uploads/2016/11/I-Feel-It-Coming-110x75.jpg\" width=\"110\"/><span class=\"fa overlay-icon\"></span></a>,\n",
       " <a href=\"https://m.songslover.club/tracks/the-weeknd-i-feel-it-coming.html\">The Weeknd – I Feel It Coming Feat. Daft Punk</a>,\n",
       " <a href=\"https://m.songslover.club/music/justin-bieber-purpose-2015.html\" rel=\"bookmark\" title=\"Justin Bieber – Purpose\"><img alt=\"Justin Bieber - Purpose\" class=\"attachment-tie-small size-tie-small wp-post-image\" height=\"75\" src=\"https://m.songslover.club/wp-content/uploads/2015/11/Justin-Bieber-Purpose-110x75.jpg\" width=\"110\"/><span class=\"fa overlay-icon\"></span></a>,\n",
       " <a href=\"https://m.songslover.club/music/justin-bieber-purpose-2015.html\">Justin Bieber – Purpose</a>,\n",
       " <a href=\"https://m.songslover.club/best-of-the-month/best-of-may-2015.html\" rel=\"bookmark\" title=\"Best of May 2015\"><img alt=\"best of may 2015\" class=\"attachment-tie-small size-tie-small wp-post-image\" height=\"75\" src=\"https://m.songslover.club/wp-content/uploads/2015/06/best-of-may-2015-110x75.jpg\" width=\"110\"/><span class=\"fa overlay-icon\"></span></a>,\n",
       " <a href=\"https://m.songslover.club/best-of-the-month/best-of-may-2015.html\">Best of May 2015</a>,\n",
       " <a href=\"https://m.songslover.club/best-of-the-month/best-of-june-2015.html\" rel=\"bookmark\" title=\"Best of June 2015\"><img alt=\"Best of June 2015\" class=\"attachment-tie-small size-tie-small wp-post-image\" height=\"75\" src=\"https://m.songslover.club/wp-content/uploads/2015/07/Best-of-June-2015-110x75.jpg\" width=\"110\"/><span class=\"fa overlay-icon\"></span></a>,\n",
       " <a href=\"https://m.songslover.club/best-of-the-month/best-of-june-2015.html\">Best of June 2015</a>,\n",
       " <a href=\"https://m.songslover.club/tracks/beautiful-now-feat-jon-bellion.html\" rel=\"bookmark\" title=\"Zedd Beautiful Now (feat. Jon Bellion)\"><img alt=\"cover\" class=\"attachment-tie-small size-tie-small wp-post-image\" height=\"75\" src=\"https://m.songslover.club/wp-content/uploads/2015/07/cover1-110x75.jpg\" width=\"110\"/><span class=\"fa overlay-icon\"></span></a>,\n",
       " <a href=\"https://m.songslover.club/tracks/beautiful-now-feat-jon-bellion.html\">Zedd Beautiful Now (feat. Jon Bellion)</a>,\n",
       " <a href=\"https://m.songslover.club/best-of-the-month/best-of-august-2015.html\" rel=\"bookmark\" title=\"Best of August 2015\"><img alt=\"Best of August 2015\" class=\"attachment-tie-small size-tie-small wp-post-image\" height=\"75\" src=\"https://m.songslover.club/wp-content/uploads/2015/08/Best-of-August-2015--110x75.jpg\" width=\"110\"/><span class=\"fa overlay-icon\"></span></a>,\n",
       " <a href=\"https://m.songslover.club/best-of-the-month/best-of-august-2015.html\">Best of August 2015</a>,\n",
       " <a class=\"tag-link-143 tag-link-position-1\" href=\"https://m.songslover.club/tag/top-songs\" style=\"font-size: 8pt;\" title=\"13 topics\">top songs</a>,\n",
       " <a class=\"tag-link-164 tag-link-position-2\" href=\"https://m.songslover.club/tag/best-songs\" style=\"font-size: 8pt;\" title=\"10 topics\">best songs</a>,\n",
       " <a class=\"tag-link-412 tag-link-position-3\" href=\"https://m.songslover.club/tag/hip-hop-songs\" style=\"font-size: 8pt;\" title=\"9 topics\">hip hop songs</a>,\n",
       " <a class=\"tag-link-1016 tag-link-position-4\" href=\"https://m.songslover.club/tag/mp3-songs\" style=\"font-size: 8pt;\" title=\"6 topics\">mp3 songs</a>,\n",
       " <a class=\"tag-link-2268 tag-link-position-5\" href=\"https://m.songslover.club/tag/top-tracks\" style=\"font-size: 8pt;\" title=\"5 topics\">top tracks</a>,\n",
       " <a class=\"tag-link-427 tag-link-position-6\" href=\"https://m.songslover.club/tag/music\" style=\"font-size: 8pt;\" title=\"5 topics\">Music</a>,\n",
       " <a class=\"tag-link-2269 tag-link-position-7\" href=\"https://m.songslover.club/tag/best-mp3-songs\" style=\"font-size: 8pt;\" title=\"4 topics\">best mp3 songs</a>,\n",
       " <a class=\"tag-link-2116 tag-link-position-8\" href=\"https://m.songslover.club/tag/rnb-songs\" style=\"font-size: 8pt;\" title=\"4 topics\">Rnb songs</a>,\n",
       " <a class=\"tag-link-1871 tag-link-position-9\" href=\"https://m.songslover.club/tag/taylor-swift-songs\" style=\"font-size: 8pt;\" title=\"4 topics\">Taylor Swift songs</a>,\n",
       " <a class=\"tag-link-1878 tag-link-position-10\" href=\"https://m.songslover.club/tag/taylor-swift-mp3-songs\" style=\"font-size: 8pt;\" title=\"4 topics\">Taylor Swift mp3 songs</a>,\n",
       " <a class=\"tag-link-1382 tag-link-position-11\" href=\"https://m.songslover.club/tag/download-music\" style=\"font-size: 8pt;\" title=\"4 topics\">download music</a>,\n",
       " <a class=\"tag-link-1876 tag-link-position-12\" href=\"https://m.songslover.club/tag/country-music\" style=\"font-size: 8pt;\" title=\"4 topics\">Country Music</a>,\n",
       " <a class=\"tag-link-2486 tag-link-position-13\" href=\"https://m.songslover.club/tag/songs\" style=\"font-size: 8pt;\" title=\"4 topics\">songs</a>,\n",
       " <a class=\"tag-link-3376 tag-link-position-14\" href=\"https://m.songslover.club/tag/hip-hop-music\" style=\"font-size: 8pt;\" title=\"4 topics\">Hip Hop Music</a>,\n",
       " <a class=\"tag-link-5647 tag-link-position-15\" href=\"https://m.songslover.club/tag/lil-wayne-mp3-songs\" style=\"font-size: 8pt;\" title=\"4 topics\">Lil Wayne mp3 songs</a>,\n",
       " <a class=\"tag-link-1877 tag-link-position-16\" href=\"https://m.songslover.club/tag/taylor-swift-music\" style=\"font-size: 8pt;\" title=\"3 topics\">Taylor Swift Music</a>,\n",
       " <a class=\"tag-link-1879 tag-link-position-17\" href=\"https://m.songslover.club/tag/taylor-swift-albums\" style=\"font-size: 8pt;\" title=\"3 topics\">Taylor Swift albums</a>,\n",
       " <a class=\"tag-link-2448 tag-link-position-18\" href=\"https://m.songslover.club/tag/shakira-songs\" style=\"font-size: 8pt;\" title=\"3 topics\">Shakira songs</a>,\n",
       " <a class=\"tag-link-2449 tag-link-position-19\" href=\"https://m.songslover.club/tag/shakira-music\" style=\"font-size: 8pt;\" title=\"3 topics\">shakira music</a>,\n",
       " <a class=\"tag-link-1875 tag-link-position-20\" href=\"https://m.songslover.club/tag/taylorswift-songs\" style=\"font-size: 8pt;\" title=\"3 topics\">TaylorSwift songs</a>,\n",
       " <a class=\"tag-link-620 tag-link-position-21\" href=\"https://m.songslover.club/tag/download-akon-songs\" style=\"font-size: 8pt;\" title=\"3 topics\">Download Akon Songs</a>,\n",
       " <a class=\"tag-link-146 tag-link-position-22\" href=\"https://m.songslover.club/tag/hit-songs\" style=\"font-size: 8pt;\" title=\"3 topics\">hit songs</a>,\n",
       " <a class=\"tag-link-406 tag-link-position-23\" href=\"https://m.songslover.club/tag/jay-z\" style=\"font-size: 8pt;\" title=\"3 topics\">Jay-Z</a>,\n",
       " <a class=\"tag-link-443 tag-link-position-24\" href=\"https://m.songslover.club/tag/download-rap-songs\" style=\"font-size: 8pt;\" title=\"3 topics\">Download Rap Songs</a>,\n",
       " <a class=\"tag-link-444 tag-link-position-25\" href=\"https://m.songslover.club/tag/rap-music\" style=\"font-size: 8pt;\" title=\"3 topics\">Rap Music</a>,\n",
       " <a href=\"https://m.songslover.club/tracks/justin-bieber-supermodel.html\">Justin Bieber – Supermodel</a>,\n",
       " <a href=\"https://m.songslover.club/tracks/the-weeknd-party-monster.html\">The Weeknd – Party Monster</a>,\n",
       " <a href=\"https://m.songslover.club/albums/ariana-grande-christmas-chill-japan-version.html\">Ariana Grande – Christmas &amp; Chill (Japan Version)</a>,\n",
       " <a href=\"https://m.songslover.club/tracks/sia-never-give-up.html\">Sia – Never Give Up</a>,\n",
       " <a href=\"https://m.songslover.club/tracks/the-weeknd-i-feel-it-coming.html\">The Weeknd – I Feel It Coming Feat. Daft Punk</a>,\n",
       " <a href=\"https://m.songslover.club/tracks/jennifer-lopez-marc-anthony-olvidame-y-pega-la-vuelta.html\">Jennifer Lopez &amp; Marc Anthony – Olvidame Y Pega La Vuelta</a>,\n",
       " <a href=\"https://m.songslover.club/tracks/sean-paul-no-lie.html\">Sean paul – No Lie</a>,\n",
       " <a href=\"https://m.songslover.club/tracks/rick-ross-buy-back-the-block.html\">Rick Ross – Buy Back The Block</a>,\n",
       " <a href=\"https://m.songslover.club/tracks/eminem-infinite-f-b-t-remix.html\">Eminem – Infinite (F.B.T. Remix)</a>,\n",
       " <a href=\"https://m.songslover.club/tracks/nicki-minaj-black-barbies-black-beatles-remix.html\">Nicki Minaj – Black Barbies (Black Beatles Remix)</a>,\n",
       " <a href=\"https://m.songslover.club/tracks/shaggy-feat-assassin-feeling-alive.html\">Shaggy Feat Assassin – Feeling Alive</a>,\n",
       " <a href=\"https://m.songslover.club/tracks/psy-gangnam-style.html\">PSY – Gangnam Style</a>,\n",
       " <a href=\"https://m.songslover.club/english/tynisha-keli-the-5th-element.html\">Tynisha Keli – The 5th Element</a>,\n",
       " <a href=\"https://m.songslover.club/albums/juicy-j-mustbenice.html\">Juicy J – MUSTBENICE</a>,\n",
       " <a href=\"https://m.songslover.club/albums/t-i-us-or-else.html\">T.I. – Us Or Else</a>,\n",
       " <a href=\"https://m.songslover.club/tracks/justin-bieber-supermodel.html\">Justin Bieber – Supermodel</a>,\n",
       " <a href=\"https://m.songslover.club/tracks/the-weeknd-party-monster.html\">The Weeknd – Party Monster</a>,\n",
       " <a href=\"https://m.songslover.club/albums/ariana-grande-christmas-chill-japan-version.html\">Ariana Grande – Christmas &amp; Chill (Japan Version)</a>,\n",
       " <a href=\"https://m.songslover.club/tracks/sia-never-give-up.html\">Sia – Never Give Up</a>,\n",
       " <a href=\"https://m.songslover.club/tracks/the-weeknd-i-feel-it-coming.html\">The Weeknd – I Feel It Coming Feat. Daft Punk</a>,\n",
       " <a href=\"https://m.songslover.club/category/atoz\" title=\"atoz music albums \">A to Z</a>,\n",
       " <a href=\"https://m.songslover.club/category/best-of-the-month\" title=\"best of the best songs, top songs of the month, tracks of the month, album of the month, best songs in this month, top tracks, albums of the month, best songs of the month, album of the month download\">Best of Month</a>,\n",
       " <a href=\"https://m.songslover.club/category/albums/electro\">Electro</a>,\n",
       " <a href=\"https://m.songslover.club/category/english\" title=\"English Songs,Download English songs,Latest English Songs, English Music, English Mp3 songs, Latest Mp3 Songs\">English Songs</a>,\n",
       " <a href=\"https://m.songslover.club/category/albums/hip-hop\">Hip-Hop</a>,\n",
       " <a href=\"https://m.songslover.club/category/albums\" title=\"Latest Music Album, Download mp3 albums\">Latest Albums</a>,\n",
       " <a href=\"https://m.songslover.club/category/tracks\" title=\"Latest songs, latest tracks, latest music tracks, new songs, latest singles, download latest songs, latest english songs, latest mp3 singles, latest songs, new singles, latest singles, song tracks, latest tracks, latest music tracks, download latest songs, new english songs, latest english tracks, latest music, free mp3 downloads, top songs, top tracks, new songs, music lyrics, songs lyrics, latest tracks with lyrics, free download, new songs free download, music tracks\">Latest Tracks</a>,\n",
       " <a href=\"https://m.songslover.club/category/life-style\" title=\"celebs life style, latest artist news, funny news, music news, life style about artists, latest Celebs news, Celebs secrets \">Life Style</a>,\n",
       " <a href=\"https://m.songslover.club/category/lyrics\" title=\"lyrics, lyrics search, lyric finder, printable lyrics, Song Lyrics, music lyrics, latest lyrics, latest music lyrics, mp3 song lyrics, music videos lyrics\">Lyrics</a>,\n",
       " <a href=\"https://m.songslover.club/category/mixtapes\" title=\"Mixtapes, latest mixtapes, download mixtapes, new mixtapes\">Mixtapes</a>,\n",
       " <a href=\"https://m.songslover.club/category/music-album\">Music albums</a>,\n",
       " <a href=\"https://m.songslover.club/category/music\" title=\"Music Albums, Latest Music Albums, New Music Albums, Download Music Albums, Downlaod Music, Latest Music, Latest Songs, Mp3 Albums, Mp3 Music Albums, Mp3 Downloads, Music, Latest Albums, Download Albums, Free Music Albums, Listen Music Albums, Download Music Albums, English Music Albums, English Artists albums\">Old Music Albums</a>,\n",
       " <a href=\"https://m.songslover.club/category/radio\" title=\"Online Radio, listen radio, music, live music, music radio, radio music, 24/7 radio, radio online, online radio channel\">Online Radio</a>,\n",
       " <a href=\"https://m.songslover.club/category/albums/rb\">R&amp;B</a>,\n",
       " <a href=\"https://m.songslover.club/category/albums/rap\">Rap</a>,\n",
       " <a href=\"https://m.songslover.club/category/best-of-year\" title=\"best of 2015, best of 2016, best of 2017, best of 2018, mp3 songs, best mp3 songs, top mp3 songs, latest mp3 songs\">Top 100 Chart</a>,\n",
       " <a href=\"https://m.songslover.club/category/top-albums\" title=\"top albums, top 2016 albums, top music albums, most downloaded music albums, best music albums 2015, top music albums by years\">Top Album</a>,\n",
       " <a href=\"https://m.songslover.club/category/upcoming-stuff\" title=\"Upcoming Albums, Upcoming Music Albums, coming soon albums\">Upcoming Stuff</a>,\n",
       " <a href=\"https://m.songslover.club/category/video\" title=\"Videos, Music Videos, Video Songs, Hip Hop Music Videos, Bollywood Videos, Hollywood Videos\">Video Songs</a>,\n",
       " <a href=\"https://songslover.club/\">english songs</a>,\n",
       " <a class=\"ttip-none\" href=\"https://feeds.feedburner.com/songsloverpk\" target=\"_blank\" title=\"Rss\"><i class=\"fa fa-rss\"></i></a>,\n",
       " <a class=\"ttip-none\" href=\"https://plus.google.com/+SongsloverPk-official\" target=\"_blank\" title=\"Google+\"><i class=\"fa fa-google-plus\"></i></a>,\n",
       " <a class=\"ttip-none\" href=\"https://www.facebook.com/songslover.web\" target=\"_blank\" title=\"Facebook\"><i class=\"fa fa-facebook\"></i></a>,\n",
       " <a class=\"ttip-none\" href=\"https://twitter.com/songslover\" target=\"_blank\" title=\"Twitter\"><i class=\"fa fa-twitter\"></i></a>]"
      ]
     },
     "execution_count": 36,
     "metadata": {},
     "output_type": "execute_result"
    }
   ],
   "source": [
    "soup.select('a[href^=\"http\"]')"
   ]
  },
  {
   "cell_type": "code",
   "execution_count": null,
   "metadata": {
    "collapsed": true
   },
   "outputs": [],
   "source": []
  }
 ],
 "metadata": {
  "kernelspec": {
   "display_name": "Python [Root]",
   "language": "python",
   "name": "Python [Root]"
  },
  "language_info": {
   "codemirror_mode": {
    "name": "ipython",
    "version": 3
   },
   "file_extension": ".py",
   "mimetype": "text/x-python",
   "name": "python",
   "nbconvert_exporter": "python",
   "pygments_lexer": "ipython3",
   "version": "3.5.2"
  }
 },
 "nbformat": 4,
 "nbformat_minor": 0
}
