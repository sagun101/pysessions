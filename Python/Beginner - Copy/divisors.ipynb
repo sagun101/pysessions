{
 "cells": [
  {
   "cell_type": "code",
   "execution_count": 23,
   "metadata": {
    "collapsed": false
   },
   "outputs": [
    {
     "name": "stdout",
     "output_type": "stream",
     "text": [
      "Enter a number2389\n"
     ]
    }
   ],
   "source": [
    "num=input(\"Enter a number\")\n",
    "num = float(num)\n",
    "list=[]"
   ]
  },
  {
   "cell_type": "code",
   "execution_count": 24,
   "metadata": {
    "collapsed": false
   },
   "outputs": [
    {
     "name": "stdout",
     "output_type": "stream",
     "text": [
      "[1, 2389]\n",
      "The number is a prime \n"
     ]
    }
   ],
   "source": [
    "for i in range(1,10000000):\n",
    "    if num%i == 0:\n",
    "        list.append(i)\n",
    "print(list)\n",
    "if len(list)== 2:\n",
    "    print(\"The number is a prime \")"
   ]
  }
 ],
 "metadata": {
  "kernelspec": {
   "display_name": "Python [Root]",
   "language": "python",
   "name": "Python [Root]"
  },
  "language_info": {
   "codemirror_mode": {
    "name": "ipython",
    "version": 3
   },
   "file_extension": ".py",
   "mimetype": "text/x-python",
   "name": "python",
   "nbconvert_exporter": "python",
   "pygments_lexer": "ipython3",
   "version": "3.5.2"
  }
 },
 "nbformat": 4,
 "nbformat_minor": 0
}
