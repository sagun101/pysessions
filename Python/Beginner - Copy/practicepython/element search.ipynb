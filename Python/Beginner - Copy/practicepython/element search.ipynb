{
 "cells": [
  {
   "cell_type": "code",
   "execution_count": null,
   "metadata": {
    "collapsed": true
   },
   "outputs": [],
   "source": [
    "            #binary search x=[0, 1, 2, 3, 4, 5, 6, 7, 8, 9, 10, 11, 12]\n",
    "def binary_search(x,y):   #x-list y-element to be searched\n",
    "    lbound=0\n",
    "    hbound=len(x)-1\n",
    "    while exit=\"false\":\n",
    "        if lbound > hbound:\n",
    "            exit=\"true\"\n",
    "            print(\"Element not found\")\n",
    "        else:\n",
    "            mid=int(lbound+(hbound-lbound)/2)\n",
    "            if mid==y:\n",
    "                print(\"Element found\")\n",
    "                exit=\"true\"\n",
    "            elif y > mid:\n",
    "                lbound=mid+1\n",
    "            elif y < mid:\n",
    "                hbound=mid-1\n",
    "       \n",
    "        \n",
    "        \n",
    " "
   ]
  },
  {
   "cell_type": "code",
   "execution_count": 1,
   "metadata": {
    "collapsed": false
   },
   "outputs": [
    {
     "name": "stdout",
     "output_type": "stream",
     "text": [
      "[0, 1, 2, 3, 4, 5, 6, 7, 8, 9, 10, 11]\n"
     ]
    }
   ],
   "source": [
    "a=list(range(0,12))\n",
    "print(a)"
   ]
  },
  {
   "cell_type": "code",
   "execution_count": null,
   "metadata": {
    "collapsed": true
   },
   "outputs": [],
   "source": []
  }
 ],
 "metadata": {
  "anaconda-cloud": {},
  "kernelspec": {
   "display_name": "Python [Root]",
   "language": "python",
   "name": "Python [Root]"
  },
  "language_info": {
   "codemirror_mode": {
    "name": "ipython",
    "version": 3
   },
   "file_extension": ".py",
   "mimetype": "text/x-python",
   "name": "python",
   "nbconvert_exporter": "python",
   "pygments_lexer": "ipython3",
   "version": "3.5.2"
  }
 },
 "nbformat": 4,
 "nbformat_minor": 0
}
