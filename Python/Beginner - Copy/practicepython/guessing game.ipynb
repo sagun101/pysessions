{
 "cells": [
  {
   "cell_type": "code",
   "execution_count": 1,
   "metadata": {
    "collapsed": true
   },
   "outputs": [],
   "source": [
    "from random import randint\n",
    "list=[\"0\",\"1\",\"2\",\"3\",\"4\",\"5\",\"6\",\"7\",\"8\",\"9\",\"exit\"]"
   ]
  },
  {
   "cell_type": "code",
   "execution_count": 7,
   "metadata": {
    "collapsed": false
   },
   "outputs": [
    {
     "name": "stdout",
     "output_type": "stream",
     "text": [
      "Generating random number from 0 to 9\n",
      "number generated\n",
      "Enter your guess5\n",
      "your guess is low\n",
      "Enter your guess5\n",
      "your guess is low\n",
      "Enter your guessexit\n",
      "Your total  guesses = 2\n"
     ]
    }
   ],
   "source": [
    "print(\"Generating random number from 0 to 9\")\n",
    "rnd=randint(0,9)\n",
    "print(\"number generated\")\n",
    "guess=input(\"Enter your guess\")\n",
    "count=0\n",
    "exit=\"false\"\n",
    "\n",
    "\n",
    "while exit==\"false\":\n",
    "    if guess not in list:\n",
    "        print(\"Invalid input\")\n",
    "    elif guess==\"exit\":\n",
    "        exit=\"true\"\n",
    "        break\n",
    "    elif int(guess)== rnd:\n",
    "        print(\"you guessed right\")\n",
    "    elif int(guess) < rnd:\n",
    "        print(\"your guess is low\")\n",
    "    elif int(guess) > rnd:\n",
    "        print(\"your guess is high\")\n",
    "    count+=1\n",
    "    guess=input(\"Enter your guess\")\n",
    "print(\"Your total  guesses = {}\".format(count))\n",
    "    \n",
    "\n",
    "        "
   ]
  }
 ],
 "metadata": {
  "kernelspec": {
   "display_name": "Python [Root]",
   "language": "python",
   "name": "Python [Root]"
  },
  "language_info": {
   "codemirror_mode": {
    "name": "ipython",
    "version": 3
   },
   "file_extension": ".py",
   "mimetype": "text/x-python",
   "name": "python",
   "nbconvert_exporter": "python",
   "pygments_lexer": "ipython3",
   "version": "3.5.2"
  }
 },
 "nbformat": 4,
 "nbformat_minor": 0
}
