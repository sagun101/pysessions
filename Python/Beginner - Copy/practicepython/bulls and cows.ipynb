{
 "cells": [
  {
   "cell_type": "code",
   "execution_count": null,
   "metadata": {
    "collapsed": false
   },
   "outputs": [],
   "source": [
    "def randomizer():\n",
    "    import random\n",
    "    num_list=list(\"0123456789\")\n",
    "    rnd=[]\n",
    "    for i in range(0,4):\n",
    "        c=random.choice(num_list)\n",
    "        rnd.append(c)\n",
    "        num_list.remove(c)\n",
    "        #print(num_list)\n",
    "    #print(rnd)\n",
    "    return rnd\n",
    "\n",
    "\n",
    "    \n",
    "#import random\n",
    "#num_list=list(\"0123456789\")\n",
    "#rnd=[]\n",
    "#for i in range(0,4):\n",
    "#    c=random.choice(num_list)\n",
    "#    rnd.append(c)\n",
    "#    num_list.remove(c)\n",
    "#    print(num_list)\n",
    "#print(rnd)\n",
    "\n"
   ]
  },
  {
   "cell_type": "code",
   "execution_count": null,
   "metadata": {
    "collapsed": false
   },
   "outputs": [],
   "source": [
    "def check():\n",
    "    \n",
    "    ok=\"false\"\n",
    "    while ok==\"false\":\n",
    "        num=list(input(\"Enter a 4 unique digit number\"))\n",
    "        if len(num) != 4:\n",
    "            print(\"invalid input\")\n",
    "            ok=\"false\"\n",
    "        else:\n",
    "            for i in range(0,4):\n",
    "                #print(\"i=\",i)\n",
    "                for j in range(i+1,4):\n",
    "                   #print(\"j=\",j)\n",
    "                    if num[i]==num[j]:\n",
    "                        ok=\"false\"\n",
    "                        print(\"invalid\")\n",
    "                        break\n",
    "                    else:\n",
    "                        ok=\"true\"\n",
    "                        continue\n",
    "                if ok==\"false\":\n",
    "                    break\n",
    "                else: \n",
    "                    continue\n",
    "\n",
    "                #else:\n",
    "                   # ok=\"true\"\n",
    "                   # print(\"good to go!!\")\n",
    "    print(\"ahhhhh\")\n",
    "    return num"
   ]
  },
  {
   "cell_type": "code",
   "execution_count": null,
   "metadata": {
    "collapsed": false
   },
   "outputs": [],
   "source": [
    "rnd=randomizer()\n",
    "#print(rnd)\n",
    "won=\"false\"\n",
    "tries=0\n",
    "while won==\"false\":\n",
    "    cow,bull=0,0\n",
    "    num=check()\n",
    "    tries+=1\n",
    "    if num == rnd:\n",
    "        \n",
    "        bull,cow=4,0\n",
    "        won=\"true\"\n",
    "    else:\n",
    "        for i,j in enumerate(num):\n",
    "            #print(i,j)\n",
    "            for x,y in enumerate(rnd):\n",
    "                if i==x and j==y:\n",
    "                    bull+=1\n",
    "                elif i != x and j==y:\n",
    "                    cow+=1\n",
    "        print(num,\"Bull = \",bull,\"Cow = \",cow)\n",
    "\n",
    "        \n",
    "print(rnd)\n",
    "print(num,\"Bull = \",bull,\"Cow = \",cow)\n",
    "print(\"you guessed correctly\")\n",
    "print(\"You took \", tries,\"tries to guess correctly\" )\n",
    "    \n"
   ]
  }
 ],
 "metadata": {
  "anaconda-cloud": {},
  "kernelspec": {
   "display_name": "Python [Root]",
   "language": "python",
   "name": "Python [Root]"
  },
  "language_info": {
   "codemirror_mode": {
    "name": "ipython",
    "version": 3
   },
   "file_extension": ".py",
   "mimetype": "text/x-python",
   "name": "python",
   "nbconvert_exporter": "python",
   "pygments_lexer": "ipython3",
   "version": "3.5.2"
  }
 },
 "nbformat": 4,
 "nbformat_minor": 0
}
