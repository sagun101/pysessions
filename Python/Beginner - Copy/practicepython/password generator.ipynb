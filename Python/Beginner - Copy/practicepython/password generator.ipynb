{
 "cells": [
  {
   "cell_type": "code",
   "execution_count": null,
   "metadata": {
    "collapsed": false
   },
   "outputs": [],
   "source": [
    "import random\n",
    "alpha=\"ABCDEFGHIJKLMNOPQRSTUVWXYZabcdefghijklmnopqrstuvwxyz\"\n",
    "num=\"0123456789\"\n",
    "#sym=\"\"\"#$%&'()*+,-./:\";<=>?@[\\]^_`{|}~!\"\"\"\n",
    "selector=[0,1]\n",
    "word=[]"
   ]
  },
  {
   "cell_type": "code",
   "execution_count": null,
   "metadata": {
    "collapsed": false
   },
   "outputs": [],
   "source": [
    "#my way\n",
    "\n",
    "length=input(\"Enter the length of the password\")\n",
    "word=[x for x in range(0,int(length))]\n",
    "#print(word)\n",
    "counter=word[0:]\n",
    "#print(counter)\n",
    "print(\"Generating Password!!!\")\n",
    "while counter != []:\n",
    "    i=random.choice(counter)\n",
    "    #print(i)\n",
    "    counter.remove(i)\n",
    "    #print(counter)\n",
    "    #print(word)\n",
    "    j=random.choice(selector)\n",
    "    #print(j)\n",
    "    if j==0:\n",
    "        word[i]=random.choice(alpha)\n",
    "    else: word[i]= random.choice(num)\n",
    "    #print(word[i])\n",
    "print(\"Password generated!!!\")\n",
    "#print(word)\n",
    "print(\"The generated password is {}\".format(\"\".join(word)))\n"
   ]
  },
  {
   "cell_type": "code",
   "execution_count": null,
   "metadata": {
    "collapsed": false
   },
   "outputs": [],
   "source": [
    "#Simple way ///limited to 62 character password\n",
    "import random\n",
    "list=\"ABCDEFGHIJKLMNOPQRSTUVWXYZabcdefghijklmnopqrstuvwxyz0123456789\"\n",
    "print(len(list))\n",
    "length= input(\"Enter the length of the password\")\n",
    "password=random.sample(list,int(length))\n",
    "print(\"The generated password is {}\".format(\"\".join(password)))"
   ]
  },
  {
   "cell_type": "code",
   "execution_count": null,
   "metadata": {
    "collapsed": false
   },
   "outputs": [],
   "source": [
    "#better way\n",
    "\n",
    "\n",
    "import string\n",
    "import random\n",
    "\n",
    "def pw_gen(size = 8, chars=string.ascii_letters + string.digits + string.punctuation):\n",
    "    return ''.join(random.choice(chars) for _ in range(size))\n",
    "\n",
    "print(pw_gen(int(input('How many characters in your password?'))))"
   ]
  }
 ],
 "metadata": {
  "anaconda-cloud": {},
  "kernelspec": {
   "display_name": "Python [Root]",
   "language": "python",
   "name": "Python [Root]"
  },
  "language_info": {
   "codemirror_mode": {
    "name": "ipython",
    "version": 3
   },
   "file_extension": ".py",
   "mimetype": "text/x-python",
   "name": "python",
   "nbconvert_exporter": "python",
   "pygments_lexer": "ipython3",
   "version": "3.5.2"
  }
 },
 "nbformat": 4,
 "nbformat_minor": 0
}
