{
 "cells": [
  {
   "cell_type": "code",
   "execution_count": 1,
   "metadata": {
    "collapsed": false
   },
   "outputs": [
    {
     "name": "stdout",
     "output_type": "stream",
     "text": [
      "False\n"
     ]
    }
   ],
   "source": [
    "import random\n",
    "alpha=\"ABCDEFGHIJKLMNOPQRSTUVWXYZabcdefghijklmnopqrstuvwxyz\"\n",
    "num=\"0123456789\"\n",
    "sym=\"\"\"#$%&'()*+,-./:\";<=>?@[\\]^_`{|}~!\"\"\"\n",
    "word=[]\n",
    "print(bool([]))"
   ]
  },
  {
   "cell_type": "code",
   "execution_count": 6,
   "metadata": {
    "collapsed": false
   },
   "outputs": [
    {
     "name": "stdout",
     "output_type": "stream",
     "text": [
      "Enter the length of the password7\n",
      "[0, 1, 2, 3, 4, 5, 6]\n",
      "[0, 1, 2, 3, 4, 5, 6]\n",
      "5\n",
      "[0, 1, 2, 3, 4, 6]\n",
      "2\n",
      "[0, 1, 3, 4, 6]\n",
      "4\n",
      "[0, 1, 3, 6]\n",
      "1\n",
      "[0, 3, 6]\n",
      "6\n",
      "[0, 3]\n",
      "3\n",
      "[0]\n",
      "0\n",
      "[]\n",
      "done\n"
     ]
    }
   ],
   "source": [
    "length=input(\"Enter the length of the password\")\n",
    "word=[x for x in range(0,int(length))]\n",
    "print(word)\n",
    "counter=word[0:]\n",
    "print(counter)\n",
    "while counter != []:\n",
    "    i=random.choice(counter)\n",
    "    print(i)\n",
    "    counter.remove(i)\n",
    "    print(counter)\n",
    "print(\"done\")\n"
   ]
  }
 ],
 "metadata": {
  "kernelspec": {
   "display_name": "Python [Root]",
   "language": "python",
   "name": "Python [Root]"
  },
  "language_info": {
   "codemirror_mode": {
    "name": "ipython",
    "version": 3
   },
   "file_extension": ".py",
   "mimetype": "text/x-python",
   "name": "python",
   "nbconvert_exporter": "python",
   "pygments_lexer": "ipython3",
   "version": "3.5.2"
  }
 },
 "nbformat": 4,
 "nbformat_minor": 0
}
