{
 "cells": [
  {
   "cell_type": "code",
   "execution_count": 2,
   "metadata": {
    "collapsed": false
   },
   "outputs": [
    {
     "name": "stdout",
     "output_type": "stream",
     "text": [
      "False\n"
     ]
    }
   ],
   "source": [
    "import random\n",
    "alpha=\"ABCDEFGHIJKLMNOPQRSTUVWXYZabcdefghijklmnopqrstuvwxyz\"\n",
    "num=\"0123456789\"\n",
    "#sym=\"\"\"#$%&'()*+,-./:\";<=>?@[\\]^_`{|}~!\"\"\"\n",
    "selector=[0,1]\n",
    "word=[]\n",
    "print(bool([]))"
   ]
  },
  {
   "cell_type": "code",
   "execution_count": 8,
   "metadata": {
    "collapsed": false
   },
   "outputs": [
    {
     "name": "stdout",
     "output_type": "stream",
     "text": [
      "Enter the length of the password100\n",
      "Generating Password!!!\n",
      "Password generated!!!\n",
      "The generated password is NJX448pPY4H7ut54D6N9bv3LLc72e0AQL6hYZCE1usnQU48jRm36M3Tw2G5b5BHZTPHa2Fn19e2Z3717U5Xg53S9X13iL894fU04\n"
     ]
    }
   ],
   "source": [
    "#my way\n",
    "\n",
    "length=input(\"Enter the length of the password\")\n",
    "word=[x for x in range(0,int(length))]\n",
    "#print(word)\n",
    "counter=word[0:]\n",
    "#print(counter)\n",
    "print(\"Generating Password!!!\")\n",
    "while counter != []:\n",
    "    i=random.choice(counter)\n",
    "    #print(i)\n",
    "    counter.remove(i)\n",
    "    #print(counter)\n",
    "    #print(word)\n",
    "    j=random.choice(selector)\n",
    "    #print(j)\n",
    "    if j==0:\n",
    "        word[i]=random.choice(alpha)\n",
    "    else: word[i]= random.choice(num)\n",
    "    #print(word[i])\n",
    "print(\"Password generated!!!\")\n",
    "#print(word)\n",
    "print(\"The generated password is {}\".format(\"\".join(word)))\n"
   ]
  },
  {
   "cell_type": "code",
   "execution_count": 17,
   "metadata": {
    "collapsed": false
   },
   "outputs": [
    {
     "name": "stdout",
     "output_type": "stream",
     "text": [
      "62\n",
      "Enter the length of the password62\n",
      "The generated password is yJtWRbZUKjB9m41TAOxeLVurqo280IhSGaNEldQCs6gzc37MvnPD5kpHFYiXfw\n"
     ]
    }
   ],
   "source": [
    "#Simple way ///limited to 62 character password\n",
    "import random\n",
    "list=\"ABCDEFGHIJKLMNOPQRSTUVWXYZabcdefghijklmnopqrstuvwxyz0123456789\"\n",
    "print(len(list))\n",
    "length= input(\"Enter the length of the password\")\n",
    "password=random.sample(list,int(length))\n",
    "print(\"The generated password is {}\".format(\"\".join(password)))"
   ]
  },
  {
   "cell_type": "code",
   "execution_count": 18,
   "metadata": {
    "collapsed": false
   },
   "outputs": [
    {
     "name": "stdout",
     "output_type": "stream",
     "text": [
      "How many characters in your password?100\n",
      "g>*$mtHP<q*)[>FY{vw-91Cl{#Slg.RoED|jw3>tN$2x8[4$Y\"z5Pt#QrWf\\+D/&XlOY=~guit'Qu&|QQ<a^Mz94<gpHm5Z4Q28]\n"
     ]
    }
   ],
   "source": [
    "#better way\n",
    "\n",
    "\n",
    "import string\n",
    "import random\n",
    "\n",
    "def pw_gen(size = 8, chars=string.ascii_letters + string.digits + string.punctuation):\n",
    "\treturn ''.join(random.choice(chars) for _ in range(size))\n",
    "\n",
    "print(pw_gen(int(input('How many characters in your password?'))))"
   ]
  }
 ],
 "metadata": {
  "anaconda-cloud": {},
  "kernelspec": {
   "display_name": "Python [Root]",
   "language": "python",
   "name": "Python [Root]"
  },
  "language_info": {
   "codemirror_mode": {
    "name": "ipython",
    "version": 3
   },
   "file_extension": ".py",
   "mimetype": "text/x-python",
   "name": "python",
   "nbconvert_exporter": "python",
   "pygments_lexer": "ipython3",
   "version": "3.5.2"
  }
 },
 "nbformat": 4,
 "nbformat_minor": 0
}
