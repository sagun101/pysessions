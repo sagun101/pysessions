{
 "cells": [
  {
   "cell_type": "code",
   "execution_count": null,
   "metadata": {
    "collapsed": false
   },
   "outputs": [
    {
     "name": "stdout",
     "output_type": "stream",
     "text": [
      "Enter player 1's playrock\n",
      "Enter player 2's playrock\n",
      "It's a tie\n",
      "Enter player 1's playpaper\n",
      "Enter player 2's playpaper\n",
      "It's a tie\n"
     ]
    }
   ],
   "source": [
    "player_1=input(\"Enter player 1's play\")\n",
    "player_2=input(\"Enter player 2's play\")\n",
    "end=\"false\"\n",
    "\n",
    "while end=='false':\n",
    "    if player_1 == player_2:\n",
    "        end=\"false\"\n",
    "        print(\"It's a tie\")\n",
    "        player_1=input(\"Enter player 1's play\")\n",
    "        player_2=input(\"Enter player 2's play\")\n",
    "        \n",
    "        \n",
    "    elif player_1== \"rock\":\n",
    "        if player_2==\"paper\":\n",
    "            print(\"Player 2 won\")\n",
    "            end=\"true\"\n",
    "        else:\n",
    "            print(\"Player 1 won\")\n",
    "            end=\"true\"\n",
    "    elif player_1 == \"paper\":\n",
    "        if player_2 == \"scissor\":\n",
    "            print(\"Player 2 won\")\n",
    "            end=\"true\"\n",
    "        else:\n",
    "            print(\"Player 1 won\")\n",
    "            end=\"true\"\n",
    "    elif player_1 ==\"scissor\":\n",
    "        if player_2 ==\"rock\":\n",
    "            print(\"Player 2 won\")\n",
    "            end=\"true\"\n",
    "        else: \n",
    "            print(\"Player 1 won\")\n",
    "            end=\"true\"\n",
    "        \n",
    "    \n",
    "        \n",
    "    "
   ]
  }
 ],
 "metadata": {
  "kernelspec": {
   "display_name": "Python [Root]",
   "language": "python",
   "name": "Python [Root]"
  },
  "language_info": {
   "codemirror_mode": {
    "name": "ipython",
    "version": 3
   },
   "file_extension": ".py",
   "mimetype": "text/x-python",
   "name": "python",
   "nbconvert_exporter": "python",
   "pygments_lexer": "ipython3",
   "version": "3.5.2"
  }
 },
 "nbformat": 4,
 "nbformat_minor": 0
}
