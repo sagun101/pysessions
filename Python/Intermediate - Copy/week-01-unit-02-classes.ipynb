{
 "cells": [
  {
   "cell_type": "markdown",
   "metadata": {},
   "source": [
    "# Classes ( contd... )\n",
    "---"
   ]
  },
  {
   "cell_type": "markdown",
   "metadata": {
    "collapsed": true
   },
   "source": [
    "- magic methods starts with \\_\\_ and ends with \\_\\_"
   ]
  },
  {
   "cell_type": "markdown",
   "metadata": {},
   "source": [
    "*Note: tripple quotes represents docstrings for class and methods*"
   ]
  },
  {
   "cell_type": "markdown",
   "metadata": {},
   "source": [
    "### Overloading operators"
   ]
  },
  {
   "cell_type": "code",
   "execution_count": 26,
   "metadata": {
    "collapsed": true
   },
   "outputs": [],
   "source": [
    "class Temperature:\n",
    "    \"\"\"\n",
    "    Holds temperature data and processes with it\n",
    "    \"\"\"\n",
    "    \n",
    "    def __init__(self, initial):\n",
    "        \"\"\"\n",
    "        initialization\n",
    "        \"\"\"\n",
    "        self.initial = initial\n",
    "    \n",
    "    def __add__(self, other):\n",
    "        \"\"\"\n",
    "        adds two temperature instances\n",
    "        \"\"\"\n",
    "        return self.initial + other.initial\n",
    "    def __sub__(self,other):\n",
    "        \"\"\"\n",
    "        subtract two tempertaure instances\n",
    "        \"\"\"\n",
    "        return self.initial-other.initial"
   ]
  },
  {
   "cell_type": "code",
   "execution_count": 27,
   "metadata": {
    "collapsed": false
   },
   "outputs": [
    {
     "name": "stdout",
     "output_type": "stream",
     "text": [
      "Help on class Temperature in module __main__:\n",
      "\n",
      "class Temperature(builtins.object)\n",
      " |  Holds temperature data and processes with it\n",
      " |  \n",
      " |  Methods defined here:\n",
      " |  \n",
      " |  __add__(self, other)\n",
      " |      adds two temperature instances\n",
      " |  \n",
      " |  __init__(self, initial)\n",
      " |      initialization\n",
      " |  \n",
      " |  __sub__(self, other)\n",
      " |      subtract two tempertaure instances\n",
      " |  \n",
      " |  ----------------------------------------------------------------------\n",
      " |  Data descriptors defined here:\n",
      " |  \n",
      " |  __dict__\n",
      " |      dictionary for instance variables (if defined)\n",
      " |  \n",
      " |  __weakref__\n",
      " |      list of weak references to the object (if defined)\n",
      "\n"
     ]
    }
   ],
   "source": [
    "help(Temperature)"
   ]
  },
  {
   "cell_type": "markdown",
   "metadata": {},
   "source": [
    "*Create a temperature instance*"
   ]
  },
  {
   "cell_type": "code",
   "execution_count": 28,
   "metadata": {
    "collapsed": false
   },
   "outputs": [],
   "source": [
    "t1 = Temperature(20)"
   ]
  },
  {
   "cell_type": "code",
   "execution_count": 29,
   "metadata": {
    "collapsed": false
   },
   "outputs": [
    {
     "data": {
      "text/plain": [
       "20"
      ]
     },
     "execution_count": 29,
     "metadata": {},
     "output_type": "execute_result"
    }
   ],
   "source": [
    "t1.initial"
   ]
  },
  {
   "cell_type": "markdown",
   "metadata": {},
   "source": [
    "*Create another temperature instance*"
   ]
  },
  {
   "cell_type": "code",
   "execution_count": 30,
   "metadata": {
    "collapsed": false
   },
   "outputs": [],
   "source": [
    "t2 = Temperature(30)"
   ]
  },
  {
   "cell_type": "code",
   "execution_count": 31,
   "metadata": {
    "collapsed": false
   },
   "outputs": [
    {
     "data": {
      "text/plain": [
       "30"
      ]
     },
     "execution_count": 31,
     "metadata": {},
     "output_type": "execute_result"
    }
   ],
   "source": [
    "t2.initial"
   ]
  },
  {
   "cell_type": "markdown",
   "metadata": {},
   "source": [
    "*Now Add two temperature instances*"
   ]
  },
  {
   "cell_type": "code",
   "execution_count": 32,
   "metadata": {
    "collapsed": false
   },
   "outputs": [
    {
     "data": {
      "text/plain": [
       "50"
      ]
     },
     "execution_count": 32,
     "metadata": {},
     "output_type": "execute_result"
    }
   ],
   "source": [
    "t1 + t2"
   ]
  },
  {
   "cell_type": "markdown",
   "metadata": {},
   "source": [
    "**What actually happened above**\n",
    "\n",
    "```python\n",
    "\n",
    "# When we call something like this\n",
    "\n",
    "t1 + t1\n",
    "\n",
    "# it looks for\n",
    "\n",
    "t1.__add__(t2)\n",
    "\n",
    "# if it is not able to find that method it throws exception\n",
    "# otherwise just proceed the method as defined\n",
    "\n",
    "# in our case, t1 is `self` and t2 is `other`\n",
    "# so it returns t1.initial + t2.initial\n",
    "```"
   ]
  },
  {
   "cell_type": "markdown",
   "metadata": {},
   "source": [
    "*What happens if we try to substract two instances*"
   ]
  },
  {
   "cell_type": "code",
   "execution_count": 33,
   "metadata": {
    "collapsed": false
   },
   "outputs": [
    {
     "data": {
      "text/plain": [
       "-10"
      ]
     },
     "execution_count": 33,
     "metadata": {},
     "output_type": "execute_result"
    }
   ],
   "source": [
    "t1 - t2"
   ]
  },
  {
   "cell_type": "markdown",
   "metadata": {},
   "source": [
    "*This is because we have not defined \\_\\_sub\\_\\_ method above, which is for minus (-)*"
   ]
  },
  {
   "cell_type": "markdown",
   "metadata": {},
   "source": [
    "*Not only + or -, other operators can be overloaded too such as*\n",
    "\n",
    "```python\n",
    "\n",
    "def __mul__(self, other):\n",
    "    \"\"\"\n",
    "    multiplication operator ( * )\n",
    "    \"\"\"\n",
    "    pass\n",
    "\n",
    "def __truediv__(self, other):\n",
    "    \"\"\"\n",
    "    true division ( float ) operator ( / )\n",
    "    \"\"\"\n",
    "    pass\n",
    "\n",
    "def __floordiv__(self, other):\n",
    "    \"\"\"\n",
    "    floor division ( int ) operator ( // )\n",
    "    \"\"\"\n",
    "    pass\n",
    "\n",
    "def __mod__(self, other):\n",
    "    \"\"\"\n",
    "    modulus operator ( % )\n",
    "    \"\"\"\n",
    "    pass\n",
    "\n",
    "def __iadd__(self, other):\n",
    "    \"\"\"\n",
    "    inplace addition operator ( += )\n",
    "    \"\"\"\n",
    "    pass\n",
    "\n",
    "def __isub__(self, other):\n",
    "    \"\"\"\n",
    "    inplace substraction operator ( -= )\n",
    "    \"\"\"\n",
    "    pass\n",
    "```\n",
    "\n",
    "checkout http://www.diveintopython3.net/special-method-names.html for complete list"
   ]
  },
  {
   "cell_type": "code",
   "execution_count": 34,
   "metadata": {
    "collapsed": false
   },
   "outputs": [
    {
     "data": {
      "text/plain": [
       "['__add__',\n",
       " '__class__',\n",
       " '__delattr__',\n",
       " '__dict__',\n",
       " '__dir__',\n",
       " '__doc__',\n",
       " '__eq__',\n",
       " '__format__',\n",
       " '__ge__',\n",
       " '__getattribute__',\n",
       " '__gt__',\n",
       " '__hash__',\n",
       " '__init__',\n",
       " '__le__',\n",
       " '__lt__',\n",
       " '__module__',\n",
       " '__ne__',\n",
       " '__new__',\n",
       " '__reduce__',\n",
       " '__reduce_ex__',\n",
       " '__repr__',\n",
       " '__setattr__',\n",
       " '__sizeof__',\n",
       " '__str__',\n",
       " '__sub__',\n",
       " '__subclasshook__',\n",
       " '__weakref__']"
      ]
     },
     "execution_count": 34,
     "metadata": {},
     "output_type": "execute_result"
    }
   ],
   "source": [
    "dir(Temperature)"
   ]
  },
  {
   "cell_type": "code",
   "execution_count": 35,
   "metadata": {
    "collapsed": false
   },
   "outputs": [
    {
     "data": {
      "text/plain": [
       "'\\n    Holds temperature data and processes with it\\n    '"
      ]
     },
     "execution_count": 35,
     "metadata": {},
     "output_type": "execute_result"
    }
   ],
   "source": [
    "Temperature.__doc__"
   ]
  },
  {
   "cell_type": "code",
   "execution_count": 36,
   "metadata": {
    "collapsed": false
   },
   "outputs": [
    {
     "data": {
      "text/plain": [
       "mappingproxy({'__doc__': '\\n    Holds temperature data and processes with it\\n    ', '__sub__': <function Temperature.__sub__ at 0x0000009DCF481620>, '__add__': <function Temperature.__add__ at 0x0000009DCF4816A8>, '__dict__': <attribute '__dict__' of 'Temperature' objects>, '__init__': <function Temperature.__init__ at 0x0000009DCF481730>, '__weakref__': <attribute '__weakref__' of 'Temperature' objects>, '__module__': '__main__'})"
      ]
     },
     "execution_count": 36,
     "metadata": {},
     "output_type": "execute_result"
    }
   ],
   "source": [
    "Temperature.__dict__"
   ]
  },
  {
   "cell_type": "markdown",
   "metadata": {},
   "source": [
    "## Inheritence"
   ]
  },
  {
   "cell_type": "markdown",
   "metadata": {
    "collapsed": true
   },
   "source": [
    ">In object-oriented programming, inheritance is when an object or class is based on another object (prototypal inheritance) or class (class-based inheritance), using the same implementation (inheriting from an object or class) specifying implementation to maintain the same behavior    - Wikipedia"
   ]
  },
  {
   "cell_type": "markdown",
   "metadata": {},
   "source": [
    "*In other words, Inheritence is a way of sharing common features or attributes between different classes.*"
   ]
  },
  {
   "cell_type": "code",
   "execution_count": 37,
   "metadata": {
    "collapsed": true
   },
   "outputs": [],
   "source": [
    "class Rectangle:\n",
    "    \"\"\"\n",
    "    This is the parent class\n",
    "    \"\"\"\n",
    "    width = None\n",
    "    height = None\n",
    "    \n",
    "    def __init__(self, width, height):\n",
    "        self.width = width\n",
    "        self.height = height\n",
    "    \n",
    "    def area(self):\n",
    "        \"\"\"\n",
    "        All class that inherites from this class will inherit area method automatically\n",
    "        \"\"\"\n",
    "        return self.width * self.height"
   ]
  },
  {
   "cell_type": "code",
   "execution_count": 38,
   "metadata": {
    "collapsed": true
   },
   "outputs": [],
   "source": [
    "class Square(Rectangle):\n",
    "    \"\"\"\n",
    "    This is child class\n",
    "    \"\"\"\n",
    "    \n",
    "    def __init__(self, side):\n",
    "        \"\"\"\n",
    "        Square is special rectangle with equal sides.\n",
    "        so our height and width will be same\n",
    "        \"\"\"\n",
    "        # we are calling __init__ of parent/super class using super()\n",
    "        super().__init__(side, side)"
   ]
  },
  {
   "cell_type": "markdown",
   "metadata": {},
   "source": [
    "*let's create a rectangle*"
   ]
  },
  {
   "cell_type": "code",
   "execution_count": 39,
   "metadata": {
    "collapsed": false
   },
   "outputs": [],
   "source": [
    "rec = Rectangle(3, 4)"
   ]
  },
  {
   "cell_type": "code",
   "execution_count": 40,
   "metadata": {
    "collapsed": false
   },
   "outputs": [
    {
     "data": {
      "text/plain": [
       "12"
      ]
     },
     "execution_count": 40,
     "metadata": {},
     "output_type": "execute_result"
    }
   ],
   "source": [
    "rec.area()"
   ]
  },
  {
   "cell_type": "markdown",
   "metadata": {},
   "source": [
    "*let's create a square*"
   ]
  },
  {
   "cell_type": "code",
   "execution_count": 41,
   "metadata": {
    "collapsed": true
   },
   "outputs": [],
   "source": [
    "sq = Square(4)"
   ]
  },
  {
   "cell_type": "code",
   "execution_count": 42,
   "metadata": {
    "collapsed": false
   },
   "outputs": [
    {
     "data": {
      "text/plain": [
       "16"
      ]
     },
     "execution_count": 42,
     "metadata": {},
     "output_type": "execute_result"
    }
   ],
   "source": [
    "sq.area()"
   ]
  },
  {
   "cell_type": "markdown",
   "metadata": {},
   "source": [
    "*Note: Remember the area is defined in Rectangle class, but instance of Square is using it, because it is child of Rectangle and inherits all methods defined in Rectangle automatically.*"
   ]
  },
  {
   "cell_type": "code",
   "execution_count": null,
   "metadata": {
    "collapsed": true
   },
   "outputs": [],
   "source": []
  },
  {
   "cell_type": "markdown",
   "metadata": {},
   "source": [
    "**Overriding or altering parent methods**"
   ]
  },
  {
   "cell_type": "code",
   "execution_count": 44,
   "metadata": {
    "collapsed": true
   },
   "outputs": [],
   "source": [
    "class Shape:\n",
    "    name = None\n",
    "    color = 'white'\n",
    "    \n",
    "    def shape_type(self):\n",
    "        return self.name\n",
    "    \n",
    "    def area(self):\n",
    "        return 0\n",
    "    \n",
    "    def shape_color(self):\n",
    "        print(\"The color of Shape is {}\".format(self.color))\n",
    "\n",
    "\n",
    "class Circle(Shape):\n",
    "    radius = None\n",
    "\n",
    "    def __init__(self, radius):\n",
    "        self.radius = radius\n",
    "        self.name = 'Circle'\n",
    "    \n",
    "    def area(self):\n",
    "        \"\"\"\n",
    "        We override area method for circle\n",
    "        \"\"\"\n",
    "        return 2 * 3.14 * (self.radius ** 2)\n",
    "    \n",
    "    def shape_color(self):\n",
    "        \"\"\"\n",
    "        We add few extra information for color\n",
    "        \"\"\"\n",
    "        super().shape_color()\n",
    "        print(\"The color of Circle is {}\".format(self.color))\n",
    "\n",
    "\n",
    "class Square(Shape):\n",
    "    side = None\n",
    "\n",
    "    def __init__(self, side):\n",
    "        self.side = side\n",
    "        self.name = 'Square'\n",
    "    \n",
    "    def area(self):\n",
    "        \"\"\"\n",
    "        We override area method for square\n",
    "        \"\"\"\n",
    "        return self.side * self.side\n",
    "    \n",
    "    def shape_color(self):\n",
    "        \"\"\"\n",
    "        We add few extra information for color\n",
    "        \"\"\"\n",
    "        super().shape_color()\n",
    "        self.color = 'Red'\n",
    "        print(\"The color of Square is {}\".format(self.color))"
   ]
  },
  {
   "cell_type": "code",
   "execution_count": 45,
   "metadata": {
    "collapsed": false
   },
   "outputs": [],
   "source": [
    "circle = Circle(2)"
   ]
  },
  {
   "cell_type": "code",
   "execution_count": 46,
   "metadata": {
    "collapsed": false
   },
   "outputs": [
    {
     "data": {
      "text/plain": [
       "'Circle'"
      ]
     },
     "execution_count": 46,
     "metadata": {},
     "output_type": "execute_result"
    }
   ],
   "source": [
    "circle.shape_type()"
   ]
  },
  {
   "cell_type": "code",
   "execution_count": 47,
   "metadata": {
    "collapsed": false
   },
   "outputs": [
    {
     "data": {
      "text/plain": [
       "25.12"
      ]
     },
     "execution_count": 47,
     "metadata": {},
     "output_type": "execute_result"
    }
   ],
   "source": [
    "circle.area()"
   ]
  },
  {
   "cell_type": "code",
   "execution_count": null,
   "metadata": {
    "collapsed": false
   },
   "outputs": [],
   "source": [
    "circle.shape_color()"
   ]
  },
  {
   "cell_type": "code",
   "execution_count": null,
   "metadata": {
    "collapsed": true
   },
   "outputs": [],
   "source": [
    "square = Square(4)"
   ]
  },
  {
   "cell_type": "code",
   "execution_count": null,
   "metadata": {
    "collapsed": false
   },
   "outputs": [],
   "source": [
    "square.shape_type()"
   ]
  },
  {
   "cell_type": "code",
   "execution_count": null,
   "metadata": {
    "collapsed": false
   },
   "outputs": [],
   "source": [
    "square.shape_color()"
   ]
  },
  {
   "cell_type": "code",
   "execution_count": null,
   "metadata": {
    "collapsed": false
   },
   "outputs": [],
   "source": [
    "square.area()"
   ]
  },
  {
   "cell_type": "markdown",
   "metadata": {},
   "source": [
    "*In above example*\n",
    "\n",
    "- we completely changed the behavior of method __area__\n",
    "- we didn't do anything with method __shape_type__\n",
    "- And we used both parent and Child methods in __shape_color__"
   ]
  },
  {
   "cell_type": "code",
   "execution_count": null,
   "metadata": {
    "collapsed": true
   },
   "outputs": [],
   "source": []
  },
  {
   "cell_type": "markdown",
   "metadata": {},
   "source": [
    "### Inheriting from builtin classes"
   ]
  },
  {
   "cell_type": "markdown",
   "metadata": {},
   "source": [
    "*We will create our own dictionary class*"
   ]
  },
  {
   "cell_type": "code",
   "execution_count": null,
   "metadata": {
    "collapsed": true
   },
   "outputs": [],
   "source": [
    "class FunDict(dict):\n",
    "    \"\"\"\n",
    "    we will inherit our class from builtin dict method\n",
    "    \"\"\"\n",
    "    \n",
    "    def __init__(self, *args, **kwargs):\n",
    "        \"\"\"\n",
    "        we will create a dictionary from passed arguments\n",
    "        \"\"\"\n",
    "        print(\"Sending to press.\")\n",
    "        super().__init__(*args, **kwargs)\n",
    "        print(\"Your dictionary is commissioned, use it wisely :)\")\n",
    "    \n",
    "    def __getitem__(self, key):\n",
    "        \"\"\"\n",
    "        this method is called when we want to obtain item from dictionary\n",
    "        \"\"\"\n",
    "        print(\"Reading pages...\")\n",
    "        return super().__getitem__(key)\n",
    "    \n",
    "    def __setitem__(self, key, value):\n",
    "        \"\"\"\n",
    "        this method is called when we want to create a new item\n",
    "        \"\"\"\n",
    "        print(\"Searching for blank page to write...\")\n",
    "        ret = super().__setitem__(key, value)\n",
    "        print(\"done\")\n",
    "        return ret"
   ]
  },
  {
   "cell_type": "code",
   "execution_count": null,
   "metadata": {
    "collapsed": false
   },
   "outputs": [],
   "source": [
    "my_dict = FunDict(name='Hari', age=29)"
   ]
  },
  {
   "cell_type": "code",
   "execution_count": null,
   "metadata": {
    "collapsed": false
   },
   "outputs": [],
   "source": [
    "my_dict"
   ]
  },
  {
   "cell_type": "code",
   "execution_count": null,
   "metadata": {
    "collapsed": false
   },
   "outputs": [],
   "source": [
    "my_dict['address'] = 'kathmandu'"
   ]
  },
  {
   "cell_type": "code",
   "execution_count": null,
   "metadata": {
    "collapsed": false
   },
   "outputs": [],
   "source": [
    "my_dict"
   ]
  },
  {
   "cell_type": "code",
   "execution_count": null,
   "metadata": {
    "collapsed": false
   },
   "outputs": [],
   "source": [
    "my_dict['age']"
   ]
  },
  {
   "cell_type": "code",
   "execution_count": null,
   "metadata": {
    "collapsed": true
   },
   "outputs": [],
   "source": []
  },
  {
   "cell_type": "code",
   "execution_count": null,
   "metadata": {
    "collapsed": true
   },
   "outputs": [],
   "source": []
  }
 ],
 "metadata": {
  "kernelspec": {
   "display_name": "Python [Root]",
   "language": "python",
   "name": "Python [Root]"
  },
  "language_info": {
   "codemirror_mode": {
    "name": "ipython",
    "version": 3
   },
   "file_extension": ".py",
   "mimetype": "text/x-python",
   "name": "python",
   "nbconvert_exporter": "python",
   "pygments_lexer": "ipython3",
   "version": "3.5.2"
  }
 },
 "nbformat": 4,
 "nbformat_minor": 0
}
