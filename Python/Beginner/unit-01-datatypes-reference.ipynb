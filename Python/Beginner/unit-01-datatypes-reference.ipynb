{
 "cells": [
  {
   "cell_type": "markdown",
   "metadata": {},
   "source": [
<<<<<<< HEAD:Python/Beginner/week-01-unit-01-datatypes.ipynb
    "# Session 2\n",
=======
    "# Python Basics\n",
>>>>>>> upstream/master:Python/Beginner/unit-01-datatypes-reference.ipynb
    "---"
   ]
  },
  {
   "cell_type": "markdown",
   "metadata": {},
   "source": [
    "*Comments are ignored by Python Interpreter *"
   ]
  },
  {
   "cell_type": "code",
   "execution_count": null,
   "metadata": {
    "collapsed": true
   },
   "outputs": [],
   "source": [
    "# this is comment"
   ]
  },
  {
   "cell_type": "code",
   "execution_count": null,
   "metadata": {
    "collapsed": true
   },
   "outputs": [],
   "source": [
<<<<<<< HEAD:Python/Beginner/week-01-unit-01-datatypes.ipynb
    "#! /usr/bin/env python"
   ]
  },
  {
   "cell_type": "code",
   "execution_count": null,
   "metadata": {
    "collapsed": true
   },
   "outputs": [],
   "source": [
    "#! /usr/bin/python"
   ]
  },
  {
   "cell_type": "markdown",
   "metadata": {},
   "source": [
    "#! is called shebang, when you run a application from shell like below, shell uses the given program to execute file"
   ]
  },
  {
   "cell_type": "markdown",
   "metadata": {},
   "source": [
    "`$ python run_some_application.py`\n",
    "\n",
    "`$ run_some_application.py`\n",
    "\n",
    "`$ youtube-dl 01923kjsdfj`"
   ]
  },
  {
   "cell_type": "code",
   "execution_count": null,
   "metadata": {
    "collapsed": true
   },
   "outputs": [],
   "source": [
=======
>>>>>>> upstream/master:Python/Beginner/unit-01-datatypes-reference.ipynb
    "# this is \n",
    "# multipline comment"
   ]
  },
  {
   "cell_type": "code",
<<<<<<< HEAD:Python/Beginner/week-01-unit-01-datatypes.ipynb
   "execution_count": null,
=======
   "execution_count": 3,
>>>>>>> upstream/master:Python/Beginner/unit-01-datatypes-reference.ipynb
   "metadata": {
    "collapsed": true
   },
   "outputs": [],
   "source": [
    "# -*- coding: utf-8 -*-"
   ]
  },
  {
   "cell_type": "markdown",
   "metadata": {},
   "source": [
    "# Datatypes\n",
    "---\n",
    "\n",
    "- Integer\n",
    "- Float\n",
    "- Boolean\n",
    "- None ( not exactly a type )\n",
    "- Complex\n",
    "- String\n",
    "- Bytes"
   ]
  },
  {
   "cell_type": "markdown",
   "metadata": {},
   "source": [
    "## Integers\n",
    "---"
   ]
  },
  {
   "cell_type": "code",
<<<<<<< HEAD:Python/Beginner/week-01-unit-01-datatypes.ipynb
   "execution_count": null,
   "metadata": {
    "collapsed": false
   },
   "outputs": [],
=======
   "execution_count": 142,
   "metadata": {
    "collapsed": false
   },
   "outputs": [
    {
     "data": {
      "text/plain": [
       "12"
      ]
     },
     "execution_count": 142,
     "metadata": {},
     "output_type": "execute_result"
    }
   ],
>>>>>>> upstream/master:Python/Beginner/unit-01-datatypes-reference.ipynb
   "source": [
    "12"
   ]
  },
  {
   "cell_type": "code",
<<<<<<< HEAD:Python/Beginner/week-01-unit-01-datatypes.ipynb
   "execution_count": null,
   "metadata": {
    "collapsed": false
   },
   "outputs": [],
   "source": [
    "# show what type this is\n",
    "type(1)"
   ]
  },
  {
   "cell_type": "code",
   "execution_count": 1,
=======
   "execution_count": 143,
>>>>>>> upstream/master:Python/Beginner/unit-01-datatypes-reference.ipynb
   "metadata": {
    "collapsed": false
   },
   "outputs": [
    {
     "data": {
      "text/plain": [
<<<<<<< HEAD:Python/Beginner/week-01-unit-01-datatypes.ipynb
       "['__abs__',\n",
       " '__add__',\n",
       " '__and__',\n",
       " '__bool__',\n",
       " '__ceil__',\n",
       " '__class__',\n",
       " '__delattr__',\n",
       " '__dir__',\n",
       " '__divmod__',\n",
       " '__doc__',\n",
       " '__eq__',\n",
       " '__float__',\n",
       " '__floor__',\n",
       " '__floordiv__',\n",
       " '__format__',\n",
       " '__ge__',\n",
       " '__getattribute__',\n",
       " '__getnewargs__',\n",
       " '__gt__',\n",
       " '__hash__',\n",
       " '__index__',\n",
       " '__init__',\n",
       " '__int__',\n",
       " '__invert__',\n",
       " '__le__',\n",
       " '__lshift__',\n",
       " '__lt__',\n",
       " '__mod__',\n",
       " '__mul__',\n",
       " '__ne__',\n",
       " '__neg__',\n",
       " '__new__',\n",
       " '__or__',\n",
       " '__pos__',\n",
       " '__pow__',\n",
       " '__radd__',\n",
       " '__rand__',\n",
       " '__rdivmod__',\n",
       " '__reduce__',\n",
       " '__reduce_ex__',\n",
       " '__repr__',\n",
       " '__rfloordiv__',\n",
       " '__rlshift__',\n",
       " '__rmod__',\n",
       " '__rmul__',\n",
       " '__ror__',\n",
       " '__round__',\n",
       " '__rpow__',\n",
       " '__rrshift__',\n",
       " '__rshift__',\n",
       " '__rsub__',\n",
       " '__rtruediv__',\n",
       " '__rxor__',\n",
       " '__setattr__',\n",
       " '__sizeof__',\n",
       " '__str__',\n",
       " '__sub__',\n",
       " '__subclasshook__',\n",
       " '__truediv__',\n",
       " '__trunc__',\n",
       " '__xor__',\n",
       " 'bit_length',\n",
       " 'conjugate',\n",
       " 'denominator',\n",
       " 'from_bytes',\n",
       " 'imag',\n",
       " 'numerator',\n",
       " 'real',\n",
       " 'to_bytes']"
      ]
     },
     "execution_count": 1,
=======
       "-72"
      ]
     },
     "execution_count": 143,
>>>>>>> upstream/master:Python/Beginner/unit-01-datatypes-reference.ipynb
     "metadata": {},
     "output_type": "execute_result"
    }
   ],
   "source": [
<<<<<<< HEAD:Python/Beginner/week-01-unit-01-datatypes.ipynb
    "# show methods and attributes associated with integers\n",
    "dir(1)"
   ]
  },
  {
   "cell_type": "markdown",
   "metadata": {},
   "source": [
    "we will have discussions about methods and attributes later"
=======
    "-72"
>>>>>>> upstream/master:Python/Beginner/unit-01-datatypes-reference.ipynb
   ]
  },
  {
   "cell_type": "markdown",
   "metadata": {},
   "source": [
<<<<<<< HEAD:Python/Beginner/week-01-unit-01-datatypes.ipynb
    "variables are just buckets that holds any types like below"
   ]
  },
  {
   "cell_type": "code",
   "execution_count": null,
   "metadata": {
    "collapsed": false
   },
   "outputs": [],
   "source": [
    "# a is a variable\n",
    "a = 123"
=======
    "*Integers are Negative numbers and whole numbers such as -1, -2 ... or 0 or 1, 2 ...*"
>>>>>>> upstream/master:Python/Beginner/unit-01-datatypes-reference.ipynb
   ]
  },
  {
   "cell_type": "markdown",
   "metadata": {},
   "source": [
<<<<<<< HEAD:Python/Beginner/week-01-unit-01-datatypes.ipynb
    "*Object attibutes*"
=======
    "## Floats\n",
    "---"
>>>>>>> upstream/master:Python/Beginner/unit-01-datatypes-reference.ipynb
   ]
  },
  {
   "cell_type": "code",
<<<<<<< HEAD:Python/Beginner/week-01-unit-01-datatypes.ipynb
   "execution_count": null,
   "metadata": {
    "collapsed": false
   },
   "outputs": [],
=======
   "execution_count": 7,
   "metadata": {
    "collapsed": false
   },
   "outputs": [
    {
     "data": {
      "text/plain": [
       "1.5"
      ]
     },
     "execution_count": 7,
     "metadata": {},
     "output_type": "execute_result"
    }
   ],
>>>>>>> upstream/master:Python/Beginner/unit-01-datatypes-reference.ipynb
   "source": [
    "a.real"
   ]
  },
  {
   "cell_type": "code",
<<<<<<< HEAD:Python/Beginner/week-01-unit-01-datatypes.ipynb
   "execution_count": null,
   "metadata": {
    "collapsed": false
   },
   "outputs": [],
=======
   "execution_count": 8,
   "metadata": {
    "collapsed": false
   },
   "outputs": [
    {
     "data": {
      "text/plain": [
       "0.9"
      ]
     },
     "execution_count": 8,
     "metadata": {},
     "output_type": "execute_result"
    }
   ],
>>>>>>> upstream/master:Python/Beginner/unit-01-datatypes-reference.ipynb
   "source": [
    "123.real"
   ]
  },
  {
   "cell_type": "code",
<<<<<<< HEAD:Python/Beginner/week-01-unit-01-datatypes.ipynb
   "execution_count": null,
   "metadata": {
    "collapsed": false
   },
   "outputs": [],
   "source": [
    "(123).real"
   ]
  },
  {
   "cell_type": "markdown",
   "metadata": {},
   "source": [
    "*Object Methods*"
   ]
  },
  {
   "cell_type": "code",
   "execution_count": null,
=======
   "execution_count": 146,
   "metadata": {
    "collapsed": false
   },
   "outputs": [
    {
     "data": {
      "text/plain": [
       "-0.8"
      ]
     },
     "execution_count": 146,
     "metadata": {},
     "output_type": "execute_result"
    }
   ],
   "source": [
    "-.8"
   ]
  },
  {
   "cell_type": "markdown",
>>>>>>> upstream/master:Python/Beginner/unit-01-datatypes-reference.ipynb
   "metadata": {
    "collapsed": false
   },
   "source": [
<<<<<<< HEAD:Python/Beginner/week-01-unit-01-datatypes.ipynb
    "a.to_bytes"
   ]
  },
  {
   "cell_type": "code",
   "execution_count": null,
   "metadata": {
    "collapsed": false
   },
   "outputs": [],
   "source": [
    "help(a.to_bytes)"
=======
    "*Floats are decimal numbers, or in mathematical terms they are Rational/Irrational numbers*"
   ]
  },
  {
   "cell_type": "markdown",
   "metadata": {},
   "source": [
    "## Boolean\n",
    "---"
>>>>>>> upstream/master:Python/Beginner/unit-01-datatypes-reference.ipynb
   ]
  },
  {
   "cell_type": "code",
<<<<<<< HEAD:Python/Beginner/week-01-unit-01-datatypes.ipynb
   "execution_count": null,
   "metadata": {
    "collapsed": false
   },
   "outputs": [],
=======
   "execution_count": 12,
   "metadata": {
    "collapsed": false
   },
   "outputs": [
    {
     "data": {
      "text/plain": [
       "True"
      ]
     },
     "execution_count": 12,
     "metadata": {},
     "output_type": "execute_result"
    }
   ],
>>>>>>> upstream/master:Python/Beginner/unit-01-datatypes-reference.ipynb
   "source": [
    "# casting to int\n",
    "int(1.5)"
   ]
  },
  {
   "cell_type": "code",
<<<<<<< HEAD:Python/Beginner/week-01-unit-01-datatypes.ipynb
   "execution_count": null,
   "metadata": {
    "collapsed": false
   },
   "outputs": [],
=======
   "execution_count": 13,
   "metadata": {
    "collapsed": false
   },
   "outputs": [
    {
     "data": {
      "text/plain": [
       "False"
      ]
     },
     "execution_count": 13,
     "metadata": {},
     "output_type": "execute_result"
    }
   ],
>>>>>>> upstream/master:Python/Beginner/unit-01-datatypes-reference.ipynb
   "source": [
    "type(1.5)"
   ]
  },
  {
   "cell_type": "markdown",
<<<<<<< HEAD:Python/Beginner/week-01-unit-01-datatypes.ipynb
   "metadata": {},
   "source": [
    "*Non numeric fields cannot be casted to int*"
   ]
  },
  {
   "cell_type": "code",
   "execution_count": null,
   "metadata": {
    "collapsed": false
   },
   "outputs": [],
   "source": [
    "int('a')"
   ]
  },
  {
   "cell_type": "markdown",
   "metadata": {},
   "source": [
    "### Floats\n",
=======
   "metadata": {
    "collapsed": true
   },
   "source": [
    "*Denotes a expression to be either true or false*"
   ]
  },
  {
   "cell_type": "markdown",
   "metadata": {},
   "source": [
    "## None\n",
>>>>>>> upstream/master:Python/Beginner/unit-01-datatypes-reference.ipynb
    "---"
   ]
  },
  {
   "cell_type": "code",
<<<<<<< HEAD:Python/Beginner/week-01-unit-01-datatypes.ipynb
   "execution_count": null,
=======
   "execution_count": 15,
>>>>>>> upstream/master:Python/Beginner/unit-01-datatypes-reference.ipynb
   "metadata": {
    "collapsed": false
   },
   "outputs": [],
   "source": [
    "1.5"
   ]
  },
  {
<<<<<<< HEAD:Python/Beginner/week-01-unit-01-datatypes.ipynb
   "cell_type": "code",
   "execution_count": null,
=======
   "cell_type": "markdown",
>>>>>>> upstream/master:Python/Beginner/unit-01-datatypes-reference.ipynb
   "metadata": {
    "collapsed": false
   },
   "source": [
<<<<<<< HEAD:Python/Beginner/week-01-unit-01-datatypes.ipynb
    ".4"
=======
    "*Defines emptiness or non existence of value*"
   ]
  },
  {
   "cell_type": "markdown",
   "metadata": {},
   "source": [
    "## Complex Number\n",
    "---\n",
    "\n",
    "see definition of complex number [here](https://en.wikipedia.org/wiki/Complex_number)"
>>>>>>> upstream/master:Python/Beginner/unit-01-datatypes-reference.ipynb
   ]
  },
  {
   "cell_type": "code",
<<<<<<< HEAD:Python/Beginner/week-01-unit-01-datatypes.ipynb
   "execution_count": null,
   "metadata": {
    "collapsed": false
   },
   "outputs": [],
   "source": [
    "0.6"
   ]
  },
  {
   "cell_type": "code",
   "execution_count": null,
   "metadata": {
    "collapsed": false
   },
   "outputs": [],
   "source": [
    "type(1.6)"
=======
   "execution_count": 30,
   "metadata": {
    "collapsed": false
   },
   "outputs": [
    {
     "data": {
      "text/plain": [
       "(1+3j)"
      ]
     },
     "execution_count": 30,
     "metadata": {},
     "output_type": "execute_result"
    }
   ],
   "source": [
    "1 + 3j"
   ]
  },
  {
   "cell_type": "markdown",
   "metadata": {},
   "source": [
    "$1 + i3$\n",
    "\n",
    "- 1 is real part\n",
    "- 3 is imaginary part"
   ]
  },
  {
   "cell_type": "markdown",
   "metadata": {},
   "source": [
    "## String\n",
    "---"
>>>>>>> upstream/master:Python/Beginner/unit-01-datatypes-reference.ipynb
   ]
  },
  {
   "cell_type": "code",
<<<<<<< HEAD:Python/Beginner/week-01-unit-01-datatypes.ipynb
   "execution_count": null,
   "metadata": {
    "collapsed": false
   },
   "outputs": [],
   "source": [
    "dir(1.6)"
   ]
  },
  {
   "cell_type": "code",
   "execution_count": null,
   "metadata": {
    "collapsed": false
   },
   "outputs": [],
   "source": [
    "a = 1.5\n",
    "help(a.is_integer)"
=======
   "execution_count": 38,
   "metadata": {
    "collapsed": false
   },
   "outputs": [
    {
     "data": {
      "text/plain": [
       "'a'"
      ]
     },
     "execution_count": 38,
     "metadata": {},
     "output_type": "execute_result"
    }
   ],
   "source": [
    "'a'"
   ]
  },
  {
   "cell_type": "markdown",
   "metadata": {},
   "source": [
    "*__'a'__ is called __char__ in programming term, in Python it is string with length 1.*"
>>>>>>> upstream/master:Python/Beginner/unit-01-datatypes-reference.ipynb
   ]
  },
  {
   "cell_type": "code",
<<<<<<< HEAD:Python/Beginner/week-01-unit-01-datatypes.ipynb
   "execution_count": null,
   "metadata": {
    "collapsed": false
   },
   "outputs": [],
   "source": [
    "a.is_integer()"
=======
   "execution_count": 39,
   "metadata": {
    "collapsed": false
   },
   "outputs": [
    {
     "data": {
      "text/plain": [
       "'this is string'"
      ]
     },
     "execution_count": 39,
     "metadata": {},
     "output_type": "execute_result"
    }
   ],
   "source": [
    "'this is string'"
>>>>>>> upstream/master:Python/Beginner/unit-01-datatypes-reference.ipynb
   ]
  },
  {
   "cell_type": "code",
<<<<<<< HEAD:Python/Beginner/week-01-unit-01-datatypes.ipynb
   "execution_count": null,
   "metadata": {
    "collapsed": false
   },
   "outputs": [],
   "source": [
    "# casting to float\n",
    "float(1)"
   ]
  },
  {
   "cell_type": "markdown",
   "metadata": {},
   "source": [
    "### Boolean\n",
    "---"
=======
   "execution_count": 40,
   "metadata": {
    "collapsed": false
   },
   "outputs": [
    {
     "data": {
      "text/plain": [
       "'this is also string'"
      ]
     },
     "execution_count": 40,
     "metadata": {},
     "output_type": "execute_result"
    }
   ],
   "source": [
    "\"this is also string\""
   ]
  },
  {
   "cell_type": "markdown",
   "metadata": {},
   "source": [
    "*Either single quoted '' or doubled quoted \"\", there is not real difference between them*"
   ]
  },
  {
   "cell_type": "code",
   "execution_count": 41,
   "metadata": {
    "collapsed": false
   },
   "outputs": [
    {
     "ename": "SyntaxError",
     "evalue": "EOL while scanning string literal (<ipython-input-41-48ec24dbb974>, line 1)",
     "output_type": "error",
     "traceback": [
      "\u001b[0;36m  File \u001b[0;32m\"<ipython-input-41-48ec24dbb974>\"\u001b[0;36m, line \u001b[0;32m1\u001b[0m\n\u001b[0;31m    \"this is\u001b[0m\n\u001b[0m             ^\u001b[0m\n\u001b[0;31mSyntaxError\u001b[0m\u001b[0;31m:\u001b[0m EOL while scanning string literal\n"
     ]
    }
   ],
   "source": [
    "\"this is \n",
    "also string\""
   ]
  },
  {
   "cell_type": "markdown",
   "metadata": {},
   "source": [
    "*__Note__: single/doubled quoted strings must written in single line, ie newline is not allowed*"
   ]
  },
  {
   "cell_type": "markdown",
   "metadata": {},
   "source": [
    "### Tripple quoted string"
>>>>>>> upstream/master:Python/Beginner/unit-01-datatypes-reference.ipynb
   ]
  },
  {
   "cell_type": "code",
<<<<<<< HEAD:Python/Beginner/week-01-unit-01-datatypes.ipynb
   "execution_count": null,
   "metadata": {
    "collapsed": false
   },
   "outputs": [],
   "source": [
    "True"
=======
   "execution_count": 42,
   "metadata": {
    "collapsed": false
   },
   "outputs": [
    {
     "data": {
      "text/plain": [
       "' This is new string\\nwith new line that \\n    preserves spaces\\n'"
      ]
     },
     "execution_count": 42,
     "metadata": {},
     "output_type": "execute_result"
    }
   ],
   "source": [
    "\"\"\" This is new string\n",
    "with new line that \n",
    "    preserves spaces\n",
    "\"\"\""
>>>>>>> upstream/master:Python/Beginner/unit-01-datatypes-reference.ipynb
   ]
  },
  {
   "cell_type": "code",
<<<<<<< HEAD:Python/Beginner/week-01-unit-01-datatypes.ipynb
   "execution_count": null,
   "metadata": {
    "collapsed": false
   },
   "outputs": [],
   "source": [
    "type(True)"
   ]
  },
  {
   "cell_type": "code",
   "execution_count": null,
   "metadata": {
    "collapsed": false
   },
   "outputs": [],
   "source": [
    "False"
=======
   "execution_count": 43,
   "metadata": {
    "collapsed": false
   },
   "outputs": [
    {
     "data": {
      "text/plain": [
       "' This is same as above, \\nonly use of type of quote\\ndiffers'"
      ]
     },
     "execution_count": 43,
     "metadata": {},
     "output_type": "execute_result"
    }
   ],
   "source": [
    "''' This is same as above, \n",
    "only use of type of quote\n",
    "differs'''"
   ]
  },
  {
   "cell_type": "markdown",
   "metadata": {},
   "source": [
    "*While triple quoted ''' or \"\"\", preserves newlines and spaces.*"
   ]
  },
  {
   "cell_type": "markdown",
   "metadata": {},
   "source": [
    "### Unicode string"
>>>>>>> upstream/master:Python/Beginner/unit-01-datatypes-reference.ipynb
   ]
  },
  {
   "cell_type": "code",
<<<<<<< HEAD:Python/Beginner/week-01-unit-01-datatypes.ipynb
   "execution_count": null,
   "metadata": {
    "collapsed": false
   },
   "outputs": [],
   "source": [
    "int(True)"
   ]
  },
  {
   "cell_type": "code",
   "execution_count": null,
   "metadata": {
    "collapsed": false
   },
   "outputs": [],
   "source": [
    "int(False)"
=======
   "execution_count": 46,
   "metadata": {
    "collapsed": false
   },
   "outputs": [
    {
     "data": {
      "text/plain": [
       "'नेपालि'"
      ]
     },
     "execution_count": 46,
     "metadata": {},
     "output_type": "execute_result"
    }
   ],
   "source": [
    "'नेपालि'"
   ]
  },
  {
   "cell_type": "markdown",
   "metadata": {},
   "source": [
    "*Unicode is builtin to Python 3 Strings.*\n",
    "\n",
    "*Strings are sequence of unicodes.*"
>>>>>>> upstream/master:Python/Beginner/unit-01-datatypes-reference.ipynb
   ]
  },
  {
   "cell_type": "markdown",
   "metadata": {},
   "source": [
    "## Bytes\n",
    "---"
   ]
  },
  {
   "cell_type": "code",
<<<<<<< HEAD:Python/Beginner/week-01-unit-01-datatypes.ipynb
   "execution_count": null,
   "metadata": {
    "collapsed": false
   },
   "outputs": [],
=======
   "execution_count": 147,
   "metadata": {
    "collapsed": false
   },
   "outputs": [
    {
     "data": {
      "text/plain": [
       "b'This is byte string'"
      ]
     },
     "execution_count": 147,
     "metadata": {},
     "output_type": "execute_result"
    }
   ],
>>>>>>> upstream/master:Python/Beginner/unit-01-datatypes-reference.ipynb
   "source": [
    "b'This is byte string'"
   ]
  },
  {
   "cell_type": "markdown",
   "metadata": {},
   "source": [
    "*Bytes are sequence of bytes ie number from 0 to 255*"
   ]
  },
  {
<<<<<<< HEAD:Python/Beginner/week-01-unit-01-datatypes.ipynb
   "cell_type": "code",
   "execution_count": null,
   "metadata": {
    "collapsed": true
   },
   "outputs": [],
   "source": [
    "a = 4 + 6j"
   ]
  },
  {
   "cell_type": "code",
   "execution_count": null,
   "metadata": {
    "collapsed": false
   },
   "outputs": [],
   "source": [
    "type(a)"
=======
   "cell_type": "markdown",
   "metadata": {},
   "source": [
    "## Builtin Functions\n",
    "---\n",
    "\n",
    "Builtin functions are those given by python, which gives us certain information or does some tasks.\n",
    "\n",
    "functions are generally **names** with opening and closing parenthesis **()**.\n",
    "\n",
    "between parenthesis we pass in some value,"
   ]
  },
  {
   "cell_type": "markdown",
   "metadata": {},
   "source": [
    "### type"
>>>>>>> upstream/master:Python/Beginner/unit-01-datatypes-reference.ipynb
   ]
  },
  {
   "cell_type": "code",
<<<<<<< HEAD:Python/Beginner/week-01-unit-01-datatypes.ipynb
   "execution_count": null,
   "metadata": {
    "collapsed": false
   },
   "outputs": [],
   "source": [
    "dir(a)"
=======
   "execution_count": 148,
   "metadata": {
    "collapsed": false
   },
   "outputs": [
    {
     "data": {
      "text/plain": [
       "int"
      ]
     },
     "execution_count": 148,
     "metadata": {},
     "output_type": "execute_result"
    }
   ],
   "source": [
    "type(1)"
>>>>>>> upstream/master:Python/Beginner/unit-01-datatypes-reference.ipynb
   ]
  },
  {
   "cell_type": "code",
<<<<<<< HEAD:Python/Beginner/week-01-unit-01-datatypes.ipynb
   "execution_count": null,
   "metadata": {
    "collapsed": false
   },
   "outputs": [],
   "source": [
    "a.conjugate()"
=======
   "execution_count": 149,
   "metadata": {
    "collapsed": false
   },
   "outputs": [
    {
     "data": {
      "text/plain": [
       "float"
      ]
     },
     "execution_count": 149,
     "metadata": {},
     "output_type": "execute_result"
    }
   ],
   "source": [
    "type(2.5)"
>>>>>>> upstream/master:Python/Beginner/unit-01-datatypes-reference.ipynb
   ]
  },
  {
   "cell_type": "code",
<<<<<<< HEAD:Python/Beginner/week-01-unit-01-datatypes.ipynb
   "execution_count": null,
   "metadata": {
    "collapsed": false
   },
   "outputs": [],
   "source": [
    "a.real"
=======
   "execution_count": 150,
   "metadata": {
    "collapsed": false
   },
   "outputs": [
    {
     "data": {
      "text/plain": [
       "str"
      ]
     },
     "execution_count": 150,
     "metadata": {},
     "output_type": "execute_result"
    }
   ],
   "source": [
    "type('Nepal')"
>>>>>>> upstream/master:Python/Beginner/unit-01-datatypes-reference.ipynb
   ]
  },
  {
   "cell_type": "code",
<<<<<<< HEAD:Python/Beginner/week-01-unit-01-datatypes.ipynb
   "execution_count": null,
   "metadata": {
    "collapsed": false
   },
   "outputs": [],
   "source": [
    "a.imag"
   ]
  },
  {
   "cell_type": "markdown",
   "metadata": {},
   "source": [
    "### String\n",
    "---"
=======
   "execution_count": 151,
   "metadata": {
    "collapsed": false
   },
   "outputs": [
    {
     "data": {
      "text/plain": [
       "complex"
      ]
     },
     "execution_count": 151,
     "metadata": {},
     "output_type": "execute_result"
    }
   ],
   "source": [
    "type(2 + 3j)"
>>>>>>> upstream/master:Python/Beginner/unit-01-datatypes-reference.ipynb
   ]
  },
  {
   "cell_type": "code",
<<<<<<< HEAD:Python/Beginner/week-01-unit-01-datatypes.ipynb
   "execution_count": null,
   "metadata": {
    "collapsed": false
   },
   "outputs": [],
   "source": [
    "# string\n",
    "'this is string'"
   ]
  },
  {
   "cell_type": "code",
   "execution_count": null,
   "metadata": {
    "collapsed": false
   },
   "outputs": [],
   "source": [
    "\"this is also string\""
=======
   "execution_count": 152,
   "metadata": {
    "collapsed": false
   },
   "outputs": [
    {
     "data": {
      "text/plain": [
       "bytes"
      ]
     },
     "execution_count": 152,
     "metadata": {},
     "output_type": "execute_result"
    }
   ],
   "source": [
    "type(b'This is what?')"
   ]
  },
  {
   "cell_type": "markdown",
   "metadata": {},
   "source": [
    "*__type()__ functions returns/gives, what is datatype of given data/object.*"
>>>>>>> upstream/master:Python/Beginner/unit-01-datatypes-reference.ipynb
   ]
  },
  {
   "cell_type": "code",
   "execution_count": null,
   "metadata": {
    "collapsed": false
   },
   "outputs": [],
   "source": [
<<<<<<< HEAD:Python/Beginner/week-01-unit-01-datatypes.ipynb
    "\"this is \n",
    "also string\""
=======
    "### len"
>>>>>>> upstream/master:Python/Beginner/unit-01-datatypes-reference.ipynb
   ]
  },
  {
   "cell_type": "code",
<<<<<<< HEAD:Python/Beginner/week-01-unit-01-datatypes.ipynb
   "execution_count": null,
   "metadata": {
    "collapsed": false
   },
   "outputs": [],
   "source": [
    "\"\"\" This is new string\n",
    "with new line that \n",
    "    preserves spaces\n",
    "\"\"\""
   ]
  },
  {
   "cell_type": "code",
   "execution_count": null,
   "metadata": {
    "collapsed": false
   },
   "outputs": [],
   "source": [
    "''' This is same as above, \n",
    "only use of type of quote\n",
    "differs'''"
=======
   "execution_count": 153,
   "metadata": {
    "collapsed": false
   },
   "outputs": [
    {
     "data": {
      "text/plain": [
       "19"
      ]
     },
     "execution_count": 153,
     "metadata": {},
     "output_type": "execute_result"
    }
   ],
   "source": [
    "len('This is some string')"
>>>>>>> upstream/master:Python/Beginner/unit-01-datatypes-reference.ipynb
   ]
  },
  {
   "cell_type": "code",
<<<<<<< HEAD:Python/Beginner/week-01-unit-01-datatypes.ipynb
   "execution_count": null,
   "metadata": {
    "collapsed": false
   },
   "outputs": [],
   "source": [
    "print('askdjaksd\\nalsdjlaskd')"
   ]
  },
  {
   "cell_type": "code",
   "execution_count": null,
   "metadata": {
    "collapsed": false
   },
   "outputs": [],
   "source": [
    "type('a string')"
   ]
  },
  {
   "cell_type": "markdown",
   "metadata": {},
   "source": [
    "*Python 3 is unicode language*"
=======
   "execution_count": 154,
   "metadata": {
    "collapsed": false
   },
   "outputs": [
    {
     "data": {
      "text/plain": [
       "4"
      ]
     },
     "execution_count": 154,
     "metadata": {},
     "output_type": "execute_result"
    }
   ],
   "source": [
    "len(b'This')"
>>>>>>> upstream/master:Python/Beginner/unit-01-datatypes-reference.ipynb
   ]
  },
  {
   "cell_type": "code",
<<<<<<< HEAD:Python/Beginner/week-01-unit-01-datatypes.ipynb
   "execution_count": null,
   "metadata": {
    "collapsed": false
   },
   "outputs": [],
   "source": [
    "'नेपालि'"
=======
   "execution_count": 155,
   "metadata": {
    "collapsed": false
   },
   "outputs": [
    {
     "data": {
      "text/plain": [
       "6"
      ]
     },
     "execution_count": 155,
     "metadata": {},
     "output_type": "execute_result"
    }
   ],
   "source": [
    "len('नेपाली')"
   ]
  },
  {
   "cell_type": "markdown",
   "metadata": {},
   "source": [
    "*__len()__ functions returns/gives the length of given string or bytes*\n",
    "\n",
    "*It doesn't work on other datatypes above*"
>>>>>>> upstream/master:Python/Beginner/unit-01-datatypes-reference.ipynb
   ]
  },
  {
   "cell_type": "code",
   "execution_count": null,
   "metadata": {
    "collapsed": true
   },
   "outputs": [],
   "source": [
<<<<<<< HEAD:Python/Beginner/week-01-unit-01-datatypes.ipynb
    "मेरो = 'कसदकजासहदकजासदकजासहदक'"
=======
    "### help"
>>>>>>> upstream/master:Python/Beginner/unit-01-datatypes-reference.ipynb
   ]
  },
  {
   "cell_type": "code",
<<<<<<< HEAD:Python/Beginner/week-01-unit-01-datatypes.ipynb
   "execution_count": null,
   "metadata": {
    "collapsed": false
   },
   "outputs": [],
   "source": [
    "मेरो"
=======
   "execution_count": 158,
   "metadata": {
    "collapsed": false
   },
   "outputs": [
    {
     "name": "stdout",
     "output_type": "stream",
     "text": [
      "Help on built-in function dir in module builtins:\n",
      "\n",
      "dir(...)\n",
      "    dir([object]) -> list of strings\n",
      "    \n",
      "    If called without an argument, return the names in the current scope.\n",
      "    Else, return an alphabetized list of names comprising (some of) the attributes\n",
      "    of the given object, and of attributes reachable from it.\n",
      "    If the object supplies a method named __dir__, it will be used; otherwise\n",
      "    the default dir() logic is used and returns:\n",
      "      for a module object: the module's attributes.\n",
      "      for a class object:  its attributes, and recursively the attributes\n",
      "        of its bases.\n",
      "      for any other object: its attributes, its class's attributes, and\n",
      "        recursively the attributes of its class's base classes.\n",
      "\n"
     ]
    }
   ],
   "source": [
    "help(dir)"
>>>>>>> upstream/master:Python/Beginner/unit-01-datatypes-reference.ipynb
   ]
  },
  {
   "cell_type": "markdown",
   "metadata": {},
   "source": [
<<<<<<< HEAD:Python/Beginner/week-01-unit-01-datatypes.ipynb
    "### Bytes\n",
    "---"
   ]
  },
  {
   "cell_type": "code",
   "execution_count": null,
   "metadata": {
    "collapsed": false
   },
   "outputs": [],
   "source": [
    "b'this'"
=======
    "*__help()__ shows help text for given data/functions*"
   ]
  },
  {
   "cell_type": "markdown",
   "metadata": {},
   "source": [
    "### ord"
>>>>>>> upstream/master:Python/Beginner/unit-01-datatypes-reference.ipynb
   ]
  },
  {
   "cell_type": "code",
<<<<<<< HEAD:Python/Beginner/week-01-unit-01-datatypes.ipynb
   "execution_count": null,
   "metadata": {
    "collapsed": false
   },
   "outputs": [],
   "source": [
    "type(b'text')"
   ]
  },
  {
   "cell_type": "code",
   "execution_count": null,
   "metadata": {
    "collapsed": false
   },
   "outputs": [],
   "source": [
=======
   "execution_count": 159,
   "metadata": {
    "collapsed": false
   },
   "outputs": [
    {
     "data": {
      "text/plain": [
       "97"
      ]
     },
     "execution_count": 159,
     "metadata": {},
     "output_type": "execute_result"
    }
   ],
   "source": [
>>>>>>> upstream/master:Python/Beginner/unit-01-datatypes-reference.ipynb
    "ord('a')"
   ]
  },
  {
   "cell_type": "code",
<<<<<<< HEAD:Python/Beginner/week-01-unit-01-datatypes.ipynb
   "execution_count": null,
   "metadata": {
    "collapsed": false
   },
   "outputs": [],
   "source": [
    "chr(98)"
   ]
  },
  {
   "cell_type": "markdown",
   "metadata": {},
   "source": [
    "*converting string to bytes*"
   ]
  },
  {
   "cell_type": "code",
   "execution_count": null,
   "metadata": {
    "collapsed": false
   },
   "outputs": [],
   "source": [
    "a = 'é'.encode()"
=======
   "execution_count": 160,
   "metadata": {
    "collapsed": false
   },
   "outputs": [
    {
     "data": {
      "text/plain": [
       "2325"
      ]
     },
     "execution_count": 160,
     "metadata": {},
     "output_type": "execute_result"
    }
   ],
   "source": [
    "ord('क')"
   ]
  },
  {
   "cell_type": "markdown",
   "metadata": {},
   "source": [
    "*Each character is associated with a specific/unique number.*\n",
    "\n",
    "*__ord()__ returns/gives the associated number for given character.*"
   ]
  },
  {
   "cell_type": "markdown",
   "metadata": {},
   "source": [
    "### chr"
>>>>>>> upstream/master:Python/Beginner/unit-01-datatypes-reference.ipynb
   ]
  },
  {
   "cell_type": "code",
<<<<<<< HEAD:Python/Beginner/week-01-unit-01-datatypes.ipynb
   "execution_count": null,
   "metadata": {
    "collapsed": false
   },
   "outputs": [],
   "source": [
    "a"
   ]
  },
  {
   "cell_type": "code",
   "execution_count": null,
   "metadata": {
    "collapsed": false
   },
   "outputs": [],
   "source": [
    "ord('é')"
=======
   "execution_count": 161,
   "metadata": {
    "collapsed": false
   },
   "outputs": [
    {
     "data": {
      "text/plain": [
       "'ख'"
      ]
     },
     "execution_count": 161,
     "metadata": {},
     "output_type": "execute_result"
    }
   ],
   "source": [
    "chr(2326)"
>>>>>>> upstream/master:Python/Beginner/unit-01-datatypes-reference.ipynb
   ]
  },
  {
   "cell_type": "code",
<<<<<<< HEAD:Python/Beginner/week-01-unit-01-datatypes.ipynb
   "execution_count": null,
   "metadata": {
    "collapsed": false
   },
   "outputs": [],
   "source": [
    "ord('द')"
=======
   "execution_count": 162,
   "metadata": {
    "collapsed": false
   },
   "outputs": [
    {
     "data": {
      "text/plain": [
       "'b'"
      ]
     },
     "execution_count": 162,
     "metadata": {},
     "output_type": "execute_result"
    }
   ],
   "source": [
    "chr(98)"
>>>>>>> upstream/master:Python/Beginner/unit-01-datatypes-reference.ipynb
   ]
  },
  {
   "cell_type": "markdown",
   "metadata": {},
   "source": [
<<<<<<< HEAD:Python/Beginner/week-01-unit-01-datatypes.ipynb
    "## Mathematical Operations"
   ]
  },
  {
   "cell_type": "markdown",
   "metadata": {},
   "source": [
    "### Addition ( + operator )\n",
    "---"
   ]
  },
  {
   "cell_type": "code",
   "execution_count": null,
   "metadata": {
    "collapsed": false
   },
   "outputs": [],
   "source": [
    "# add int with int -> result is int\n",
    "1 + 2"
=======
    "*__chr()__ is opposite of __ord()__, that it returns/gives character for given number.*"
   ]
  },
  {
   "cell_type": "markdown",
   "metadata": {},
   "source": [
    "## Type Casting\n",
    "---\n",
    "\n",
    "Changing from one type to another is called type casting"
>>>>>>> upstream/master:Python/Beginner/unit-01-datatypes-reference.ipynb
   ]
  },
  {
   "cell_type": "code",
<<<<<<< HEAD:Python/Beginner/week-01-unit-01-datatypes.ipynb
   "execution_count": null,
   "metadata": {
    "collapsed": false
   },
   "outputs": [],
   "source": [
    "# add int with float -> result is promoted to float\n",
    "1.5 + 2"
=======
   "execution_count": 163,
   "metadata": {
    "collapsed": false
   },
   "outputs": [
    {
     "data": {
      "text/plain": [
       "1"
      ]
     },
     "execution_count": 163,
     "metadata": {},
     "output_type": "execute_result"
    }
   ],
   "source": [
    "int(1.2)"
>>>>>>> upstream/master:Python/Beginner/unit-01-datatypes-reference.ipynb
   ]
  },
  {
   "cell_type": "code",
<<<<<<< HEAD:Python/Beginner/week-01-unit-01-datatypes.ipynb
   "execution_count": null,
   "metadata": {
    "collapsed": false
   },
   "outputs": [],
   "source": [
    "# add int with boolean -> boolean is promoted to int\n",
    "# True == 1\n",
    "# False == 0\n",
    "1 + True"
=======
   "execution_count": 164,
   "metadata": {
    "collapsed": false
   },
   "outputs": [
    {
     "data": {
      "text/plain": [
       "4"
      ]
     },
     "execution_count": 164,
     "metadata": {},
     "output_type": "execute_result"
    }
   ],
   "source": [
    "int('4')"
>>>>>>> upstream/master:Python/Beginner/unit-01-datatypes-reference.ipynb
   ]
  },
  {
   "cell_type": "code",
<<<<<<< HEAD:Python/Beginner/week-01-unit-01-datatypes.ipynb
   "execution_count": null,
   "metadata": {
    "collapsed": false
   },
   "outputs": [],
   "source": [
    "# add int with string\n",
    "1 + '2'"
   ]
  },
  {
   "cell_type": "markdown",
   "metadata": {},
   "source": [
    "- dynamically typed language **\n",
    "\n",
    "        a = 1\n",
    "    \n",
    "        a = 'string'\n",
    "\n",
    "\n",
    "- statically typed language\n",
    "\n",
    "        int a = 1\n",
    "    \n",
    "        a = 'p' // error"
   ]
  },
  {
   "cell_type": "code",
   "execution_count": null,
   "metadata": {
    "collapsed": false
   },
   "outputs": [],
   "source": [
    "# assign a with int\n",
    "a = 1\n",
    "# reassign a with string\n",
    "a = 'p'\n",
    "# what a holds now\n",
    "a"
=======
   "execution_count": 165,
   "metadata": {
    "collapsed": false
   },
   "outputs": [
    {
     "data": {
      "text/plain": [
       "1"
      ]
     },
     "execution_count": 165,
     "metadata": {},
     "output_type": "execute_result"
    }
   ],
   "source": [
    "int(True)"
   ]
  },
  {
   "cell_type": "markdown",
   "metadata": {},
   "source": [
    "*We can change, a float, a boolean or a string into integer using __int()__ function*"
   ]
  },
  {
   "cell_type": "code",
   "execution_count": 166,
   "metadata": {
    "collapsed": false
   },
   "outputs": [
    {
     "ename": "TypeError",
     "evalue": "can't convert complex to int",
     "output_type": "error",
     "traceback": [
      "\u001b[0;31m---------------------------------------------------------------------------\u001b[0m",
      "\u001b[0;31mTypeError\u001b[0m                                 Traceback (most recent call last)",
      "\u001b[0;32m<ipython-input-166-2b902fde7481>\u001b[0m in \u001b[0;36m<module>\u001b[0;34m()\u001b[0m\n\u001b[0;32m----> 1\u001b[0;31m \u001b[0mint\u001b[0m\u001b[0;34m(\u001b[0m\u001b[0;36m2\u001b[0m \u001b[0;34m+\u001b[0m \u001b[0;36m3j\u001b[0m\u001b[0;34m)\u001b[0m\u001b[0;34m\u001b[0m\u001b[0m\n\u001b[0m",
      "\u001b[0;31mTypeError\u001b[0m: can't convert complex to int"
     ]
    }
   ],
   "source": [
    "int(2 + 3j)"
>>>>>>> upstream/master:Python/Beginner/unit-01-datatypes-reference.ipynb
   ]
  },
  {
   "cell_type": "markdown",
   "metadata": {},
   "source": [
<<<<<<< HEAD:Python/Beginner/week-01-unit-01-datatypes.ipynb
    "- weak type system\n",
    "\n",
    "        a = 1\n",
    "    \n",
    "        b = 'a'\n",
    "\n",
    "        a + b\n",
    "\n",
    "- strongly typed language\n",
    "\n",
    "        a + b // error"
=======
    "*We cannot change a complex number to a integer*"
>>>>>>> upstream/master:Python/Beginner/unit-01-datatypes-reference.ipynb
   ]
  },
  {
   "cell_type": "code",
<<<<<<< HEAD:Python/Beginner/week-01-unit-01-datatypes.ipynb
   "execution_count": null,
=======
   "execution_count": 167,
>>>>>>> upstream/master:Python/Beginner/unit-01-datatypes-reference.ipynb
   "metadata": {
    "collapsed": false
   },
   "outputs": [
    {
     "ename": "ValueError",
     "evalue": "invalid literal for int() with base 10: 'a'",
     "output_type": "error",
     "traceback": [
      "\u001b[0;31m---------------------------------------------------------------------------\u001b[0m",
      "\u001b[0;31mValueError\u001b[0m                                Traceback (most recent call last)",
      "\u001b[0;32m<ipython-input-167-b3c3f4515dd4>\u001b[0m in \u001b[0;36m<module>\u001b[0;34m()\u001b[0m\n\u001b[0;32m----> 1\u001b[0;31m \u001b[0mint\u001b[0m\u001b[0;34m(\u001b[0m\u001b[0;34m'a'\u001b[0m\u001b[0;34m)\u001b[0m\u001b[0;34m\u001b[0m\u001b[0m\n\u001b[0m",
      "\u001b[0;31mValueError\u001b[0m: invalid literal for int() with base 10: 'a'"
     ]
    }
   ],
   "source": [
    "int('a')"
   ]
  },
  {
   "cell_type": "markdown",
   "metadata": {},
   "source": [
<<<<<<< HEAD:Python/Beginner/week-01-unit-01-datatypes.ipynb
    "1.5 + 'a'"
=======
    "*While we must remember only numbers represented as string can be converted to integer*"
>>>>>>> upstream/master:Python/Beginner/unit-01-datatypes-reference.ipynb
   ]
  },
  {
   "cell_type": "code",
<<<<<<< HEAD:Python/Beginner/week-01-unit-01-datatypes.ipynb
   "execution_count": null,
   "metadata": {
    "collapsed": false
   },
   "outputs": [],
   "source": [
    "'a' + 'bc'"
=======
   "execution_count": 168,
   "metadata": {
    "collapsed": false
   },
   "outputs": [
    {
     "data": {
      "text/plain": [
       "1.0"
      ]
     },
     "execution_count": 168,
     "metadata": {},
     "output_type": "execute_result"
    }
   ],
   "source": [
    "float(1)"
>>>>>>> upstream/master:Python/Beginner/unit-01-datatypes-reference.ipynb
   ]
  },
  {
   "cell_type": "code",
<<<<<<< HEAD:Python/Beginner/week-01-unit-01-datatypes.ipynb
   "execution_count": null,
   "metadata": {
    "collapsed": false
   },
   "outputs": [],
   "source": [
    "1.5 + (1 + 4j)"
=======
   "execution_count": 169,
   "metadata": {
    "collapsed": false
   },
   "outputs": [
    {
     "data": {
      "text/plain": [
       "5.5"
      ]
     },
     "execution_count": 169,
     "metadata": {},
     "output_type": "execute_result"
    }
   ],
   "source": [
    "float('5.5')"
>>>>>>> upstream/master:Python/Beginner/unit-01-datatypes-reference.ipynb
   ]
  },
  {
   "cell_type": "code",
<<<<<<< HEAD:Python/Beginner/week-01-unit-01-datatypes.ipynb
   "execution_count": null,
   "metadata": {
    "collapsed": false
   },
   "outputs": [],
   "source": [
    "(1 + 2j) + (3 + 5j)"
   ]
  },
  {
   "cell_type": "code",
   "execution_count": null,
   "metadata": {
    "collapsed": false
   },
   "outputs": [],
   "source": [
    "b'a' + b'bc'"
   ]
  },
  {
   "cell_type": "markdown",
   "metadata": {},
   "source": [
    "### Substraction ( - ), Multiplication ( * ), Division ( / or // )\n",
    "---"
   ]
  },
  {
   "cell_type": "code",
   "execution_count": null,
   "metadata": {
    "collapsed": false
   },
   "outputs": [],
   "source": [
    "# float division aka real division\n",
    "3/2"
   ]
  },
  {
   "cell_type": "code",
   "execution_count": null,
   "metadata": {
    "collapsed": false
   },
   "outputs": [],
   "source": [
    "# integer division\n",
    "3//2"
   ]
  },
  {
   "cell_type": "code",
   "execution_count": null,
   "metadata": {
    "collapsed": false
   },
   "outputs": [],
   "source": [
    "2 * 3"
=======
   "execution_count": 170,
   "metadata": {
    "collapsed": false
   },
   "outputs": [
    {
     "data": {
      "text/plain": [
       "0.0"
      ]
     },
     "execution_count": 170,
     "metadata": {},
     "output_type": "execute_result"
    }
   ],
   "source": [
    "float(False)"
>>>>>>> upstream/master:Python/Beginner/unit-01-datatypes-reference.ipynb
   ]
  },
  {
   "cell_type": "code",
<<<<<<< HEAD:Python/Beginner/week-01-unit-01-datatypes.ipynb
   "execution_count": null,
   "metadata": {
    "collapsed": false
   },
   "outputs": [],
   "source": [
    "'a' * 3"
   ]
  },
  {
   "cell_type": "markdown",
   "metadata": {},
   "source": [
    "**H/W try all the combinations**"
=======
   "execution_count": 171,
   "metadata": {
    "collapsed": false
   },
   "outputs": [
    {
     "ename": "ValueError",
     "evalue": "could not convert string to float: 'p'",
     "output_type": "error",
     "traceback": [
      "\u001b[0;31m---------------------------------------------------------------------------\u001b[0m",
      "\u001b[0;31mValueError\u001b[0m                                Traceback (most recent call last)",
      "\u001b[0;32m<ipython-input-171-03da2a3da163>\u001b[0m in \u001b[0;36m<module>\u001b[0;34m()\u001b[0m\n\u001b[0;32m----> 1\u001b[0;31m \u001b[0mfloat\u001b[0m\u001b[0;34m(\u001b[0m\u001b[0;34m'p'\u001b[0m\u001b[0;34m)\u001b[0m\u001b[0;34m\u001b[0m\u001b[0m\n\u001b[0m",
      "\u001b[0;31mValueError\u001b[0m: could not convert string to float: 'p'"
     ]
    }
   ],
   "source": [
    "float('p')"
>>>>>>> upstream/master:Python/Beginner/unit-01-datatypes-reference.ipynb
   ]
  },
  {
   "cell_type": "code",
<<<<<<< HEAD:Python/Beginner/week-01-unit-01-datatypes.ipynb
   "execution_count": null,
=======
   "execution_count": 172,
>>>>>>> upstream/master:Python/Beginner/unit-01-datatypes-reference.ipynb
   "metadata": {
    "collapsed": true
   },
<<<<<<< HEAD:Python/Beginner/week-01-unit-01-datatypes.ipynb
   "outputs": [],
   "source": []
  },
  {
   "cell_type": "code",
   "execution_count": null,
   "metadata": {
    "collapsed": true
   },
   "outputs": [],
   "source": []
  },
  {
   "cell_type": "markdown",
   "metadata": {},
   "source": [
    "### Power ( ** )\n",
    "---"
=======
   "outputs": [
    {
     "ename": "TypeError",
     "evalue": "can't convert complex to float",
     "output_type": "error",
     "traceback": [
      "\u001b[0;31m---------------------------------------------------------------------------\u001b[0m",
      "\u001b[0;31mTypeError\u001b[0m                                 Traceback (most recent call last)",
      "\u001b[0;32m<ipython-input-172-ab5fa5586ed6>\u001b[0m in \u001b[0;36m<module>\u001b[0;34m()\u001b[0m\n\u001b[0;32m----> 1\u001b[0;31m \u001b[0mfloat\u001b[0m\u001b[0;34m(\u001b[0m\u001b[0;36m3\u001b[0m \u001b[0;34m+\u001b[0m \u001b[0;36m7j\u001b[0m\u001b[0;34m)\u001b[0m\u001b[0;34m\u001b[0m\u001b[0m\n\u001b[0m",
      "\u001b[0;31mTypeError\u001b[0m: can't convert complex to float"
     ]
    }
   ],
   "source": [
    "float(3 + 7j)"
>>>>>>> upstream/master:Python/Beginner/unit-01-datatypes-reference.ipynb
   ]
  },
  {
   "cell_type": "markdown",
   "metadata": {},
   "source": [
<<<<<<< HEAD:Python/Beginner/week-01-unit-01-datatypes.ipynb
    "$2^3$"
   ]
  },
  {
   "cell_type": "code",
   "execution_count": null,
   "metadata": {
    "collapsed": false
   },
   "outputs": [],
   "source": [
    "2 ** 3"
   ]
  },
  {
   "cell_type": "markdown",
   "metadata": {},
   "source": [
    "**H/W try on all data types**"
=======
    "*Similar to __int()__, __float()__ functions changes a integer, string or boolean to a float*"
>>>>>>> upstream/master:Python/Beginner/unit-01-datatypes-reference.ipynb
   ]
  },
  {
   "cell_type": "code",
<<<<<<< HEAD:Python/Beginner/week-01-unit-01-datatypes.ipynb
   "execution_count": null,
=======
   "execution_count": 173,
>>>>>>> upstream/master:Python/Beginner/unit-01-datatypes-reference.ipynb
   "metadata": {
    "collapsed": true
   },
<<<<<<< HEAD:Python/Beginner/week-01-unit-01-datatypes.ipynb
   "outputs": [],
   "source": []
  },
  {
   "cell_type": "code",
   "execution_count": null,
   "metadata": {
    "collapsed": true
   },
   "outputs": [],
   "source": []
  },
  {
   "cell_type": "code",
   "execution_count": null,
   "metadata": {
    "collapsed": true
   },
   "outputs": [],
   "source": []
=======
   "outputs": [
    {
     "data": {
      "text/plain": [
       "'1'"
      ]
     },
     "execution_count": 173,
     "metadata": {},
     "output_type": "execute_result"
    }
   ],
   "source": [
    "str(1)"
   ]
  },
  {
   "cell_type": "code",
   "execution_count": 174,
   "metadata": {
    "collapsed": false
   },
   "outputs": [
    {
     "data": {
      "text/plain": [
       "'4.5'"
      ]
     },
     "execution_count": 174,
     "metadata": {},
     "output_type": "execute_result"
    }
   ],
   "source": [
    "str(4.5)"
   ]
  },
  {
   "cell_type": "code",
   "execution_count": 175,
   "metadata": {
    "collapsed": false
   },
   "outputs": [
    {
     "data": {
      "text/plain": [
       "'True'"
      ]
     },
     "execution_count": 175,
     "metadata": {},
     "output_type": "execute_result"
    }
   ],
   "source": [
    "str(True)"
   ]
  },
  {
   "cell_type": "code",
   "execution_count": 176,
   "metadata": {
    "collapsed": false
   },
   "outputs": [
    {
     "data": {
      "text/plain": [
       "'(5+9j)'"
      ]
     },
     "execution_count": 176,
     "metadata": {},
     "output_type": "execute_result"
    }
   ],
   "source": [
    "str(5 + 9j)"
   ]
>>>>>>> upstream/master:Python/Beginner/unit-01-datatypes-reference.ipynb
  },
  {
   "cell_type": "markdown",
   "metadata": {},
   "source": [
<<<<<<< HEAD:Python/Beginner/week-01-unit-01-datatypes.ipynb
    "## Variables\n",
    "---"
=======
    "*__str()__ function converts all other types to string.*"
>>>>>>> upstream/master:Python/Beginner/unit-01-datatypes-reference.ipynb
   ]
  },
  {
   "cell_type": "code",
<<<<<<< HEAD:Python/Beginner/week-01-unit-01-datatypes.ipynb
   "execution_count": null,
=======
   "execution_count": 177,
   "metadata": {
    "collapsed": false
   },
   "outputs": [
    {
     "data": {
      "text/plain": [
       "(1+0j)"
      ]
     },
     "execution_count": 177,
     "metadata": {},
     "output_type": "execute_result"
    }
   ],
   "source": [
    "complex(1)"
   ]
  },
  {
   "cell_type": "code",
   "execution_count": 178,
   "metadata": {
    "collapsed": false
   },
   "outputs": [
    {
     "data": {
      "text/plain": [
       "(4.5+0j)"
      ]
     },
     "execution_count": 178,
     "metadata": {},
     "output_type": "execute_result"
    }
   ],
   "source": [
    "complex(4.5)"
   ]
  },
  {
   "cell_type": "code",
   "execution_count": 179,
>>>>>>> upstream/master:Python/Beginner/unit-01-datatypes-reference.ipynb
   "metadata": {
    "collapsed": true
   },
<<<<<<< HEAD:Python/Beginner/week-01-unit-01-datatypes.ipynb
   "outputs": [],
   "source": [
    "# variable naming\n",
    "# starts only with underscore (_) or char (a-zA-Z)\n",
    "# follow by any underscore (_) or chars (a-zA-Z) or numbers (0-9)\n",
    "a = 1\n",
    "_ = 5\n",
    "a1 = 6"
=======
   "outputs": [
    {
     "data": {
      "text/plain": [
       "(4+0j)"
      ]
     },
     "execution_count": 179,
     "metadata": {},
     "output_type": "execute_result"
    }
   ],
   "source": [
    "complex('4')"
>>>>>>> upstream/master:Python/Beginner/unit-01-datatypes-reference.ipynb
   ]
  },
  {
   "cell_type": "code",
<<<<<<< HEAD:Python/Beginner/week-01-unit-01-datatypes.ipynb
   "execution_count": null,
   "metadata": {
    "collapsed": false
   },
   "outputs": [],
   "source": [
    "# illegal starts with number\n",
    "1bc = 6"
=======
   "execution_count": 181,
   "metadata": {
    "collapsed": false
   },
   "outputs": [
    {
     "data": {
      "text/plain": [
       "(1+0j)"
      ]
     },
     "execution_count": 181,
     "metadata": {},
     "output_type": "execute_result"
    }
   ],
   "source": [
    "complex(True)"
>>>>>>> upstream/master:Python/Beginner/unit-01-datatypes-reference.ipynb
   ]
  },
  {
   "cell_type": "code",
   "execution_count": 180,
   "metadata": {
    "collapsed": false
   },
<<<<<<< HEAD:Python/Beginner/week-01-unit-01-datatypes.ipynb
   "outputs": [],
   "source": [
    "a = 6\n",
    "b = 3"
   ]
  },
  {
   "cell_type": "code",
   "execution_count": null,
   "metadata": {
    "collapsed": false
   },
   "outputs": [],
   "source": [
    "a"
=======
   "outputs": [
    {
     "ename": "ValueError",
     "evalue": "complex() arg is a malformed string",
     "output_type": "error",
     "traceback": [
      "\u001b[0;31m---------------------------------------------------------------------------\u001b[0m",
      "\u001b[0;31mValueError\u001b[0m                                Traceback (most recent call last)",
      "\u001b[0;32m<ipython-input-180-01cd5c75075b>\u001b[0m in \u001b[0;36m<module>\u001b[0;34m()\u001b[0m\n\u001b[0;32m----> 1\u001b[0;31m \u001b[0mcomplex\u001b[0m\u001b[0;34m(\u001b[0m\u001b[0;34m'p'\u001b[0m\u001b[0;34m)\u001b[0m\u001b[0;34m\u001b[0m\u001b[0m\n\u001b[0m",
      "\u001b[0;31mValueError\u001b[0m: complex() arg is a malformed string"
     ]
    }
   ],
   "source": [
    "complex('p')"
   ]
  },
  {
   "cell_type": "markdown",
   "metadata": {},
   "source": [
    "*__complex()__ function converts other datatypes to complex number.*\n",
    "\n",
    "*__Note:__ Remember the difference between string number and string character.*"
   ]
  },
  {
   "cell_type": "markdown",
   "metadata": {},
   "source": [
    "## Names/Variables\n",
    "---\n",
    "\n",
    "We give _name_ to data, so that they can be identified later on. Such names are also known as _variables_."
>>>>>>> upstream/master:Python/Beginner/unit-01-datatypes-reference.ipynb
   ]
  },
  {
   "cell_type": "code",
   "execution_count": 182,
   "metadata": {
    "collapsed": true
   },
   "outputs": [],
   "source": [
<<<<<<< HEAD:Python/Beginner/week-01-unit-01-datatypes.ipynb
    "a, b = 7, 8"
=======
    "pi = 3.1415"
   ]
  },
  {
   "cell_type": "markdown",
   "metadata": {},
   "source": [
    "*Much like above names must be meaningful* \n",
    "\n",
    "*for example, if we need to use $\\pi$ later on we can just use __pi__ instead of using __3.1415__ each time.*"
   ]
  },
  {
   "cell_type": "markdown",
   "metadata": {},
   "source": [
    "There is a rule for defining a _variable_ name or just _name_ ( which we will call from now on. )\n",
    "\n",
    "- It must start with either a _character_ or a _underscore_ \n",
    "- while it can have a _character_, a _underscore_ or a _number_ after that"
>>>>>>> upstream/master:Python/Beginner/unit-01-datatypes-reference.ipynb
   ]
  },
  {
   "cell_type": "code",
   "execution_count": 183,
   "metadata": {
    "collapsed": false
   },
   "outputs": [],
<<<<<<< HEAD:Python/Beginner/week-01-unit-01-datatypes.ipynb
   "source": [
    "a"
=======
   "source": [
    "a = 1\n",
    "_ = 5\n",
    "a1 = 6"
   ]
  },
  {
   "cell_type": "markdown",
   "metadata": {},
   "source": [
    "*valid names*"
>>>>>>> upstream/master:Python/Beginner/unit-01-datatypes-reference.ipynb
   ]
  },
  {
   "cell_type": "code",
<<<<<<< HEAD:Python/Beginner/week-01-unit-01-datatypes.ipynb
   "execution_count": null,
   "metadata": {
    "collapsed": false
   },
   "outputs": [],
   "source": [
    "b"
=======
   "execution_count": 184,
   "metadata": {
    "collapsed": false
   },
   "outputs": [
    {
     "ename": "SyntaxError",
     "evalue": "invalid syntax (<ipython-input-184-19d512103f15>, line 1)",
     "output_type": "error",
     "traceback": [
      "\u001b[0;36m  File \u001b[0;32m\"<ipython-input-184-19d512103f15>\"\u001b[0;36m, line \u001b[0;32m1\u001b[0m\n\u001b[0;31m    2bc = 77\u001b[0m\n\u001b[0m      ^\u001b[0m\n\u001b[0;31mSyntaxError\u001b[0m\u001b[0;31m:\u001b[0m invalid syntax\n"
     ]
    }
   ],
   "source": [
    "2bc = 77"
>>>>>>> upstream/master:Python/Beginner/unit-01-datatypes-reference.ipynb
   ]
  },
  {
   "cell_type": "markdown",
   "metadata": {},
   "source": [
<<<<<<< HEAD:Python/Beginner/week-01-unit-01-datatypes.ipynb
    "Resources\n",
    "\n",
    "- http://learnpython.org\n",
    "\n",
    "- http://www.diveintopython3.net/\n",
    "\n",
    "- http://www.pythontutor.com"
=======
    "*Invalid name*"
>>>>>>> upstream/master:Python/Beginner/unit-01-datatypes-reference.ipynb
   ]
  },
  {
   "cell_type": "markdown",
   "metadata": {},
   "source": [
<<<<<<< HEAD:Python/Beginner/week-01-unit-01-datatypes.ipynb
    "### Strings\n",
    "---"
=======
    "## Methods and Attributes\n",
    "---\n",
    "\n",
    "There are two kinds, that are attached to a datatypes\n",
    "\n",
    "- Attributes are properties\n",
    "- Methods are functions\n",
    "\n",
    "These are attached using a _dot_ \"__.__\" notation.\n",
    "\n",
    "- Attributes don't end with parenthesis __()__.\n",
    "- While methods end with parenthesis __()__ just like functions."
   ]
  },
  {
   "cell_type": "markdown",
   "metadata": {},
   "source": [
    "### dir"
>>>>>>> upstream/master:Python/Beginner/unit-01-datatypes-reference.ipynb
   ]
  },
  {
   "cell_type": "code",
<<<<<<< HEAD:Python/Beginner/week-01-unit-01-datatypes.ipynb
   "execution_count": null,
   "metadata": {
    "collapsed": false
   },
   "outputs": [],
   "source": [
    "dir('')"
=======
   "execution_count": 185,
   "metadata": {
    "collapsed": false
   },
   "outputs": [
    {
     "data": {
      "text/plain": [
       "['__abs__',\n",
       " '__add__',\n",
       " '__and__',\n",
       " '__bool__',\n",
       " '__ceil__',\n",
       " '__class__',\n",
       " '__delattr__',\n",
       " '__dir__',\n",
       " '__divmod__',\n",
       " '__doc__',\n",
       " '__eq__',\n",
       " '__float__',\n",
       " '__floor__',\n",
       " '__floordiv__',\n",
       " '__format__',\n",
       " '__ge__',\n",
       " '__getattribute__',\n",
       " '__getnewargs__',\n",
       " '__gt__',\n",
       " '__hash__',\n",
       " '__index__',\n",
       " '__init__',\n",
       " '__int__',\n",
       " '__invert__',\n",
       " '__le__',\n",
       " '__lshift__',\n",
       " '__lt__',\n",
       " '__mod__',\n",
       " '__mul__',\n",
       " '__ne__',\n",
       " '__neg__',\n",
       " '__new__',\n",
       " '__or__',\n",
       " '__pos__',\n",
       " '__pow__',\n",
       " '__radd__',\n",
       " '__rand__',\n",
       " '__rdivmod__',\n",
       " '__reduce__',\n",
       " '__reduce_ex__',\n",
       " '__repr__',\n",
       " '__rfloordiv__',\n",
       " '__rlshift__',\n",
       " '__rmod__',\n",
       " '__rmul__',\n",
       " '__ror__',\n",
       " '__round__',\n",
       " '__rpow__',\n",
       " '__rrshift__',\n",
       " '__rshift__',\n",
       " '__rsub__',\n",
       " '__rtruediv__',\n",
       " '__rxor__',\n",
       " '__setattr__',\n",
       " '__sizeof__',\n",
       " '__str__',\n",
       " '__sub__',\n",
       " '__subclasshook__',\n",
       " '__truediv__',\n",
       " '__trunc__',\n",
       " '__xor__',\n",
       " 'bit_length',\n",
       " 'conjugate',\n",
       " 'denominator',\n",
       " 'from_bytes',\n",
       " 'imag',\n",
       " 'numerator',\n",
       " 'real',\n",
       " 'to_bytes']"
      ]
     },
     "execution_count": 185,
     "metadata": {},
     "output_type": "execute_result"
    }
   ],
   "source": [
    "dir(1)"
   ]
  },
  {
   "cell_type": "markdown",
   "metadata": {},
   "source": [
    "*__dir()__ functions returns/gives list of available attributes and/or methods for given data/type.*"
   ]
  },
  {
   "cell_type": "code",
   "execution_count": 186,
   "metadata": {
    "collapsed": true
   },
   "outputs": [],
   "source": [
    "height = 8848"
   ]
  },
  {
   "cell_type": "markdown",
   "metadata": {},
   "source": [
    "*__height__ is given name for __8848__*"
>>>>>>> upstream/master:Python/Beginner/unit-01-datatypes-reference.ipynb
   ]
  },
  {
   "cell_type": "code",
<<<<<<< HEAD:Python/Beginner/week-01-unit-01-datatypes.ipynb
   "execution_count": null,
   "metadata": {
    "collapsed": false
   },
   "outputs": [],
   "source": [
    "help(''.lower)"
=======
   "execution_count": 187,
   "metadata": {
    "collapsed": false
   },
   "outputs": [
    {
     "data": {
      "text/plain": [
       "8848"
      ]
     },
     "execution_count": 187,
     "metadata": {},
     "output_type": "execute_result"
    }
   ],
   "source": [
    "height.real"
   ]
  },
  {
   "cell_type": "code",
   "execution_count": 188,
   "metadata": {
    "collapsed": false
   },
   "outputs": [
    {
     "data": {
      "text/plain": [
       "0"
      ]
     },
     "execution_count": 188,
     "metadata": {},
     "output_type": "execute_result"
    }
   ],
   "source": [
    "height.imag"
   ]
  },
  {
   "cell_type": "markdown",
   "metadata": {},
   "source": [
    "*Above are attributes for integer i.e __height__*"
   ]
  },
  {
   "cell_type": "code",
   "execution_count": 189,
   "metadata": {
    "collapsed": true
   },
   "outputs": [],
   "source": [
    "cmplx = 7 + 5j"
   ]
  },
  {
   "cell_type": "code",
   "execution_count": 190,
   "metadata": {
    "collapsed": false
   },
   "outputs": [
    {
     "data": {
      "text/plain": [
       "7.0"
      ]
     },
     "execution_count": 190,
     "metadata": {},
     "output_type": "execute_result"
    }
   ],
   "source": [
    "cmplx.real"
   ]
  },
  {
   "cell_type": "code",
   "execution_count": 191,
   "metadata": {
    "collapsed": false
   },
   "outputs": [
    {
     "data": {
      "text/plain": [
       "5.0"
      ]
     },
     "execution_count": 191,
     "metadata": {},
     "output_type": "execute_result"
    }
   ],
   "source": [
    "cmplx.imag"
   ]
  },
  {
   "cell_type": "code",
   "execution_count": 192,
   "metadata": {
    "collapsed": false
   },
   "outputs": [
    {
     "data": {
      "text/plain": [
       "(7-5j)"
      ]
     },
     "execution_count": 192,
     "metadata": {},
     "output_type": "execute_result"
    }
   ],
   "source": [
    "cmplx.conjugate()"
   ]
  },
  {
   "cell_type": "markdown",
   "metadata": {},
   "source": [
    "*conjugate is __method__ associated with a complex number*\n",
    "\n",
    "*__Note:__ Remember the __dot__ it follows.*"
>>>>>>> upstream/master:Python/Beginner/unit-01-datatypes-reference.ipynb
   ]
  },
  {
   "cell_type": "code",
<<<<<<< HEAD:Python/Beginner/week-01-unit-01-datatypes.ipynb
   "execution_count": null,
=======
   "execution_count": 193,
>>>>>>> upstream/master:Python/Beginner/unit-01-datatypes-reference.ipynb
   "metadata": {
    "collapsed": false
   },
   "outputs": [],
   "source": [
<<<<<<< HEAD:Python/Beginner/week-01-unit-01-datatypes.ipynb
=======
    "ae = 'é'.encode()"
   ]
  },
  {
   "cell_type": "code",
   "execution_count": 194,
   "metadata": {
    "collapsed": false
   },
   "outputs": [
    {
     "data": {
      "text/plain": [
       "b'\\xc3\\xa9'"
      ]
     },
     "execution_count": 194,
     "metadata": {},
     "output_type": "execute_result"
    }
   ],
   "source": [
    "ae"
   ]
  },
  {
   "cell_type": "markdown",
   "metadata": {},
   "source": [
    "*__encode()__ is methods associated with a string, which converted string to a byte.*"
   ]
  },
  {
   "cell_type": "code",
   "execution_count": 86,
   "metadata": {
    "collapsed": false
   },
   "outputs": [
    {
     "data": {
      "text/plain": [
       "'abc'"
      ]
     },
     "execution_count": 86,
     "metadata": {},
     "output_type": "execute_result"
    }
   ],
   "source": [
>>>>>>> upstream/master:Python/Beginner/unit-01-datatypes-reference.ipynb
    "'Abc'.lower()"
   ]
  },
  {
   "cell_type": "code",
<<<<<<< HEAD:Python/Beginner/week-01-unit-01-datatypes.ipynb
   "execution_count": null,
   "metadata": {
    "collapsed": false
   },
   "outputs": [],
   "source": [
    "help(''.swapcase)"
=======
   "execution_count": 87,
   "metadata": {
    "collapsed": false
   },
   "outputs": [
    {
     "data": {
      "text/plain": [
       "'abcdfr'"
      ]
     },
     "execution_count": 87,
     "metadata": {},
     "output_type": "execute_result"
    }
   ],
   "source": [
    "'ABCDFR'.lower()"
>>>>>>> upstream/master:Python/Beginner/unit-01-datatypes-reference.ipynb
   ]
  },
  {
   "cell_type": "code",
<<<<<<< HEAD:Python/Beginner/week-01-unit-01-datatypes.ipynb
   "execution_count": null,
   "metadata": {
    "collapsed": false
   },
   "outputs": [],
=======
   "execution_count": 89,
   "metadata": {
    "collapsed": false
   },
   "outputs": [
    {
     "data": {
      "text/plain": [
       "'aBcD'"
      ]
     },
     "execution_count": 89,
     "metadata": {},
     "output_type": "execute_result"
    }
   ],
>>>>>>> upstream/master:Python/Beginner/unit-01-datatypes-reference.ipynb
   "source": [
    "'AbCd'.swapcase()"
   ]
  },
  {
<<<<<<< HEAD:Python/Beginner/week-01-unit-01-datatypes.ipynb
   "cell_type": "markdown",
   "metadata": {},
   "source": [
    "length of string"
=======
   "cell_type": "code",
   "execution_count": 91,
   "metadata": {
    "collapsed": false
   },
   "outputs": [
    {
     "data": {
      "text/plain": [
       "'Apple'"
      ]
     },
     "execution_count": 91,
     "metadata": {},
     "output_type": "execute_result"
    }
   ],
   "source": [
    "'apple'.capitalize()"
   ]
  },
  {
   "cell_type": "markdown",
   "metadata": {},
   "source": [
    "*Above are some string methods. which does what method name suggests*"
   ]
  },
  {
   "cell_type": "code",
   "execution_count": 93,
   "metadata": {
    "collapsed": false
   },
   "outputs": [
    {
     "data": {
      "text/plain": [
       "False"
      ]
     },
     "execution_count": 93,
     "metadata": {},
     "output_type": "execute_result"
    }
   ],
   "source": [
    "'abc'.isdigit()"
   ]
  },
  {
   "cell_type": "code",
   "execution_count": 94,
   "metadata": {
    "collapsed": false
   },
   "outputs": [
    {
     "data": {
      "text/plain": [
       "True"
      ]
     },
     "execution_count": 94,
     "metadata": {},
     "output_type": "execute_result"
    }
   ],
   "source": [
    "'123'.isdigit()"
   ]
  },
  {
   "cell_type": "code",
   "execution_count": 95,
   "metadata": {
    "collapsed": false
   },
   "outputs": [
    {
     "data": {
      "text/plain": [
       "False"
      ]
     },
     "execution_count": 95,
     "metadata": {},
     "output_type": "execute_result"
    }
   ],
   "source": [
    "'a29'.isdigit()"
   ]
  },
  {
   "cell_type": "markdown",
   "metadata": {},
   "source": [
    "*Above three string methods checks for certain condition. in this case, if given string is a digit.*"
   ]
  },
  {
   "cell_type": "markdown",
   "metadata": {},
   "source": [
    "## Mathematical Operations\n",
    "---"
   ]
  },
  {
   "cell_type": "markdown",
   "metadata": {},
   "source": [
    "### Addition ( + operator )\n",
    "---"
   ]
  },
  {
   "cell_type": "markdown",
   "metadata": {},
   "source": [
    "$int + int = int$"
   ]
  },
  {
   "cell_type": "code",
   "execution_count": 195,
   "metadata": {
    "collapsed": false
   },
   "outputs": [
    {
     "data": {
      "text/plain": [
       "3"
      ]
     },
     "execution_count": 195,
     "metadata": {},
     "output_type": "execute_result"
    }
   ],
   "source": [
    "1 + 2"
   ]
  },
  {
   "cell_type": "markdown",
   "metadata": {},
   "source": [
    "$float + int = float + float(int) = float$"
   ]
  },
  {
   "cell_type": "code",
   "execution_count": 196,
   "metadata": {
    "collapsed": false
   },
   "outputs": [
    {
     "data": {
      "text/plain": [
       "3.5"
      ]
     },
     "execution_count": 196,
     "metadata": {},
     "output_type": "execute_result"
    }
   ],
   "source": [
    "1.5 + 2"
   ]
  },
  {
   "cell_type": "markdown",
   "metadata": {},
   "source": [
    "$int + bool = int + int(bool) = int$"
   ]
  },
  {
   "cell_type": "code",
   "execution_count": 197,
   "metadata": {
    "collapsed": false
   },
   "outputs": [
    {
     "data": {
      "text/plain": [
       "2"
      ]
     },
     "execution_count": 197,
     "metadata": {},
     "output_type": "execute_result"
    }
   ],
   "source": [
    "1 + True"
   ]
  },
  {
   "cell_type": "markdown",
   "metadata": {},
   "source": [
    "$float + bool = float + float(bool) = float$"
   ]
  },
  {
   "cell_type": "code",
   "execution_count": 61,
   "metadata": {
    "collapsed": false
   },
   "outputs": [
    {
     "data": {
      "text/plain": [
       "2.5"
      ]
     },
     "execution_count": 61,
     "metadata": {},
     "output_type": "execute_result"
    }
   ],
   "source": [
    "1.5 + True"
   ]
  },
  {
   "cell_type": "code",
   "execution_count": 62,
   "metadata": {
    "collapsed": false
   },
   "outputs": [
    {
     "ename": "TypeError",
     "evalue": "unsupported operand type(s) for +: 'int' and 'str'",
     "output_type": "error",
     "traceback": [
      "\u001b[0;31m---------------------------------------------------------------------------\u001b[0m",
      "\u001b[0;31mTypeError\u001b[0m                                 Traceback (most recent call last)",
      "\u001b[0;32m<ipython-input-62-351862647d74>\u001b[0m in \u001b[0;36m<module>\u001b[0;34m()\u001b[0m\n\u001b[1;32m      1\u001b[0m \u001b[0;31m# add int with string\u001b[0m\u001b[0;34m\u001b[0m\u001b[0;34m\u001b[0m\u001b[0m\n\u001b[0;32m----> 2\u001b[0;31m \u001b[0;36m1\u001b[0m \u001b[0;34m+\u001b[0m \u001b[0;34m'2'\u001b[0m\u001b[0;34m\u001b[0m\u001b[0m\n\u001b[0m",
      "\u001b[0;31mTypeError\u001b[0m: unsupported operand type(s) for +: 'int' and 'str'"
     ]
    }
   ],
   "source": [
    "1 + '2'"
   ]
  },
  {
   "cell_type": "code",
   "execution_count": 198,
   "metadata": {
    "collapsed": false
   },
   "outputs": [
    {
     "data": {
      "text/plain": [
       "3"
      ]
     },
     "execution_count": 198,
     "metadata": {},
     "output_type": "execute_result"
    }
   ],
   "source": [
    "1 + int('2')"
   ]
  },
  {
   "cell_type": "markdown",
   "metadata": {},
   "source": [
    "*We need to explicity change a string to integer ourselves, in this case.*"
   ]
  },
  {
   "cell_type": "code",
   "execution_count": 199,
   "metadata": {
    "collapsed": false
   },
   "outputs": [
    {
     "data": {
      "text/plain": [
       "'abc'"
      ]
     },
     "execution_count": 199,
     "metadata": {},
     "output_type": "execute_result"
    }
   ],
   "source": [
    "'a' + 'bc'"
   ]
  },
  {
   "cell_type": "markdown",
   "metadata": {},
   "source": [
    "*This is concatenation ie joining of two strings together.*"
   ]
  },
  {
   "cell_type": "code",
   "execution_count": 65,
   "metadata": {
    "collapsed": false
   },
   "outputs": [
    {
     "data": {
      "text/plain": [
       "(2.5+4j)"
      ]
     },
     "execution_count": 65,
     "metadata": {},
     "output_type": "execute_result"
    }
   ],
   "source": [
    "1.5 + (1 + 4j)"
   ]
  },
  {
   "cell_type": "code",
   "execution_count": 66,
   "metadata": {
    "collapsed": false
   },
   "outputs": [
    {
     "data": {
      "text/plain": [
       "(4+7j)"
      ]
     },
     "execution_count": 66,
     "metadata": {},
     "output_type": "execute_result"
    }
   ],
   "source": [
    "(1 + 2j) + (3 + 5j)"
   ]
  },
  {
   "cell_type": "code",
   "execution_count": 67,
   "metadata": {
    "collapsed": false
   },
   "outputs": [
    {
     "data": {
      "text/plain": [
       "b'abc'"
      ]
     },
     "execution_count": 67,
     "metadata": {},
     "output_type": "execute_result"
    }
   ],
   "source": [
    "b'a' + b'bc'"
   ]
  },
  {
   "cell_type": "markdown",
   "metadata": {},
   "source": [
    "### Substraction ( - ), Multiplication ( * ), Division ( / or // )\n",
    "---"
   ]
  },
  {
   "cell_type": "code",
   "execution_count": 68,
   "metadata": {
    "collapsed": false
   },
   "outputs": [
    {
     "data": {
      "text/plain": [
       "1.5"
      ]
     },
     "execution_count": 68,
     "metadata": {},
     "output_type": "execute_result"
    }
   ],
   "source": [
    "# float division aka real division\n",
    "3/2"
   ]
  },
  {
   "cell_type": "code",
   "execution_count": 69,
   "metadata": {
    "collapsed": false
   },
   "outputs": [
    {
     "data": {
      "text/plain": [
       "1"
      ]
     },
     "execution_count": 69,
     "metadata": {},
     "output_type": "execute_result"
    }
   ],
   "source": [
    "# integer division\n",
    "3//2"
   ]
  },
  {
   "cell_type": "code",
   "execution_count": 70,
   "metadata": {
    "collapsed": false
   },
   "outputs": [
    {
     "data": {
      "text/plain": [
       "6"
      ]
     },
     "execution_count": 70,
     "metadata": {},
     "output_type": "execute_result"
    }
   ],
   "source": [
    "2 * 3"
>>>>>>> upstream/master:Python/Beginner/unit-01-datatypes-reference.ipynb
   ]
  },
  {
   "cell_type": "code",
<<<<<<< HEAD:Python/Beginner/week-01-unit-01-datatypes.ipynb
   "execution_count": null,
   "metadata": {
    "collapsed": false
   },
   "outputs": [],
   "source": [
    "len('This is a string')"
   ]
  },
  {
   "cell_type": "markdown",
   "metadata": {},
   "source": [
    "**H/W complete major string methods**"
=======
   "execution_count": 71,
   "metadata": {
    "collapsed": false
   },
   "outputs": [
    {
     "data": {
      "text/plain": [
       "'aaa'"
      ]
     },
     "execution_count": 71,
     "metadata": {},
     "output_type": "execute_result"
    }
   ],
   "source": [
    "# repitation\n",
    "'a' * 3"
>>>>>>> upstream/master:Python/Beginner/unit-01-datatypes-reference.ipynb
   ]
  },
  {
   "cell_type": "code",
   "execution_count": null,
<<<<<<< HEAD:Python/Beginner/week-01-unit-01-datatypes.ipynb
=======
   "metadata": {
    "collapsed": true
   },
   "outputs": [],
   "source": []
  },
  {
   "cell_type": "code",
   "execution_count": null,
   "metadata": {
    "collapsed": true
   },
   "outputs": [],
   "source": []
  },
  {
   "cell_type": "markdown",
   "metadata": {},
   "source": [
    "**H/W try all the combinations**"
   ]
  },
  {
   "cell_type": "code",
   "execution_count": null,
   "metadata": {
    "collapsed": true
   },
   "outputs": [],
   "source": []
  },
  {
   "cell_type": "code",
   "execution_count": null,
   "metadata": {
    "collapsed": true
   },
   "outputs": [],
   "source": []
  },
  {
   "cell_type": "markdown",
   "metadata": {},
   "source": [
    "### Power ( ** )\n",
    "---"
   ]
  },
  {
   "cell_type": "markdown",
   "metadata": {},
   "source": [
    "$2^3$"
   ]
  },
  {
   "cell_type": "code",
   "execution_count": 72,
>>>>>>> upstream/master:Python/Beginner/unit-01-datatypes-reference.ipynb
   "metadata": {
    "collapsed": true
   },
<<<<<<< HEAD:Python/Beginner/week-01-unit-01-datatypes.ipynb
   "outputs": [],
   "source": []
  },
  {
   "cell_type": "code",
   "execution_count": null,
=======
   "outputs": [
    {
     "data": {
      "text/plain": [
       "8"
      ]
     },
     "execution_count": 72,
     "metadata": {},
     "output_type": "execute_result"
    }
   ],
   "source": [
    "2 ** 3"
   ]
  },
  {
   "cell_type": "markdown",
   "metadata": {},
   "source": [
    "### String slicing"
   ]
  },
  {
   "cell_type": "code",
   "execution_count": 97,
   "metadata": {
    "collapsed": true
   },
   "outputs": [],
   "source": [
    "address = 'Kathmandu-4, Bagmati, Nepal'"
   ]
  },
  {
   "cell_type": "code",
   "execution_count": 98,
>>>>>>> upstream/master:Python/Beginner/unit-01-datatypes-reference.ipynb
   "metadata": {
    "collapsed": true
   },
<<<<<<< HEAD:Python/Beginner/week-01-unit-01-datatypes.ipynb
   "outputs": [],
   "source": []
=======
   "outputs": [
    {
     "data": {
      "text/plain": [
       "27"
      ]
     },
     "execution_count": 98,
     "metadata": {},
     "output_type": "execute_result"
    }
   ],
   "source": [
    "len(address)"
   ]
>>>>>>> upstream/master:Python/Beginner/unit-01-datatypes-reference.ipynb
  },
  {
   "cell_type": "markdown",
   "metadata": {},
   "source": [
<<<<<<< HEAD:Python/Beginner/week-01-unit-01-datatypes.ipynb
    "### String slicing"
=======
    "\n",
    "string indexes\n",
    "\n",
    "```\n",
    "  K a t h m a n d u - 4 ,   B a g m a t i ,   N e p a l\n",
    "  0 1 2 3 4 5 6\n",
    "                                                   -2 -1\n",
    "```\n",
    "  \n"
>>>>>>> upstream/master:Python/Beginner/unit-01-datatypes-reference.ipynb
   ]
  },
  {
   "cell_type": "code",
<<<<<<< HEAD:Python/Beginner/week-01-unit-01-datatypes.ipynb
   "execution_count": null,
=======
   "execution_count": 99,
>>>>>>> upstream/master:Python/Beginner/unit-01-datatypes-reference.ipynb
   "metadata": {
    "collapsed": true
   },
<<<<<<< HEAD:Python/Beginner/week-01-unit-01-datatypes.ipynb
   "outputs": [],
   "source": [
    "address = 'Kathmandu-4, Bagmati, Nepal'"
   ]
  },
  {
   "cell_type": "markdown",
   "metadata": {},
   "source": [
    "\n",
    "string indexes\n",
    "\n",
    "```\n",
    "  K a t h m a n d u - 4 ,   B a g m a t i ,   N e p a l\n",
    "  0 1 2 3 4 5 6\n",
    "                                                   -2 -1\n",
    "```\n",
    "  \n"
=======
   "outputs": [
    {
     "data": {
      "text/plain": [
       "'K'"
      ]
     },
     "execution_count": 99,
     "metadata": {},
     "output_type": "execute_result"
    }
   ],
   "source": [
    "address[0]"
>>>>>>> upstream/master:Python/Beginner/unit-01-datatypes-reference.ipynb
   ]
  },
  {
   "cell_type": "code",
<<<<<<< HEAD:Python/Beginner/week-01-unit-01-datatypes.ipynb
   "execution_count": null,
   "metadata": {
    "collapsed": false
   },
   "outputs": [],
   "source": [
    "address[0]"
=======
   "execution_count": 100,
   "metadata": {
    "collapsed": false
   },
   "outputs": [
    {
     "data": {
      "text/plain": [
       "'a'"
      ]
     },
     "execution_count": 100,
     "metadata": {},
     "output_type": "execute_result"
    }
   ],
   "source": [
    "# get from index 1\n",
    "address[1]"
>>>>>>> upstream/master:Python/Beginner/unit-01-datatypes-reference.ipynb
   ]
  },
  {
   "cell_type": "code",
<<<<<<< HEAD:Python/Beginner/week-01-unit-01-datatypes.ipynb
   "execution_count": null,
   "metadata": {
    "collapsed": false
   },
   "outputs": [],
   "source": [
    "# get from index 1\n",
    "address[1]"
   ]
  },
  {
   "cell_type": "code",
   "execution_count": null,
   "metadata": {
    "collapsed": false
   },
   "outputs": [],
   "source": [
    "# get from index 13\n",
    "address[13]"
   ]
  },
  {
=======
   "execution_count": 101,
   "metadata": {
    "collapsed": false
   },
   "outputs": [
    {
     "data": {
      "text/plain": [
       "'B'"
      ]
     },
     "execution_count": 101,
     "metadata": {},
     "output_type": "execute_result"
    }
   ],
   "source": [
    "# get from index 13\n",
    "address[13]"
   ]
  },
  {
>>>>>>> upstream/master:Python/Beginner/unit-01-datatypes-reference.ipynb
   "cell_type": "markdown",
   "metadata": {},
   "source": [
    "negative index is counted backward, -1 is last character in string"
   ]
  },
  {
   "cell_type": "code",
<<<<<<< HEAD:Python/Beginner/week-01-unit-01-datatypes.ipynb
   "execution_count": null,
   "metadata": {
    "collapsed": false
   },
   "outputs": [],
=======
   "execution_count": 102,
   "metadata": {
    "collapsed": false
   },
   "outputs": [
    {
     "data": {
      "text/plain": [
       "'l'"
      ]
     },
     "execution_count": 102,
     "metadata": {},
     "output_type": "execute_result"
    }
   ],
>>>>>>> upstream/master:Python/Beginner/unit-01-datatypes-reference.ipynb
   "source": [
    "# get last item\n",
    "address[-1]"
   ]
  },
  {
   "cell_type": "code",
<<<<<<< HEAD:Python/Beginner/week-01-unit-01-datatypes.ipynb
   "execution_count": null,
   "metadata": {
    "collapsed": false
   },
   "outputs": [],
=======
   "execution_count": 103,
   "metadata": {
    "collapsed": false
   },
   "outputs": [
    {
     "data": {
      "text/plain": [
       "','"
      ]
     },
     "execution_count": 103,
     "metadata": {},
     "output_type": "execute_result"
    }
   ],
>>>>>>> upstream/master:Python/Beginner/unit-01-datatypes-reference.ipynb
   "source": [
    "# get 7th item from last\n",
    "address[-7]"
   ]
  },
  {
   "cell_type": "code",
<<<<<<< HEAD:Python/Beginner/week-01-unit-01-datatypes.ipynb
   "execution_count": null,
   "metadata": {
    "collapsed": false
   },
   "outputs": [],
=======
   "execution_count": 104,
   "metadata": {
    "collapsed": false
   },
   "outputs": [
    {
     "data": {
      "text/plain": [
       "'Kathmandu-4, Bagmati, Nepal'"
      ]
     },
     "execution_count": 104,
     "metadata": {},
     "output_type": "execute_result"
    }
   ],
>>>>>>> upstream/master:Python/Beginner/unit-01-datatypes-reference.ipynb
   "source": [
    "# get all from 0th item to last item\n",
    "address[:]"
   ]
  },
  {
   "cell_type": "code",
<<<<<<< HEAD:Python/Beginner/week-01-unit-01-datatypes.ipynb
   "execution_count": null,
   "metadata": {
    "collapsed": false
   },
   "outputs": [],
=======
   "execution_count": 105,
   "metadata": {
    "collapsed": false
   },
   "outputs": [
    {
     "data": {
      "text/plain": [
       "'thmandu-4, Bagmati, Nepal'"
      ]
     },
     "execution_count": 105,
     "metadata": {},
     "output_type": "execute_result"
    }
   ],
>>>>>>> upstream/master:Python/Beginner/unit-01-datatypes-reference.ipynb
   "source": [
    "# get from index 2 to last item\n",
    "address[2:]"
   ]
  },
  {
   "cell_type": "code",
<<<<<<< HEAD:Python/Beginner/week-01-unit-01-datatypes.ipynb
   "execution_count": null,
   "metadata": {
    "collapsed": false
   },
   "outputs": [],
=======
   "execution_count": 106,
   "metadata": {
    "collapsed": false
   },
   "outputs": [
    {
     "data": {
      "text/plain": [
       "'Kathm'"
      ]
     },
     "execution_count": 106,
     "metadata": {},
     "output_type": "execute_result"
    }
   ],
>>>>>>> upstream/master:Python/Beginner/unit-01-datatypes-reference.ipynb
   "source": [
    "# get from index 0 to index 4 [ 5 is excluded ]\n",
    "# can be called as 0 upto 5\n",
    "address[:5]"
<<<<<<< HEAD:Python/Beginner/week-01-unit-01-datatypes.ipynb
   ]
  },
  {
   "cell_type": "markdown",
   "metadata": {},
   "source": [
    "*start of slice is inclusive and end of slice is exclusive*"
=======
   ]
  },
  {
   "cell_type": "markdown",
   "metadata": {},
   "source": [
    "*start of slice is inclusive and end of slice is exclusive*"
   ]
  },
  {
   "cell_type": "code",
   "execution_count": 107,
   "metadata": {
    "collapsed": false
   },
   "outputs": [
    {
     "data": {
      "text/plain": [
       "'hman'"
      ]
     },
     "execution_count": 107,
     "metadata": {},
     "output_type": "execute_result"
    }
   ],
   "source": [
    "address[3:7]"
   ]
  },
  {
   "cell_type": "markdown",
   "metadata": {},
   "source": [
    "*step defines which item to get after getting first item*"
>>>>>>> upstream/master:Python/Beginner/unit-01-datatypes-reference.ipynb
   ]
  },
  {
   "cell_type": "code",
<<<<<<< HEAD:Python/Beginner/week-01-unit-01-datatypes.ipynb
   "execution_count": null,
   "metadata": {
    "collapsed": false
   },
   "outputs": [],
   "source": [
    "address[3:7]"
   ]
  },
  {
   "cell_type": "markdown",
   "metadata": {},
   "source": [
    "*step defines which item to get after getting first item*"
=======
   "execution_count": 108,
   "metadata": {
    "collapsed": false
   },
   "outputs": [
    {
     "data": {
      "text/plain": [
       "'hmandu-4, Ba'"
      ]
     },
     "execution_count": 108,
     "metadata": {},
     "output_type": "execute_result"
    }
   ],
   "source": [
    "address[3:15]"
>>>>>>> upstream/master:Python/Beginner/unit-01-datatypes-reference.ipynb
   ]
  },
  {
   "cell_type": "code",
<<<<<<< HEAD:Python/Beginner/week-01-unit-01-datatypes.ipynb
   "execution_count": null,
   "metadata": {
    "collapsed": false
   },
   "outputs": [],
   "source": [
    "address[3:15]"
=======
   "execution_count": 109,
   "metadata": {
    "collapsed": false
   },
   "outputs": [
    {
     "data": {
      "text/plain": [
       "'hmandu-4, Ba'"
      ]
     },
     "execution_count": 109,
     "metadata": {},
     "output_type": "execute_result"
    }
   ],
   "source": [
    "address[3:15:1]"
   ]
  },
  {
   "cell_type": "markdown",
   "metadata": {},
   "source": [
    "*default value of step is 1*"
>>>>>>> upstream/master:Python/Beginner/unit-01-datatypes-reference.ipynb
   ]
  },
  {
   "cell_type": "code",
<<<<<<< HEAD:Python/Beginner/week-01-unit-01-datatypes.ipynb
   "execution_count": null,
   "metadata": {
    "collapsed": false
   },
   "outputs": [],
   "source": [
    "address[3:15:1]"
   ]
  },
  {
   "cell_type": "markdown",
   "metadata": {},
   "source": [
    "*default value of step is 1*"
=======
   "execution_count": 110,
   "metadata": {
    "collapsed": false
   },
   "outputs": [
    {
     "data": {
      "text/plain": [
       "'had-,B'"
      ]
     },
     "execution_count": 110,
     "metadata": {},
     "output_type": "execute_result"
    }
   ],
   "source": [
    "address[3:15:2]"
   ]
  },
  {
   "cell_type": "markdown",
   "metadata": {},
   "source": [
    "*empty end with step value is defined as*"
   ]
  },
  {
   "cell_type": "code",
   "execution_count": 111,
   "metadata": {
    "collapsed": false
   },
   "outputs": [
    {
     "data": {
      "text/plain": [
       "'had-,Bgai ea'"
      ]
     },
     "execution_count": 111,
     "metadata": {},
     "output_type": "execute_result"
    }
   ],
   "source": [
    "address[3::2]"
>>>>>>> upstream/master:Python/Beginner/unit-01-datatypes-reference.ipynb
   ]
  },
  {
   "cell_type": "code",
<<<<<<< HEAD:Python/Beginner/week-01-unit-01-datatypes.ipynb
   "execution_count": null,
   "metadata": {
    "collapsed": false
   },
   "outputs": [],
   "source": [
    "address[3:15:2]"
   ]
  },
  {
   "cell_type": "markdown",
   "metadata": {},
   "source": [
    "*empty end with step value is defined as*"
=======
   "execution_count": 112,
   "metadata": {
    "collapsed": false
   },
   "outputs": [
    {
     "data": {
      "text/plain": [
       "'Ktmnu4 amt,Npl'"
      ]
     },
     "execution_count": 112,
     "metadata": {},
     "output_type": "execute_result"
    }
   ],
   "source": [
    "address[::2]"
>>>>>>> upstream/master:Python/Beginner/unit-01-datatypes-reference.ipynb
   ]
  },
  {
   "cell_type": "code",
<<<<<<< HEAD:Python/Beginner/week-01-unit-01-datatypes.ipynb
   "execution_count": null,
   "metadata": {
    "collapsed": false
   },
   "outputs": [],
   "source": [
    "address[3::2]"
=======
   "execution_count": 113,
   "metadata": {
    "collapsed": false
   },
   "outputs": [
    {
     "data": {
      "text/plain": [
       "'Kathmandu-4, Bagmati, Nepal'"
      ]
     },
     "execution_count": 113,
     "metadata": {},
     "output_type": "execute_result"
    }
   ],
   "source": [
    "address"
>>>>>>> upstream/master:Python/Beginner/unit-01-datatypes-reference.ipynb
   ]
  },
  {
   "cell_type": "code",
<<<<<<< HEAD:Python/Beginner/week-01-unit-01-datatypes.ipynb
   "execution_count": null,
   "metadata": {
    "collapsed": false
   },
   "outputs": [],
   "source": [
    "# start as negative and end as positive value\n",
    "address[-3:7]"
   ]
  },
  {
   "cell_type": "markdown",
   "metadata": {},
   "source": [
=======
   "execution_count": 114,
   "metadata": {
    "collapsed": false
   },
   "outputs": [
    {
     "data": {
      "text/plain": [
       "''"
      ]
     },
     "execution_count": 114,
     "metadata": {},
     "output_type": "execute_result"
    }
   ],
   "source": [
    "# start as negative and end as positive value\n",
    "address[-3:7]"
   ]
  },
  {
   "cell_type": "markdown",
   "metadata": {},
   "source": [
>>>>>>> upstream/master:Python/Beginner/unit-01-datatypes-reference.ipynb
    "*negative step moves window from right to left*"
   ]
  },
  {
   "cell_type": "code",
<<<<<<< HEAD:Python/Beginner/week-01-unit-01-datatypes.ipynb
   "execution_count": null,
   "metadata": {
    "collapsed": false
   },
   "outputs": [],
=======
   "execution_count": 115,
   "metadata": {
    "collapsed": false
   },
   "outputs": [
    {
     "data": {
      "text/plain": [
       "'peN ,itamgaB ,4-u'"
      ]
     },
     "execution_count": 115,
     "metadata": {},
     "output_type": "execute_result"
    }
   ],
>>>>>>> upstream/master:Python/Beginner/unit-01-datatypes-reference.ipynb
   "source": [
    "address[-3:7:-1]"
   ]
  },
  {
   "cell_type": "code",
<<<<<<< HEAD:Python/Beginner/week-01-unit-01-datatypes.ipynb
   "execution_count": null,
   "metadata": {
    "collapsed": false
   },
   "outputs": [],
=======
   "execution_count": 116,
   "metadata": {
    "collapsed": false
   },
   "outputs": [
    {
     "data": {
      "text/plain": [
       "' Bagmati'"
      ]
     },
     "execution_count": 116,
     "metadata": {},
     "output_type": "execute_result"
    }
   ],
>>>>>>> upstream/master:Python/Beginner/unit-01-datatypes-reference.ipynb
   "source": [
    "address[-15:-7]"
   ]
  },
  {
   "cell_type": "code",
<<<<<<< HEAD:Python/Beginner/week-01-unit-01-datatypes.ipynb
   "execution_count": null,
   "metadata": {
    "collapsed": false
   },
   "outputs": [],
=======
   "execution_count": 117,
   "metadata": {
    "collapsed": false
   },
   "outputs": [
    {
     "data": {
      "text/plain": [
       "'lapeN ,itamgaB ,4-udnamhtaK'"
      ]
     },
     "execution_count": 117,
     "metadata": {},
     "output_type": "execute_result"
    }
   ],
>>>>>>> upstream/master:Python/Beginner/unit-01-datatypes-reference.ipynb
   "source": [
    "address[::-1]"
   ]
  },
  {
   "cell_type": "code",
   "execution_count": null,
   "metadata": {
    "collapsed": true
   },
   "outputs": [],
   "source": []
  },
  {
   "cell_type": "markdown",
   "metadata": {},
   "source": [
    "#### String formatting"
   ]
  },
  {
   "cell_type": "code",
<<<<<<< HEAD:Python/Beginner/week-01-unit-01-datatypes.ipynb
   "execution_count": null,
=======
   "execution_count": 134,
   "metadata": {
    "collapsed": false
   },
   "outputs": [
    {
     "data": {
      "text/plain": [
       "'His name is Hari and his age is 42'"
      ]
     },
     "execution_count": 134,
     "metadata": {},
     "output_type": "execute_result"
    }
   ],
   "source": [
    "'His name is Hari and his age is 42'"
   ]
  },
  {
   "cell_type": "code",
   "execution_count": 135,
>>>>>>> upstream/master:Python/Beginner/unit-01-datatypes-reference.ipynb
   "metadata": {
    "collapsed": true
   },
   "outputs": [],
   "source": [
    "name = 'Hari'\n",
    "age = 42"
   ]
  },
  {
   "cell_type": "code",
<<<<<<< HEAD:Python/Beginner/week-01-unit-01-datatypes.ipynb
   "execution_count": null,
   "metadata": {
    "collapsed": false
   },
   "outputs": [],
=======
   "execution_count": 136,
   "metadata": {
    "collapsed": false
   },
   "outputs": [
    {
     "data": {
      "text/plain": [
       "'His name is Hari and his age is 42'"
      ]
     },
     "execution_count": 136,
     "metadata": {},
     "output_type": "execute_result"
    }
   ],
>>>>>>> upstream/master:Python/Beginner/unit-01-datatypes-reference.ipynb
   "source": [
    "'His name is ' + name + ' and his age is ' + str(age)"
   ]
  },
  {
   "cell_type": "markdown",
   "metadata": {},
   "source": [
    "*c printf style*"
   ]
  },
  {
   "cell_type": "code",
<<<<<<< HEAD:Python/Beginner/week-01-unit-01-datatypes.ipynb
   "execution_count": null,
   "metadata": {
    "collapsed": false
   },
   "outputs": [],
=======
   "execution_count": 137,
   "metadata": {
    "collapsed": false
   },
   "outputs": [
    {
     "data": {
      "text/plain": [
       "'His name is Hari and his age is 42'"
      ]
     },
     "execution_count": 137,
     "metadata": {},
     "output_type": "execute_result"
    }
   ],
>>>>>>> upstream/master:Python/Beginner/unit-01-datatypes-reference.ipynb
   "source": [
    "'His name is %s amd his age is %d' % (name, age)"
   ]
  },
  {
   "cell_type": "markdown",
   "metadata": {},
   "source": [
    "*{} are placeholders where values get replaced*"
   ]
  },
  {
   "cell_type": "code",
<<<<<<< HEAD:Python/Beginner/week-01-unit-01-datatypes.ipynb
   "execution_count": null,
   "metadata": {
    "collapsed": false
   },
   "outputs": [],
=======
   "execution_count": 138,
   "metadata": {
    "collapsed": false
   },
   "outputs": [
    {
     "data": {
      "text/plain": [
       "'His name is Hari amd his age is 42'"
      ]
     },
     "execution_count": 138,
     "metadata": {},
     "output_type": "execute_result"
    }
   ],
>>>>>>> upstream/master:Python/Beginner/unit-01-datatypes-reference.ipynb
   "source": [
    "'His name is {} amd his age is {}'.format(name, age)"
   ]
  },
  {
   "cell_type": "markdown",
   "metadata": {},
   "source": [
    "*first argument goes to first {} and second goes to second {}*"
   ]
  },
  {
   "cell_type": "markdown",
   "metadata": {},
   "source": [
    "*Unless there order is defined by numbers*"
   ]
  },
  {
   "cell_type": "code",
<<<<<<< HEAD:Python/Beginner/week-01-unit-01-datatypes.ipynb
   "execution_count": null,
   "metadata": {
    "collapsed": false
   },
   "outputs": [],
=======
   "execution_count": 139,
   "metadata": {
    "collapsed": false
   },
   "outputs": [
    {
     "data": {
      "text/plain": [
       "'His name is Hari amd his age is 42'"
      ]
     },
     "execution_count": 139,
     "metadata": {},
     "output_type": "execute_result"
    }
   ],
>>>>>>> upstream/master:Python/Beginner/unit-01-datatypes-reference.ipynb
   "source": [
    "'His name is {1} amd his age is {0}'.format(age, name)"
   ]
  },
  {
   "cell_type": "markdown",
   "metadata": {},
   "source": [
    "*placeholder can be names as well*"
   ]
  },
  {
   "cell_type": "code",
<<<<<<< HEAD:Python/Beginner/week-01-unit-01-datatypes.ipynb
   "execution_count": null,
   "metadata": {
    "collapsed": false
   },
   "outputs": [],
   "source": [
    "'His name is {name} amd his age is {age}'.format(age=43, name=name)"
   ]
  },
  {
   "cell_type": "code",
   "execution_count": null,
   "metadata": {
    "collapsed": true
   },
   "outputs": [],
   "source": []
  },
  {
   "cell_type": "code",
   "execution_count": null,
   "metadata": {
    "collapsed": true
   },
   "outputs": [],
   "source": []
  },
  {
   "cell_type": "markdown",
   "metadata": {},
=======
   "execution_count": 140,
   "metadata": {
    "collapsed": false
   },
   "outputs": [
    {
     "data": {
      "text/plain": [
       "'His name is Hari amd his age is 43'"
      ]
     },
     "execution_count": 140,
     "metadata": {},
     "output_type": "execute_result"
    }
   ],
>>>>>>> upstream/master:Python/Beginner/unit-01-datatypes-reference.ipynb
   "source": [
    "**H/W work on string slicing more**"
   ]
  },
  {
   "cell_type": "code",
<<<<<<< HEAD:Python/Beginner/week-01-unit-01-datatypes.ipynb
   "execution_count": null,
   "metadata": {
    "collapsed": false
   },
   "outputs": [],
=======
   "execution_count": 141,
   "metadata": {
    "collapsed": false
   },
   "outputs": [
    {
     "data": {
      "text/plain": [
       "'His name is Hari amd his age is 42'"
      ]
     },
     "execution_count": 141,
     "metadata": {},
     "output_type": "execute_result"
    }
   ],
>>>>>>> upstream/master:Python/Beginner/unit-01-datatypes-reference.ipynb
   "source": [
    "2 ** 2"
   ]
  },
  {
   "cell_type": "code",
   "execution_count": null,
   "metadata": {
    "collapsed": false
   },
   "outputs": [],
   "source": [
    "2 ** 4"
   ]
  },
  {
   "cell_type": "code",
   "execution_count": null,
   "metadata": {
    "collapsed": false
   },
   "outputs": [],
   "source": [
    "2 ** 8"
   ]
  },
  {
   "cell_type": "code",
   "execution_count": null,
   "metadata": {
    "collapsed": false
   },
   "outputs": [],
   "source": [
    "2 ** 7"
   ]
  },
  {
   "cell_type": "code",
   "execution_count": null,
   "metadata": {
    "collapsed": false
   },
   "outputs": [],
   "source": [
    "2 ** 15"
   ]
  },
  {
   "cell_type": "markdown",
   "metadata": {},
   "source": [
    "Resources\n",
    "\n",
    "- http://learnpython.org\n",
    "\n",
    "- http://www.diveintopython3.net/\n",
    "\n",
    "- http://www.pythontutor.com"
   ]
  }
 ],
 "metadata": {
  "kernelspec": {
   "display_name": "Python [Root]",
   "language": "python",
   "name": "Python [Root]"
  },
  "language_info": {
   "codemirror_mode": {
    "name": "ipython",
    "version": 3
   },
   "file_extension": ".py",
   "mimetype": "text/x-python",
   "name": "python",
   "nbconvert_exporter": "python",
   "pygments_lexer": "ipython3",
   "version": "3.5.2"
  }
 },
 "nbformat": 4,
 "nbformat_minor": 0
}
